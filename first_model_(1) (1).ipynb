{
  "cells": [
    {
      "cell_type": "code",
      "execution_count": 3,
      "metadata": {
        "colab": {
          "base_uri": "https://localhost:8080/"
        },
        "id": "bF5F5hvjspLp",
        "outputId": "bf63051c-2b7d-419a-8c0b-769b29f87fea"
      },
      "outputs": [
        {
          "output_type": "stream",
          "name": "stdout",
          "text": [
            "Mounted at /content/drive\n"
          ]
        }
      ],
      "source": [
        "from google.colab import drive\n",
        "drive.mount('/content/drive')"
      ]
    },
    {
      "cell_type": "code",
      "execution_count": 4,
      "metadata": {
        "colab": {
          "base_uri": "https://localhost:8080/"
        },
        "id": "CCE0_bX9T5J2",
        "outputId": "1608658d-3c7e-462b-ddf6-2daaa8809162"
      },
      "outputs": [
        {
          "output_type": "stream",
          "name": "stderr",
          "text": [
            "[nltk_data] Downloading package punkt to /root/nltk_data...\n",
            "[nltk_data]   Unzipping tokenizers/punkt.zip.\n",
            "[nltk_data] Downloading package wordnet to /root/nltk_data...\n",
            "[nltk_data] Downloading package stopwords to /root/nltk_data...\n",
            "[nltk_data]   Unzipping corpora/stopwords.zip.\n"
          ]
        }
      ],
      "source": [
        "import nltk\n",
        "nltk.download('punkt')\n",
        "nltk.download('wordnet')\n",
        "from nltk.corpus import stopwords\n",
        "\n",
        "# Download the stop words from NLTK\n",
        "nltk.download('stopwords')\n",
        "stop_words = set(stopwords.words('english'))"
      ]
    },
    {
      "cell_type": "code",
      "execution_count": 5,
      "metadata": {
        "id": "0EejFdoCtZcg"
      },
      "outputs": [],
      "source": [
        "from __future__ import unicode_literals, print_function, division\n",
        "from io import open\n",
        "import unicodedata\n",
        "import string\n",
        "import re\n",
        "import random\n",
        "\n",
        "import torch\n",
        "import torch.nn as nn\n",
        "from torch import optim\n",
        "import torch.nn.functional as F\n",
        "\n",
        "device = torch.device(\"cuda\" if torch.cuda.is_available() else \"cpu\")"
      ]
    },
    {
      "cell_type": "code",
      "execution_count": 6,
      "metadata": {
        "id": "F7mJG2Yk7d3o"
      },
      "outputs": [],
      "source": [
        "import pandas as pd\n",
        "from nltk.corpus import stopwords\n",
        "from nltk.tokenize import word_tokenize\n",
        "\n",
        "def remove_stop_words(text):\n",
        "    stop_words = set(stopwords.words('english'))\n",
        "    word_tokens = word_tokenize(text)\n",
        "    filtered_text = ' '.join([word for word in word_tokens if word.lower() not in stop_words])\n",
        "    return filtered_text\n",
        "df = pd.read_csv(\"/content/drive/MyDrive/Cooking_Dataset/Cooking_Dataset/train.csv\")\n",
        "df = df.sample(frac=1).reset_index(drop=True)\n",
        "df = df[0:5000]\n",
        "for x in range(len(df['Recipe'])):\n",
        "    if type(df['Recipe'][x]) != str:\n",
        "        df['Recipe'][x] = ''\n",
        "df2 = pd.read_csv(\"/content/drive/MyDrive/Cooking_Dataset/Cooking_Dataset/dev.csv\")\n",
        "for x in range(len(df2['Recipe'])):\n",
        "    if type(df2['Recipe'][x]) != str:\n",
        "        df2['Recipe'][x] = ''\n",
        "# Apply the function to the DataFrame columns\n",
        "df['Ingredients'] = df['Ingredients'].apply(remove_stop_words)\n",
        "df['Recipe'] = df['Recipe'].apply(remove_stop_words)\n",
        "df['Ingredients'] = df['Ingredients'].str.lower()\n",
        "df['Recipe'] = df['Recipe'].str.lower()\n",
        "df2['Ingredients'] = df2['Ingredients'].apply(remove_stop_words)\n",
        "df2['Recipe'] = df2['Recipe'].apply(remove_stop_words)\n",
        "df2['Ingredients'] = df2['Ingredients'].str.lower()\n",
        "df2['Recipe'] = df2['Recipe'].str.lower()"
      ]
    },
    {
      "cell_type": "code",
      "execution_count": 7,
      "metadata": {
        "colab": {
          "base_uri": "https://localhost:8080/"
        },
        "id": "QYxvRzD7DvfN",
        "outputId": "a3d4b842-9674-4bbc-dbfc-e339daf6d7d9"
      },
      "outputs": [
        {
          "output_type": "stream",
          "name": "stdout",
          "text": [
            "Maximum length of strings in 'Ingredients' column: 150\n",
            "Reading lines...\n",
            "Read 5000 sentence pairs\n",
            "Trimmed to 4747 sentence pairs\n",
            "Counting words...\n",
            "Counted words:\n",
            "eng2 4346\n",
            "eng 8018\n",
            "[' c powdered sugar sifted ds salt c raspberries fresh crushed ts lemon juice', 'add sugar salt crushed fruit mixing well . add lemon juice consistency spread thinly cake .']\n",
            "Reading lines...\n",
            "Read 797 sentence pairs\n",
            "Trimmed to 764 sentence pairs\n",
            "Counting words...\n",
            "Counted words:\n",
            "eng2 1891\n",
            "eng 3506\n",
            "[' lb boneless lamb leg shoulder tb kikkoman soy sauce divided tb cornstarch garlic cloves pressed ts cornstarch ts sesame seed toasted ts sugar ts to . . . ts crushed red pepper tb vegetable oil divided carrots cut diagonally thin slices bn green onions cut inch lengths separating whites tops', 'cut lamb across grain thin slices . combine tbsp . soy sauce cornstarch garlic stir lamb . let stand minutes . meanwhile combine remaining soy sauce cup water next ingredients set aside . heat tbsp . oil hot wok large skillet high heat . add lamb stir fry minute . add lamb soy sauce mixture cook stir sauce boils thickens .']\n"
          ]
        }
      ],
      "source": [
        "import pandas as pd\n",
        "import re\n",
        "import unicodedata\n",
        "import random\n",
        "import torch\n",
        "\n",
        "\n",
        "file_path = \"\"\n",
        "\n",
        "# MAX_LENGTH = df['Ingredients'].str.len().max()\n",
        "MAX_LENGTH = 150\n",
        "print(\"Maximum length of strings in 'Ingredients' column:\", MAX_LENGTH)\n",
        "with open(\"1.txt\", \"w\") as file:\n",
        "    for index, row in df.iterrows():\n",
        "        file.write(f\"{row['Recipe']}:::{row['Ingredients']}\\n\")\n",
        "\n",
        "SOS_token = 0\n",
        "EOS_token = 1\n",
        "UNK_token = 2\n",
        "\n",
        "class Lang:\n",
        "    def __init__(self, name):\n",
        "        self.name = name\n",
        "        self.word2index = {}\n",
        "        self.word2count = {}\n",
        "        self.index2word = {0: \"SOS\", 1: \"EOS\", 2: \"UNK\"}\n",
        "        self.n_words = 3  # Count SOS, EOS, and UNK\n",
        "\n",
        "    def addSentence(self, sentence):\n",
        "        for word in sentence.split(' '):\n",
        "            self.addWord(word)\n",
        "\n",
        "    def addWord(self, word):\n",
        "        if word not in self.word2index:\n",
        "            self.word2index[word] = self.n_words\n",
        "            self.word2count[word] = 1\n",
        "            self.index2word[self.n_words] = word\n",
        "            self.n_words += 1\n",
        "        else:\n",
        "            self.word2count[word] += 1\n",
        "\n",
        "def unicodeToAscii(s):\n",
        "    return ''.join(\n",
        "        c for c in unicodedata.normalize('NFD', s)\n",
        "        if unicodedata.category(c) != 'Mn'\n",
        "    )\n",
        "\n",
        "def normalizeString(s):\n",
        "    s = unicodeToAscii(s.lower().strip())\n",
        "    s = re.sub(r\"([.!?])\", r\" \\1\", s)\n",
        "    s = re.sub(r\"[^a-zA-Z.!?]+\", r\" \", s)\n",
        "    return s\n",
        "\n",
        "def readLangs(lang1, lang2, reverse=False):\n",
        "    print(\"Reading lines...\")\n",
        "\n",
        "    # Read the file and split into lines\n",
        "    file_name = file_path + '1.txt'\n",
        "    lines = open(file_name, encoding='utf-8').\\\n",
        "        read().strip().split('\\n')\n",
        "\n",
        "    # Split every line into pairs and normalize\n",
        "    pairs = [[normalizeString(s) for s in l.split(':::')] for l in lines]\n",
        "\n",
        "    # Reverse pairs, make Lang instances\n",
        "    if reverse:\n",
        "        pairs = [list(reversed(p)) for p in pairs]\n",
        "        input_lang = Lang(lang2)\n",
        "        output_lang = Lang(lang1)\n",
        "    else:\n",
        "        input_lang = Lang(lang1)\n",
        "        output_lang = Lang(lang2)\n",
        "\n",
        "    return input_lang, output_lang, pairs\n",
        "\n",
        "def filterPair(p):\n",
        "    return len(p[0].split(' ')) < MAX_LENGTH and \\\n",
        "        len(p[1].split(' ')) < MAX_LENGTH\n",
        "\n",
        "def filterPairs(pairs):\n",
        "    return [pair for pair in pairs if filterPair(pair)]\n",
        "\n",
        "def prepareData(lang1, lang2, reverse=False):\n",
        "    input_lang, output_lang, pairs = readLangs(lang1, lang2, reverse)\n",
        "    print(\"Read %s sentence pairs\" % len(pairs))\n",
        "    pairs = filterPairs(pairs)\n",
        "    print(\"Trimmed to %s sentence pairs\" % len(pairs))\n",
        "    print(\"Counting words...\")\n",
        "    for pair in pairs:\n",
        "        input_lang.addSentence(pair[0])\n",
        "        output_lang.addSentence(pair[1])\n",
        "    print(\"Counted words:\")\n",
        "    print(input_lang.name, input_lang.n_words)\n",
        "    print(output_lang.name, output_lang.n_words)\n",
        "    return input_lang, output_lang, pairs\n",
        "\n",
        "input_lang, output_lang, pairs = prepareData('eng', 'eng2', True)\n",
        "print(random.choice(pairs))\n",
        "\n",
        "def indexesFromSentence(lang, sentence):\n",
        "    return [lang.word2index.get(word, UNK_token) for word in sentence.split(' ')]\n",
        "\n",
        "def tensorFromSentence(lang, sentence):\n",
        "    indexes = indexesFromSentence(lang, sentence)\n",
        "    indexes.append(EOS_token)\n",
        "    return torch.tensor(indexes, dtype=torch.long, device=device).view(-1, 1)\n",
        "\n",
        "def tensorsFromPair(pair):\n",
        "    input_tensor = tensorFromSentence(input_lang, pair[0])\n",
        "    target_tensor = tensorFromSentence(output_lang, pair[1])\n",
        "    return (input_tensor, target_tensor)\n",
        "\n",
        "with open(\"2.txt\", \"w\") as file:\n",
        "    for index, row in df2.iterrows():\n",
        "        file.write(f\"{row['Recipe']}:::{row['Ingredients']}\\n\")\n",
        "\n",
        "def readLangs(lang1, lang2, reverse=False):\n",
        "    print(\"Reading lines...\")\n",
        "\n",
        "    # Read the file and split into lines\n",
        "    file_name = file_path + '2.txt'\n",
        "    lines = open(file_name, encoding='utf-8').\\\n",
        "        read().strip().split('\\n')\n",
        "\n",
        "    # Split every line into pairs and normalize\n",
        "    pairs = [[normalizeString(s) for s in l.split(':::')] for l in lines]\n",
        "\n",
        "    # Reverse pairs, make Lang instances\n",
        "    if reverse:\n",
        "        pairs = [list(reversed(p)) for p in pairs]\n",
        "        input_lang = Lang(lang2)\n",
        "        output_lang = Lang(lang1)\n",
        "    else:\n",
        "        input_lang = Lang(lang1)\n",
        "        output_lang = Lang(lang2)\n",
        "\n",
        "    return input_lang, output_lang, pairs\n",
        "\n",
        "dev_input_lang, dev_output_lang, dev_pairs = prepareData('eng', 'eng2', True)\n",
        "print(random.choice(dev_pairs))\n"
      ]
    },
    {
      "cell_type": "markdown",
      "source": [
        "BASELINE 1"
      ],
      "metadata": {
        "id": "vrUmm_z4X6C3"
      }
    },
    {
      "cell_type": "code",
      "execution_count": 8,
      "metadata": {
        "id": "blTvcCVKuHrR"
      },
      "outputs": [],
      "source": [
        "class EncoderRNN(nn.Module):\n",
        "    def __init__(self, input_size, hidden_size):\n",
        "        super(EncoderRNN, self).__init__()\n",
        "        self.hidden_size = hidden_size\n",
        "        self.embedding = nn.Embedding(input_size, hidden_size)\n",
        "        self.lstm = nn.LSTM(hidden_size, hidden_size)\n",
        "\n",
        "    def forward(self, input, hidden):\n",
        "        embedded = self.embedding(input).view(1, 1, -1)\n",
        "        output = embedded\n",
        "        output, hidden = self.lstm(output, hidden)\n",
        "        return output, hidden\n",
        "\n",
        "    def initHidden(self):\n",
        "        return torch.zeros(1, 1, self.hidden_size, device=device), torch.zeros(1, 1, self.hidden_size, device=device)"
      ]
    },
    {
      "cell_type": "code",
      "execution_count": 9,
      "metadata": {
        "id": "6PpJ549duH0o"
      },
      "outputs": [],
      "source": [
        "class DecoderRNN(nn.Module):\n",
        "    def __init__(self, hidden_size, output_size):\n",
        "        super(DecoderRNN, self).__init__()\n",
        "        self.hidden_size = hidden_size\n",
        "        self.embedding = nn.Embedding(output_size, hidden_size)\n",
        "        self.lstm = nn.LSTM(hidden_size, hidden_size)\n",
        "        self.out = nn.Linear(hidden_size, output_size)\n",
        "        self.softmax = nn.LogSoftmax(dim=1)\n",
        "    def forward(self, input, hidden):\n",
        "        output = self.embedding(input).view(1, 1, -1)\n",
        "        output = F.relu(output)\n",
        "        output, hidden = self.lstm(output, hidden)\n",
        "        output = self.softmax(self.out(output[0]))\n",
        "        return output, hidden\n",
        "    def initHidden(self):\n",
        "        return torch.zeros(1, 1, self.hidden_size, device=device), torch.zeros(1, 1, self.hidden_size, device=device)"
      ]
    },
    {
      "cell_type": "code",
      "execution_count": 10,
      "metadata": {
        "id": "P3AXLS4nuH4i"
      },
      "outputs": [],
      "source": [
        "teacher_forcing_ratio = 1\n",
        "def train(input_tensor, target_tensor, encoder, decoder, encoder_optimizer, decoder_optimizer, criterion, max_length=MAX_LENGTH):\n",
        "    encoder_hidden = encoder.initHidden()\n",
        "    encoder_optimizer.zero_grad()\n",
        "    decoder_optimizer.zero_grad()\n",
        "    input_length = input_tensor.size(0)\n",
        "    target_length = target_tensor.size(0)\n",
        "    encoder_outputs = torch.zeros(max_length, encoder.hidden_size, device=device)\n",
        "    loss = 0\n",
        "    for ei in range(input_length):\n",
        "        encoder_output, encoder_hidden = encoder(\n",
        "            input_tensor[ei], encoder_hidden)\n",
        "        encoder_outputs[ei] = encoder_output[0, 0]\n",
        "    decoder_input = torch.tensor([[SOS_token]], device=device)\n",
        "    decoder_hidden = encoder_hidden\n",
        "    use_teacher_forcing = True if random.random() < teacher_forcing_ratio else False\n",
        "    if use_teacher_forcing:\n",
        "        for di in range(target_length):\n",
        "            decoder_output, decoder_hidden = decoder(\n",
        "                decoder_input, decoder_hidden)\n",
        "            loss += criterion(decoder_output, target_tensor[di])\n",
        "            decoder_input = target_tensor[di]\n",
        "    else:\n",
        "        for di in range(target_length):\n",
        "            decoder_output, decoder_hidden = decoder(\n",
        "                decoder_input, decoder_hidden)\n",
        "            topv, topi = decoder_output.topk(1)\n",
        "            decoder_input = topi.squeeze().detach()\n",
        "            loss += criterion(decoder_output, target_tensor[di])\n",
        "            if decoder_input.item() == EOS_token:\n",
        "                break\n",
        "    loss.backward()\n",
        "    encoder_optimizer.step()\n",
        "    decoder_optimizer.step()\n",
        "    return loss.item() / target_length"
      ]
    },
    {
      "cell_type": "code",
      "execution_count": 11,
      "metadata": {
        "id": "dO7VnhhJukxH"
      },
      "outputs": [],
      "source": [
        "import time\n",
        "import math\n",
        "def asMinutes(s):\n",
        "    m = math.floor(s / 60)\n",
        "    s -= m * 60\n",
        "    return '%dm %ds' % (m, s)\n",
        "def timeSince(since, percent):\n",
        "    now = time.time()\n",
        "    s = now - since\n",
        "    es = s / (percent)\n",
        "    rs = es - s\n",
        "    return '%s (- %s)' % (asMinutes(s), asMinutes(rs))"
      ]
    },
    {
      "cell_type": "code",
      "execution_count": 12,
      "metadata": {
        "id": "-SmUDlGfsZ6A"
      },
      "outputs": [],
      "source": [
        "def trainIters(encoder, decoder, n_iters, print_every=1000, plot_every=100, learning_rate=0.01):\n",
        "    start = time.time()\n",
        "    plot_losses = []\n",
        "    dll = []\n",
        "    print_loss_total = 0\n",
        "    plot_loss_total = 0\n",
        "    encoder_optimizer = optim.Adam(encoder.parameters(), lr=learning_rate)\n",
        "    decoder_optimizer = optim.Adam(decoder.parameters(), lr=learning_rate)\n",
        "    training_pairs = [tensorsFromPair(random.choice(pairs))\n",
        "                      for i in range(n_iters)]\n",
        "    dev_pairs2 = [tensorsFromPair(random.choice(dev_pairs))\n",
        "                      for i in range(n_iters)]\n",
        "    criterion = nn.NLLLoss()\n",
        "    for iter in range(1, n_iters + 1):\n",
        "        training_pair = training_pairs[iter - 1]\n",
        "        input_tensor = training_pair[0]\n",
        "        target_tensor = training_pair[1]\n",
        "        loss = train(input_tensor, target_tensor, encoder,\n",
        "                     decoder, encoder_optimizer, decoder_optimizer, criterion)\n",
        "        print_loss_total += loss\n",
        "        plot_loss_total += loss\n",
        "        if iter % print_every == 0:\n",
        "            print_loss_avg = print_loss_total / print_every\n",
        "            print_loss_total = 0\n",
        "            print('%s (%d %d%%) %.4f' % (timeSince(start, iter / n_iters),\n",
        "                                         iter, iter / n_iters * 100, print_loss_avg))\n",
        "            # Calculate development loss\n",
        "            dl = 0\n",
        "            with torch.no_grad():\n",
        "              for d in dev_pairs2:\n",
        "                input_tensor = d[0]\n",
        "                target_tensor = d[1]\n",
        "                loss2 = evaluate2(input_tensor, target_tensor, encoder, decoder,criterion)\n",
        "                dl += loss2\n",
        "            dl / len(dev_pairs2)\n",
        "            dl_avg = dl / len(dev_pairs2)\n",
        "            dll.append((iter, dl_avg))\n",
        "            print('Dev Loss is: %.4f' % dl_avg)\n",
        "        if iter % plot_every == 0:\n",
        "            plot_loss_avg = plot_loss_total / plot_every\n",
        "            plot_losses.append((iter, plot_loss_avg))\n",
        "            plot_loss_total = 0\n",
        "    showPlot(plot_losses, dll)\n",
        "\n",
        "def evaluate2(input_tensor, target_tensor, encoder, decoder, criterion):\n",
        "    with torch.no_grad():\n",
        "        encoder_hidden = encoder.initHidden()\n",
        "        input_length = input_tensor.size(0)\n",
        "        target_length = target_tensor.size(0)\n",
        "        encoder_outputs = torch.zeros(MAX_LENGTH, encoder.hidden_size, device=device)\n",
        "        loss = 0\n",
        "        for ei in range(input_length):\n",
        "            encoder_output, encoder_hidden = encoder(input_tensor[ei],\n",
        "                                                     encoder_hidden)\n",
        "            encoder_outputs[ei] = encoder_output[0, 0]\n",
        "        decoder_input = torch.tensor([[SOS_token]], device=device)\n",
        "        decoder_hidden = encoder_hidden\n",
        "        for di in range(target_length):\n",
        "            decoder_output, decoder_hidden = decoder(decoder_input, decoder_hidden)\n",
        "            topv, topi = decoder_output.topk(1)\n",
        "            decoder_input = topi.squeeze().detach()\n",
        "            loss += criterion(decoder_output, target_tensor[di])\n",
        "            if decoder_input.item() == EOS_token:\n",
        "                break\n",
        "    return loss.item() / target_length\n",
        "\n",
        "def evaluate(encoder, decoder, sentence, max_length=MAX_LENGTH):\n",
        "    with torch.no_grad():\n",
        "        input_tensor = tensorFromSentence(input_lang, sentence)\n",
        "        input_length = input_tensor.size()[0]\n",
        "        encoder_hidden = encoder.initHidden()\n",
        "        encoder_outputs = torch.zeros(max_length, encoder.hidden_size, device=device)\n",
        "        for ei in range(input_length):\n",
        "            encoder_output, encoder_hidden = encoder(input_tensor[ei],\n",
        "                                                     encoder_hidden)\n",
        "            encoder_outputs[ei] += encoder_output[0, 0]\n",
        "        decoder_input = torch.tensor([[SOS_token]], device=device)\n",
        "        decoder_hidden = encoder_hidden\n",
        "        decoded_words = []\n",
        "        decoder_attentions = torch.zeros(max_length, max_length)\n",
        "        for di in range(max_length):\n",
        "            decoder_output, decoder_hidden = decoder(\n",
        "                decoder_input, decoder_hidden)\n",
        "            topv, topi = decoder_output.data.topk(1)\n",
        "            if topi.item() == EOS_token:\n",
        "                decoded_words.append('<EOS>')\n",
        "                break\n",
        "            else:\n",
        "                decoded_words.append(output_lang.index2word[topi.item()])\n",
        "            decoder_input = topi.squeeze().detach()\n",
        "        return decoded_words"
      ]
    },
    {
      "cell_type": "code",
      "source": [
        "import matplotlib.pyplot as plt\n",
        "plt.switch_backend('agg')\n",
        "import matplotlib.ticker as ticker\n",
        "import numpy as np\n",
        "%matplotlib inline\n",
        "def showPlot(tl, dl):\n",
        "    plt.figure()\n",
        "    fig, ax = plt.subplots()\n",
        "    tli, tlv = zip(*tl)\n",
        "    di, dv = zip(*dl)\n",
        "    ax.plot(tli, tlv, 'b-', label='Training Loss')\n",
        "    ax.plot(di, dv, 'r--', label='Development Loss')\n",
        "    ax.set_xlabel('Iterations numbers')\n",
        "    ax.set_ylabel('Loss values')\n",
        "    ax.set_title('Training and Dev Losses')\n",
        "    ax.legend()\n",
        "    plt.show()"
      ],
      "metadata": {
        "id": "azYe6etvf6sy"
      },
      "execution_count": 13,
      "outputs": []
    },
    {
      "cell_type": "code",
      "execution_count": null,
      "metadata": {
        "colab": {
          "base_uri": "https://localhost:8080/",
          "height": 626
        },
        "id": "yEmK5TRDux4i",
        "outputId": "7b6dca03-23ef-4dea-ad5a-4eacafcc034f"
      },
      "outputs": [
        {
          "name": "stdout",
          "output_type": "stream",
          "text": [
            "1m 47s (- 16m 5s) (1000 10%) 5.6204\n",
            "3m 30s (- 14m 3s) (2000 20%) 4.6957\n",
            "5m 19s (- 12m 25s) (3000 30%) 4.3003\n",
            "7m 1s (- 10m 32s) (4000 40%) 4.1154\n",
            "8m 47s (- 8m 47s) (5000 50%) 3.9635\n",
            "10m 28s (- 6m 58s) (6000 60%) 3.9020\n",
            "12m 9s (- 5m 12s) (7000 70%) 3.7998\n",
            "13m 55s (- 3m 28s) (8000 80%) 3.7220\n",
            "15m 37s (- 1m 44s) (9000 90%) 3.6506\n",
            "17m 21s (- 0m 0s) (10000 100%) 3.6052\n"
          ]
        },
        {
          "data": {
            "text/plain": [
              "<Figure size 640x480 with 0 Axes>"
            ]
          },
          "metadata": {},
          "output_type": "display_data"
        },
        {
          "data": {
            "image/png": "[encoded data removed]",
            "text/plain": [
              "<Figure size 640x480 with 1 Axes>"
            ]
          },
          "metadata": {},
          "output_type": "display_data"
        }
      ],
      "source": [
        "hidden_size = 256\n",
        "encoder1 = EncoderRNN(input_lang.n_words, hidden_size).to(device)\n",
        "decoder1 = DecoderRNN(hidden_size, output_lang.n_words).to(device)\n",
        "\n",
        "trainIters(encoder1, decoder1, 10000, print_every=1000)"
      ]
    },
    {
      "cell_type": "code",
      "source": [
        "hidden_size = 256\n",
        "encoder1 = EncoderRNN(input_lang.n_words, hidden_size).to(device)\n",
        "decoder1 = DecoderRNN(hidden_size, output_lang.n_words).to(device)\n",
        "trainIters(encoder1, decoder1, 10000, print_every=1000)"
      ],
      "metadata": {
        "colab": {
          "base_uri": "https://localhost:8080/",
          "height": 400
        },
        "id": "FtyaL1Pnf-LA",
        "outputId": "01abdc2a-8f82-47a3-dca6-1a84a1b1a677"
      },
      "execution_count": null,
      "outputs": [
        {
          "output_type": "stream",
          "name": "stdout",
          "text": [
            "1m 27s (- 13m 7s) (1000 10%) 5.9084\n",
            "6m 29s (- 25m 58s) (2000 20%) 5.8311\n",
            "11m 1s (- 25m 44s) (3000 30%) 5.5978\n",
            "15m 29s (- 23m 14s) (4000 40%) 5.5279\n"
          ]
        },
        {
          "output_type": "error",
          "ename": "KeyboardInterrupt",
          "evalue": "",
          "traceback": [
            "\u001b[0;31m---------------------------------------------------------------------------\u001b[0m",
            "\u001b[0;31mKeyboardInterrupt\u001b[0m                         Traceback (most recent call last)",
            "\u001b[0;32m<ipython-input-13-694d312f3716>\u001b[0m in \u001b[0;36m<cell line: 4>\u001b[0;34m()\u001b[0m\n\u001b[1;32m      2\u001b[0m \u001b[0mencoder1\u001b[0m \u001b[0;34m=\u001b[0m \u001b[0mEncoderRNN\u001b[0m\u001b[0;34m(\u001b[0m\u001b[0minput_lang\u001b[0m\u001b[0;34m.\u001b[0m\u001b[0mn_words\u001b[0m\u001b[0;34m,\u001b[0m \u001b[0mhidden_size\u001b[0m\u001b[0;34m)\u001b[0m\u001b[0;34m.\u001b[0m\u001b[0mto\u001b[0m\u001b[0;34m(\u001b[0m\u001b[0mdevice\u001b[0m\u001b[0;34m)\u001b[0m\u001b[0;34m\u001b[0m\u001b[0;34m\u001b[0m\u001b[0m\n\u001b[1;32m      3\u001b[0m \u001b[0mdecoder1\u001b[0m \u001b[0;34m=\u001b[0m \u001b[0mDecoderRNN\u001b[0m\u001b[0;34m(\u001b[0m\u001b[0mhidden_size\u001b[0m\u001b[0;34m,\u001b[0m \u001b[0moutput_lang\u001b[0m\u001b[0;34m.\u001b[0m\u001b[0mn_words\u001b[0m\u001b[0;34m)\u001b[0m\u001b[0;34m.\u001b[0m\u001b[0mto\u001b[0m\u001b[0;34m(\u001b[0m\u001b[0mdevice\u001b[0m\u001b[0;34m)\u001b[0m\u001b[0;34m\u001b[0m\u001b[0;34m\u001b[0m\u001b[0m\n\u001b[0;32m----> 4\u001b[0;31m \u001b[0mtrainIters\u001b[0m\u001b[0;34m(\u001b[0m\u001b[0mencoder1\u001b[0m\u001b[0;34m,\u001b[0m \u001b[0mdecoder1\u001b[0m\u001b[0;34m,\u001b[0m \u001b[0;36m10000\u001b[0m\u001b[0;34m,\u001b[0m \u001b[0mprint_every\u001b[0m\u001b[0;34m=\u001b[0m\u001b[0;36m1000\u001b[0m\u001b[0;34m)\u001b[0m\u001b[0;34m\u001b[0m\u001b[0;34m\u001b[0m\u001b[0m\n\u001b[0m",
            "\u001b[0;32m<ipython-input-11-833eb97d6757>\u001b[0m in \u001b[0;36mtrainIters\u001b[0;34m(encoder, decoder, n_iters, print_every, plot_every, learning_rate)\u001b[0m\n\u001b[1;32m     31\u001b[0m                 \u001b[0minput_tensor\u001b[0m \u001b[0;34m=\u001b[0m \u001b[0md\u001b[0m\u001b[0;34m[\u001b[0m\u001b[0;36m0\u001b[0m\u001b[0;34m]\u001b[0m\u001b[0;34m\u001b[0m\u001b[0;34m\u001b[0m\u001b[0m\n\u001b[1;32m     32\u001b[0m                 \u001b[0mtarget_tensor\u001b[0m \u001b[0;34m=\u001b[0m \u001b[0md\u001b[0m\u001b[0;34m[\u001b[0m\u001b[0;36m1\u001b[0m\u001b[0;34m]\u001b[0m\u001b[0;34m\u001b[0m\u001b[0;34m\u001b[0m\u001b[0m\n\u001b[0;32m---> 33\u001b[0;31m                 \u001b[0mloss2\u001b[0m \u001b[0;34m=\u001b[0m \u001b[0mevaluate2\u001b[0m\u001b[0;34m(\u001b[0m\u001b[0minput_tensor\u001b[0m\u001b[0;34m,\u001b[0m \u001b[0mtarget_tensor\u001b[0m\u001b[0;34m,\u001b[0m \u001b[0mencoder\u001b[0m\u001b[0;34m,\u001b[0m \u001b[0mdecoder\u001b[0m\u001b[0;34m,\u001b[0m\u001b[0mcriterion\u001b[0m\u001b[0;34m)\u001b[0m\u001b[0;34m\u001b[0m\u001b[0;34m\u001b[0m\u001b[0m\n\u001b[0m\u001b[1;32m     34\u001b[0m                 \u001b[0mdl\u001b[0m \u001b[0;34m+=\u001b[0m \u001b[0mloss2\u001b[0m\u001b[0;34m\u001b[0m\u001b[0;34m\u001b[0m\u001b[0m\n\u001b[1;32m     35\u001b[0m             \u001b[0mdl\u001b[0m \u001b[0;34m/\u001b[0m \u001b[0mlen\u001b[0m\u001b[0;34m(\u001b[0m\u001b[0mdev_pairs2\u001b[0m\u001b[0;34m)\u001b[0m\u001b[0;34m\u001b[0m\u001b[0;34m\u001b[0m\u001b[0m\n",
            "\u001b[0;32m<ipython-input-11-833eb97d6757>\u001b[0m in \u001b[0;36mevaluate2\u001b[0;34m(input_tensor, target_tensor, encoder, decoder, criterion)\u001b[0m\n\u001b[1;32m     52\u001b[0m             encoder_output, encoder_hidden = encoder(input_tensor[ei],\n\u001b[1;32m     53\u001b[0m                                                      encoder_hidden)\n\u001b[0;32m---> 54\u001b[0;31m             \u001b[0mencoder_outputs\u001b[0m\u001b[0;34m[\u001b[0m\u001b[0mei\u001b[0m\u001b[0;34m]\u001b[0m \u001b[0;34m=\u001b[0m \u001b[0mencoder_output\u001b[0m\u001b[0;34m[\u001b[0m\u001b[0;36m0\u001b[0m\u001b[0;34m,\u001b[0m \u001b[0;36m0\u001b[0m\u001b[0;34m]\u001b[0m\u001b[0;34m\u001b[0m\u001b[0;34m\u001b[0m\u001b[0m\n\u001b[0m\u001b[1;32m     55\u001b[0m         \u001b[0mdecoder_input\u001b[0m \u001b[0;34m=\u001b[0m \u001b[0mtorch\u001b[0m\u001b[0;34m.\u001b[0m\u001b[0mtensor\u001b[0m\u001b[0;34m(\u001b[0m\u001b[0;34m[\u001b[0m\u001b[0;34m[\u001b[0m\u001b[0mSOS_token\u001b[0m\u001b[0;34m]\u001b[0m\u001b[0;34m]\u001b[0m\u001b[0;34m,\u001b[0m \u001b[0mdevice\u001b[0m\u001b[0;34m=\u001b[0m\u001b[0mdevice\u001b[0m\u001b[0;34m)\u001b[0m\u001b[0;34m\u001b[0m\u001b[0;34m\u001b[0m\u001b[0m\n\u001b[1;32m     56\u001b[0m         \u001b[0mdecoder_hidden\u001b[0m \u001b[0;34m=\u001b[0m \u001b[0mencoder_hidden\u001b[0m\u001b[0;34m\u001b[0m\u001b[0;34m\u001b[0m\u001b[0m\n",
            "\u001b[0;31mKeyboardInterrupt\u001b[0m: "
          ]
        }
      ]
    },
    {
      "cell_type": "code",
      "source": [
        "hidden_size = 256\n",
        "encoder1 = EncoderRNN(input_lang.n_words, hidden_size).to(device)\n",
        "decoder1 = DecoderRNN(hidden_size, output_lang.n_words).to(device)\n",
        "\n",
        "trainIters(encoder1, decoder1, 10000, print_every=1000)"
      ],
      "metadata": {
        "colab": {
          "base_uri": "https://localhost:8080/",
          "height": 847
        },
        "id": "PgT2XZ5mYkPu",
        "outputId": "8174b7f2-8c96-409c-a963-d01b6438ed0d"
      },
      "execution_count": 22,
      "outputs": [
        {
          "output_type": "stream",
          "name": "stdout",
          "text": [
            "1m 33s (- 14m 0s) (1000 10%) Training Loss: 5.2320\n",
            "Dev Loss: 4.0537\n",
            "3m 19s (- 13m 17s) (2000 20%) Training Loss: 4.7244\n",
            "Dev Loss: 7.5774\n",
            "5m 19s (- 12m 25s) (3000 30%) Training Loss: 4.5549\n",
            "Dev Loss: 3.7351\n",
            "7m 6s (- 10m 40s) (4000 40%) Training Loss: 4.4544\n",
            "Dev Loss: 3.8976\n",
            "8m 55s (- 8m 55s) (5000 50%) Training Loss: 4.4258\n",
            "Dev Loss: 8.6804\n",
            "10m 55s (- 7m 17s) (6000 60%) Training Loss: 4.3670\n",
            "Dev Loss: 4.7012\n",
            "12m 43s (- 5m 27s) (7000 70%) Training Loss: 4.3279\n",
            "Dev Loss: 7.7667\n",
            "14m 40s (- 3m 40s) (8000 80%) Training Loss: 4.3119\n",
            "Dev Loss: 5.5144\n",
            "16m 26s (- 1m 49s) (9000 90%) Training Loss: 4.3015\n",
            "Dev Loss: 5.1630\n",
            "18m 17s (- 0m 0s) (10000 100%) Training Loss: 4.2576\n",
            "Dev Loss: 5.0244\n"
          ]
        },
        {
          "output_type": "display_data",
          "data": {
            "text/plain": [
              "<Figure size 640x480 with 0 Axes>"
            ]
          },
          "metadata": {}
        },
        {
          "output_type": "display_data",
          "data": {
            "text/plain": [
              "<Figure size 640x480 with 1 Axes>"
            ],
            "image/png": "[encoded data removed]"
          },
          "metadata": {}
        }
      ]
    },
    {
      "cell_type": "markdown",
      "source": [
        "Baseline 2 with attention"
      ],
      "metadata": {
        "id": "R-sK-3O2UIGF"
      }
    },
    {
      "cell_type": "code",
      "source": [
        "import torch\n",
        "import torch.nn as nn\n",
        "\n",
        "class EncoderRNN(nn.Module):\n",
        "    def __init__(self, input_size, hidden_size):\n",
        "        super(EncoderRNN, self).__init__()\n",
        "        self.hidden_size = hidden_size\n",
        "\n",
        "        self.embedding = nn.Embedding(input_size, hidden_size)\n",
        "        self.lstm = nn.LSTM(hidden_size, hidden_size)\n",
        "\n",
        "    def forward(self, input, hidden):\n",
        "        embedded = self.embedding(input).view(1, 1, -1)\n",
        "        output = embedded\n",
        "        output, hidden = self.lstm(output, hidden)\n",
        "        return output, hidden\n",
        "\n",
        "    def initHidden(self,device):\n",
        "        return torch.zeros(1, 1, self.hidden_size, device=device), torch.zeros(1, 1, self.hidden_size, device=device)"
      ],
      "metadata": {
        "id": "NWgGeaX3UGyB"
      },
      "execution_count": 14,
      "outputs": []
    },
    {
      "cell_type": "code",
      "source": [
        "class AttnDecoderRNN(nn.Module):\n",
        "    def __init__(self, hidden_size, output_size, dropout_p=0.1, max_length=MAX_LENGTH):\n",
        "        super(AttnDecoderRNN, self).__init__()\n",
        "        self.hidden_size = hidden_size\n",
        "        self.output_size = output_size\n",
        "        self.dropout_p = dropout_p\n",
        "        self.max_length = max_length\n",
        "\n",
        "        self.embedding = nn.Embedding(self.output_size, self.hidden_size)\n",
        "        self.dropout = nn.Dropout(self.dropout_p)\n",
        "        self.lstm = nn.LSTM(self.hidden_size, self.hidden_size)  # Change GRU to LSTM\n",
        "        self.out = nn.Linear(self.hidden_size * 2, self.output_size)\n",
        "\n",
        "    def forward(self, input, hidden, encoder_outputs):\n",
        "        embedded = self.embedding(input).view(1, 1, -1)\n",
        "        embedded = self.dropout(embedded)\n",
        "\n",
        "        _, (hidden, cell_state) = self.lstm(embedded, hidden)  # Change GRU to LSTM\n",
        "\n",
        "        attn_weights = F.softmax(torch.bmm(hidden, encoder_outputs.T.unsqueeze(0)), dim=-1)\n",
        "        attn_output = torch.bmm(attn_weights, encoder_outputs.unsqueeze(0))\n",
        "\n",
        "        concat_output = torch.cat((attn_output[0], hidden[0]), 1)\n",
        "\n",
        "        output = F.log_softmax(self.out(concat_output), dim=1)\n",
        "\n",
        "        return output, (hidden, cell_state), attn_weights\n",
        "\n",
        "    def initHidden(self,device):\n",
        "        return torch.zeros(1, 1, self.hidden_size, device=device), torch.zeros(1, 1, self.hidden_size, device=device)"
      ],
      "metadata": {
        "id": "1Lw9WJlZUG8w"
      },
      "execution_count": 15,
      "outputs": []
    },
    {
      "cell_type": "code",
      "source": [
        "teacher_forcing_ratio = 1\n",
        "\n",
        "def train_attn(input_tensor, target_tensor, encoder, decoder, encoder_optimizer, decoder_optimizer, criterion, max_length=MAX_LENGTH):\n",
        "    encoder_hidden, encoder_cell = encoder.initHidden(device)\n",
        "\n",
        "    encoder_optimizer.zero_grad()\n",
        "    decoder_optimizer.zero_grad()\n",
        "\n",
        "    input_length = input_tensor.size(0)\n",
        "    target_length = target_tensor.size(0)\n",
        "\n",
        "    encoder_outputs = torch.zeros(max_length, encoder.hidden_size, device=device)\n",
        "\n",
        "    loss = 0\n",
        "\n",
        "    for ei in range(input_length):\n",
        "        encoder_output, (encoder_hidden, encoder_cell) = encoder(\n",
        "            input_tensor[ei], (encoder_hidden, encoder_cell))\n",
        "        encoder_outputs[ei] = encoder_output[0, 0]\n",
        "\n",
        "    decoder_input = torch.tensor([[SOS_token]], device=device)\n",
        "\n",
        "    decoder_hidden = encoder_hidden\n",
        "    decoder_cell = encoder_cell  # Initialize decoder's cell state with encoder's last cell state\n",
        "\n",
        "    use_teacher_forcing = True if random.random() < teacher_forcing_ratio else False\n",
        "\n",
        "    if use_teacher_forcing:\n",
        "        # Teacher forcing: Feed the target as the next input\n",
        "        for di in range(target_length):\n",
        "            decoder_output, (decoder_hidden, decoder_cell), decoder_attention = decoder(\n",
        "                decoder_input, (decoder_hidden, decoder_cell), encoder_outputs)\n",
        "            loss += criterion(decoder_output, target_tensor[di])\n",
        "            decoder_input = target_tensor[di]  # Teacher forcing\n",
        "\n",
        "    else:\n",
        "        # Without teacher forcing: use its own predictions as the next input\n",
        "        for di in range(target_length):\n",
        "            decoder_output, (decoder_hidden, decoder_cell), decoder_attention = decoder(\n",
        "                decoder_input, (decoder_hidden, decoder_cell), encoder_outputs)\n",
        "            topv, topi = decoder_output.topk(1)\n",
        "            decoder_input = topi.squeeze().detach()  # detach from history as input\n",
        "\n",
        "            loss += criterion(decoder_output, target_tensor[di])\n",
        "            if decoder_input.item() == EOS_token:\n",
        "                break\n",
        "\n",
        "    loss.backward()\n",
        "\n",
        "    encoder_optimizer.step()\n",
        "    decoder_optimizer.step()\n",
        "\n",
        "    return loss.item() / target_length"
      ],
      "metadata": {
        "id": "JkpL4XibUHBe"
      },
      "execution_count": 16,
      "outputs": []
    },
    {
      "cell_type": "code",
      "source": [
        "def evaluate_attn(encoder, decoder, sentence, max_length=MAX_LENGTH):\n",
        "    with torch.no_grad():\n",
        "        input_tensor = tensorFromSentence(input_lang, sentence)\n",
        "        input_length = input_tensor.size()[0]\n",
        "        encoder_hidden, encoder_cell = encoder.initHidden(device)\n",
        "\n",
        "        encoder_outputs = torch.zeros(max_length, encoder.hidden_size, device=device)\n",
        "\n",
        "        for ei in range(input_length):\n",
        "            encoder_output, (encoder_hidden, encoder_cell) = encoder(input_tensor[ei],\n",
        "                                                     (encoder_hidden, encoder_cell))\n",
        "            encoder_outputs[ei] += encoder_output[0, 0]\n",
        "\n",
        "        decoder_input = torch.tensor([[SOS_token]], device=device)  # SOS\n",
        "\n",
        "        decoder_hidden = encoder_hidden\n",
        "        decoder_cell = encoder_cell  # Initialize decoder's cell state with encoder's last cell state\n",
        "\n",
        "        decoded_words = []\n",
        "        decoder_attentions = torch.zeros(max_length, max_length)\n",
        "\n",
        "        for di in range(max_length):\n",
        "            decoder_output, (decoder_hidden, decoder_cell), decoder_attention = decoder(\n",
        "                decoder_input, (decoder_hidden, decoder_cell), encoder_outputs)\n",
        "            decoder_attentions[di] = decoder_attention.data\n",
        "            topv, topi = decoder_output.data.topk(1)\n",
        "            if topi.item() == EOS_token:\n",
        "                decoded_words.append('<EOS>')\n",
        "                break\n",
        "            else:\n",
        "                decoded_words.append(output_lang.index2word[topi.item()])\n",
        "\n",
        "            decoder_input = topi.squeeze().detach()\n",
        "\n",
        "        return decoded_words, decoder_attentions[:di + 1]"
      ],
      "metadata": {
        "id": "dXQmngQgUHFI"
      },
      "execution_count": 17,
      "outputs": []
    },
    {
      "cell_type": "code",
      "source": [
        "def trainIters_attn(encoder, decoder, n_iters, print_every=1000, plot_every=100, learning_rate=0.01):\n",
        "    start = time.time()\n",
        "    plot_losses = []\n",
        "    dll =  []\n",
        "    print_loss_total = 0  # Reset every print_every\n",
        "    plot_loss_total = 0  # Reset every plot_every\n",
        "    encoder_optimizer = optim.Adam(encoder.parameters(), lr=learning_rate)\n",
        "    decoder_optimizer = optim.Adam(decoder.parameters(), lr=learning_rate)\n",
        "    training_pairs = [tensorsFromPair(random.choice(pairs))\n",
        "                      for i in range(n_iters)]\n",
        "    dev_pairs2 = [tensorsFromPair(random.choice(dev_pairs))\n",
        "                      for i in range(n_iters)]\n",
        "    criterion = nn.NLLLoss()\n",
        "    for iter in range(1, n_iters + 1):\n",
        "        training_pair = training_pairs[iter - 1]\n",
        "        input_tensor = training_pair[0]\n",
        "        target_tensor = training_pair[1]\n",
        "        encoder_hidden, encoder_cell = encoder.initHidden(device)  # Initialize encoder's hidden and cell states\n",
        "        decoder_hidden, decoder_cell = encoder_hidden, encoder_cell  # Initialize decoder's hidden and cell states\n",
        "        loss = train_attn(input_tensor, target_tensor, encoder,\n",
        "                          decoder, encoder_optimizer, decoder_optimizer, criterion)\n",
        "        print_loss_total += loss\n",
        "        plot_loss_total += loss\n",
        "        if iter % print_every == 0:\n",
        "            print_loss_avg = print_loss_total / print_every\n",
        "            print_loss_total = 0\n",
        "            print('%s (%d %d%%) %.4f' % (timeSince(start, iter / n_iters),\n",
        "                                         iter, iter / n_iters * 100, print_loss_avg))\n",
        "            # Calculate development loss\n",
        "            dl = 0\n",
        "            with torch.no_grad():\n",
        "              for d in dev_pairs2:\n",
        "                input_tensor = d[0]\n",
        "                target_tensor = d[1]\n",
        "                loss2 = evaluate3(input_tensor, target_tensor, encoder, decoder,criterion)\n",
        "                dl += loss2\n",
        "            dl / len(dev_pairs2)\n",
        "            dl_avg = dl / len(dev_pairs2)\n",
        "            dll.append((iter, dl_avg))\n",
        "            print('Dev Loss is: %.4f' % dl_avg)\n",
        "        if iter % plot_every == 0:\n",
        "            plot_loss_avg = plot_loss_total / plot_every\n",
        "            plot_losses.append((iter, plot_loss_avg))\n",
        "            plot_loss_total = 0\n",
        "    showPlot(plot_losses,dll)"
      ],
      "metadata": {
        "id": "Bypd06_HXAWi"
      },
      "execution_count": 18,
      "outputs": []
    },
    {
      "cell_type": "code",
      "source": [
        "def evaluate3(input_tensor, target_tensor, encoder, decoder, criterion, max_length=MAX_LENGTH):\n",
        "    with torch.no_grad():\n",
        "        # Initialize the encoder's hidden and cell states\n",
        "        encoder_hidden, encoder_cell = encoder.initHidden(device)\n",
        "        input_length = input_tensor.size(0)\n",
        "        target_length = target_tensor.size(0)\n",
        "        encoder_outputs = torch.zeros(max_length, encoder.hidden_size, device=device)\n",
        "        # Encode the input sentence\n",
        "        for ei in range(input_length):\n",
        "            encoder_output, (encoder_hidden, encoder_cell) = encoder(\n",
        "                input_tensor[ei], (encoder_hidden, encoder_cell))\n",
        "            encoder_outputs[ei] = encoder_output[0, 0]\n",
        "        # Initialize the decoder input and hidden states\n",
        "        decoder_input = torch.tensor([[SOS_token]], device=device)\n",
        "        decoder_hidden = encoder_hidden\n",
        "        decoder_cell = encoder_cell\n",
        "        # Initialize tensor to store decoder outputs\n",
        "        decoder_outputs = torch.zeros(target_length, decoder.output_size, device=device)\n",
        "        # Decode the input sentence\n",
        "        for di in range(target_length):\n",
        "            decoder_output, (decoder_hidden, decoder_cell), decoder_attention = decoder(\n",
        "                decoder_input, (decoder_hidden, decoder_cell), encoder_outputs)\n",
        "            decoder_outputs[di] = decoder_output\n",
        "            topv, topi = decoder_output.topk(1)\n",
        "            decoder_input = topi.squeeze().detach()\n",
        "            if decoder_input.item() == EOS_token:\n",
        "                break\n",
        "        loss = criterion(decoder_outputs, target_tensor.view(-1))\n",
        "        return loss.item() / target_length"
      ],
      "metadata": {
        "id": "G82fbohUXAZ8"
      },
      "execution_count": 19,
      "outputs": []
    },
    {
      "cell_type": "code",
      "source": [
        "hidden_size = 256\n",
        "encoder2 = EncoderRNN(input_lang.n_words, hidden_size).to(device)\n",
        "attn_decoder = AttnDecoderRNN(hidden_size, output_lang.n_words, dropout_p=0.1).to(device)\n",
        "trainIters_attn(encoder2, attn_decoder, 10000, print_every=1000)"
      ],
      "metadata": {
        "colab": {
          "base_uri": "https://localhost:8080/",
          "height": 847
        },
        "id": "pR00CbI-XAdD",
        "outputId": "fc666efe-74e8-4782-d635-23d0a3ffced5"
      },
      "execution_count": 20,
      "outputs": [
        {
          "output_type": "stream",
          "name": "stdout",
          "text": [
            "1m 54s (- 17m 11s) (1000 10%) 5.5581\n",
            "Dev Loss is: 0.1620\n",
            "9m 4s (- 36m 19s) (2000 20%) 5.1478\n",
            "Dev Loss is: 0.0877\n",
            "13m 34s (- 31m 40s) (3000 30%) 4.8535\n",
            "Dev Loss is: 0.1630\n",
            "21m 10s (- 31m 46s) (4000 40%) 4.8525\n",
            "Dev Loss is: 0.1456\n",
            "28m 9s (- 28m 9s) (5000 50%) 4.6926\n",
            "Dev Loss is: 0.1078\n",
            "33m 40s (- 22m 26s) (6000 60%) 4.6398\n",
            "Dev Loss is: 0.1482\n",
            "40m 34s (- 17m 23s) (7000 70%) 4.6266\n",
            "Dev Loss is: 0.1783\n",
            "48m 15s (- 12m 3s) (8000 80%) 4.4735\n",
            "Dev Loss is: 0.1652\n",
            "55m 19s (- 6m 8s) (9000 90%) 4.4782\n",
            "Dev Loss is: 0.1810\n",
            "63m 7s (- 0m 0s) (10000 100%) 4.4385\n",
            "Dev Loss is: 0.1702\n"
          ]
        },
        {
          "output_type": "display_data",
          "data": {
            "text/plain": [
              "<Figure size 640x480 with 0 Axes>"
            ]
          },
          "metadata": {}
        },
        {
          "output_type": "display_data",
          "data": {
            "text/plain": [
              "<Figure size 640x480 with 1 Axes>"
            ],
            "image/png": "[encoded data removed]"
          },
          "metadata": {}
        }
      ]
    },
    {
      "cell_type": "code",
      "source": [
        "torch.save(encoder2.state_dict(), 'encoderatten.pth')\n",
        "torch.save(attn_decoder.state_dict(), 'decoderatten.pth')\n",
        "\n",
        "# Save the trainIters function\n",
        "import pickle\n",
        "with open('trainItersatten.pkl', 'wb') as f:\n",
        "    pickle.dump(trainIters_attn, f)"
      ],
      "metadata": {
        "id": "zf3QLS1RXAfs"
      },
      "execution_count": 21,
      "outputs": []
    },
    {
      "cell_type": "code",
      "source": [],
      "metadata": {
        "id": "raUr1rCKx8dt"
      },
      "execution_count": null,
      "outputs": []
    },
    {
      "cell_type": "markdown",
      "source": [
        "Extention 1 with word2vec embeddings"
      ],
      "metadata": {
        "id": "LKVmFvA1UoI6"
      }
    },
    {
      "cell_type": "code",
      "source": [
        "import gensim\n",
        "from gensim.models import KeyedVectors\n",
        "\n",
        "# Load the Word2Vec model\n",
        "embedding_path = '/content/drive/MyDrive/GoogleNews-vectors-negative300.bin.gz'\n",
        "word2vec_model = KeyedVectors.load_word2vec_format(embedding_path, binary=True)"
      ],
      "metadata": {
        "id": "-EgS4IqMUHIh"
      },
      "execution_count": null,
      "outputs": []
    },
    {
      "cell_type": "code",
      "source": [
        "import numpy as np\n",
        "\n",
        "def create_embedding_matrix(word2index, embedding_model):\n",
        "    embedding_dim = embedding_model.vector_size\n",
        "    vocab_size = max(word2index.values()) + 1  # Ensure size is enough for the highest index\n",
        "    embedding_matrix = np.zeros((vocab_size, embedding_dim))\n",
        "\n",
        "    for word, idx in word2index.items():\n",
        "        if word in embedding_model:\n",
        "            embedding_matrix[idx] = embedding_model[word]\n",
        "        else:\n",
        "            embedding_matrix[idx] = np.random.normal(scale=0.6, size=(embedding_dim,))\n",
        "\n",
        "    return embedding_matrix\n",
        "\n",
        "# Assuming 'input_lang' is already created as per your code\n",
        "embedding_matrix = create_embedding_matrix(input_lang.word2index, word2vec_model)"
      ],
      "metadata": {
        "id": "30tdCfjBUwFY"
      },
      "execution_count": null,
      "outputs": []
    },
    {
      "cell_type": "code",
      "source": [
        "import torch\n",
        "import torch.nn as nn\n",
        "import torch.optim as optim\n",
        "import torch.nn.functional as F\n",
        "\n",
        "\n",
        "\n",
        "class EmbeddingLayer(nn.Module):\n",
        "    def __init__(self, embedding_matrix):\n",
        "        super(EmbeddingLayer, self).__init__()\n",
        "        vocab_size, embedding_dim = embedding_matrix.shape\n",
        "        self.embedding = nn.Embedding(vocab_size, embedding_dim)\n",
        "        self.embedding.weight = nn.Parameter(torch.tensor(embedding_matrix, dtype=torch.float32))\n",
        "        self.embedding.weight.requires_grad = False  # Freeze embeddings\n",
        "\n",
        "    def forward(self, x):\n",
        "        return self.embedding(x)\n",
        "\n",
        "class EncoderRNN(nn.Module):\n",
        "    def __init__(self, embedding_layer, hidden_size):\n",
        "        super(EncoderRNN, self).__init__()\n",
        "        self.hidden_size = hidden_size\n",
        "        self.embedding = embedding_layer\n",
        "        self.lstm = nn.LSTM(embedding_layer.embedding.embedding_dim, hidden_size)\n",
        "\n",
        "    def forward(self, input, hidden):\n",
        "        embedded = self.embedding(input).view(1, 1, -1)\n",
        "        output, hidden = self.lstm(embedded, hidden)\n",
        "        return output, hidden\n",
        "\n",
        "    def initHidden(self, device):\n",
        "        return (torch.zeros(1, 1, self.hidden_size, device=device),\n",
        "                torch.zeros(1, 1, self.hidden_size, device=device))\n",
        "\n",
        "class DecoderRNN(nn.Module):\n",
        "    def __init__(self, hidden_size, output_size):\n",
        "        super(DecoderRNN, self).__init__()\n",
        "        self.hidden_size = hidden_size\n",
        "\n",
        "        self.embedding = nn.Embedding(output_size, hidden_size)\n",
        "        self.lstm = nn.LSTM(hidden_size, hidden_size)\n",
        "        self.out = nn.Linear(hidden_size, output_size)\n",
        "        self.softmax = nn.LogSoftmax(dim=1)\n",
        "\n",
        "    def forward(self, input, hidden):\n",
        "        output = self.embedding(input).view(1, 1, -1)\n",
        "        output = F.relu(output)\n",
        "        output, hidden = self.lstm(output, hidden)\n",
        "        output = self.softmax(self.out(output[0]))\n",
        "        return output, hidden\n",
        "\n",
        "    def initHidden(self, device):\n",
        "        return (torch.zeros(1, 1, self.hidden_size, device=device),\n",
        "                torch.zeros(1, 1, self.hidden_size, device=device))"
      ],
      "metadata": {
        "id": "bVj5FzSHUwIU"
      },
      "execution_count": null,
      "outputs": []
    },
    {
      "cell_type": "code",
      "source": [
        "hidden_size = 256\n",
        "encoder3 = EncoderRNN(embedding_layer, hidden_size).to(device)\n",
        "decoder3 = DecoderRNN(hidden_size, output_lang.n_words).to(device)\n",
        "trainIters(encoder3, decoder3, 10000, print_every=1000)"
      ],
      "metadata": {
        "id": "3RYDuPLmUwLI"
      },
      "execution_count": null,
      "outputs": []
    },
    {
      "cell_type": "markdown",
      "source": [
        "Extextion 4: with stacked layers in encoder and decoder"
      ],
      "metadata": {
        "id": "3n0b3JaMVeUL"
      }
    },
    {
      "cell_type": "code",
      "source": [
        "import torch\n",
        "import torch.nn as nn\n",
        "\n",
        "class EncoderRNN(nn.Module):\n",
        "    def __init__(self, input_size, hidden_size, additional_layers=4):\n",
        "        super(EncoderRNN, self).__init__()\n",
        "        self.hidden_size = hidden_size\n",
        "        self.additional_layers = additional_layers\n",
        "\n",
        "        self.embedding = nn.Embedding(input_size, hidden_size)\n",
        "        self.lstm = nn.LSTM(hidden_size, hidden_size,2)\n",
        "\n",
        "        # Additional fully connected layers\n",
        "        self.additional_fcs = nn.ModuleList([nn.Linear(hidden_size, hidden_size) for _ in range(additional_layers)])\n",
        "\n",
        "    def forward(self, input, hidden):\n",
        "        embedded = self.embedding(input).view(1, 1, -1)\n",
        "        output, hidden = self.lstm(embedded, hidden)\n",
        "\n",
        "        # Pass the output through additional fully connected layers\n",
        "        for fc in self.additional_fcs:\n",
        "            output = fc(output)\n",
        "            output = torch.relu(output)  # You can use other activation functions as well\n",
        "\n",
        "        return output, hidden\n",
        "\n",
        "    def initHidden(self):\n",
        "        return (torch.zeros(1, 1, self.hidden_size, device=device),\n",
        "                torch.zeros(1, 1, self.hidden_size, device=device))\n",
        "\n",
        "class DecoderRNN(nn.Module):\n",
        "    def __init__(self, hidden_size, output_size, additional_layers=4):\n",
        "        super(DecoderRNN, self).__init__()\n",
        "        self.hidden_size = hidden_size\n",
        "        self.additional_layers = additional_layers\n",
        "\n",
        "        self.embedding = nn.Embedding(output_size, hidden_size)\n",
        "        self.lstm = nn.LSTM(hidden_size, hidden_size,2)\n",
        "\n",
        "        # Additional fully connected layers\n",
        "        self.additional_fcs = nn.ModuleList([nn.Linear(hidden_size, hidden_size) for _ in range(additional_layers)])\n",
        "\n",
        "        self.out = nn.Linear(hidden_size, output_size)\n",
        "        self.softmax = nn.LogSoftmax(dim=1)\n",
        "\n",
        "    def forward(self, input, hidden):\n",
        "        output = self.embedding(input).view(1, 1, -1)\n",
        "        output = torch.relu(output)\n",
        "        output, hidden = self.lstm(output, hidden)\n",
        "\n",
        "        # Pass the output through additional fully connected layers\n",
        "        for fc in self.additional_fcs:\n",
        "            output = fc(output)\n",
        "            output = torch.relu(output)  # You can use other activation functions as well\n",
        "\n",
        "        output = self.softmax(self.out(output[0]))\n",
        "        return output, hidden\n",
        "\n",
        "    def initHidden(self):\n",
        "        return (torch.zeros(1, 1, self.hidden_size, device=device),\n",
        "                torch.zeros(1, 1, self.hidden_size, device=device))"
      ],
      "metadata": {
        "id": "wDtbu-GkUwN_"
      },
      "execution_count": null,
      "outputs": []
    },
    {
      "cell_type": "code",
      "source": [
        "hidden_size = 256\n",
        "encoder4 = EncoderRNN(input_lang.n_words, hidden_size).to(device)\n",
        "decoder4 = DecoderRNN(hidden_size, output_lang.n_words).to(device)\n",
        "trainIters(encoder4, decoder4, 10000, print_every=1000)"
      ],
      "metadata": {
        "id": "tk6EIXjsVlfz"
      },
      "execution_count": null,
      "outputs": []
    },
    {
      "cell_type": "code",
      "source": [],
      "metadata": {
        "id": "5SwbTQPLVljB"
      },
      "execution_count": null,
      "outputs": []
    },
    {
      "cell_type": "code",
      "source": [],
      "metadata": {
        "id": "RcJIuXecVll5"
      },
      "execution_count": null,
      "outputs": []
    },
    {
      "cell_type": "markdown",
      "source": [
        "Testing and evaluation"
      ],
      "metadata": {
        "id": "dsLwe8fMYFR-"
      }
    },
    {
      "cell_type": "code",
      "execution_count": 24,
      "metadata": {
        "id": "pM_73GTh493D"
      },
      "outputs": [],
      "source": [
        "def remove_stop_words(text):\n",
        "    stop_words = set(stopwords.words('english'))\n",
        "    word_tokens = word_tokenize(text)\n",
        "    filtered_text = ' '.join([word for word in word_tokens if word.lower() not in stop_words])\n",
        "    return filtered_text\n",
        "df3 = pd.read_csv(\"/content/drive/MyDrive/Cooking_Dataset/Cooking_Dataset/test.csv\")\n",
        "for x in range(len(df3['Recipe'])):\n",
        "    if type(df3['Recipe'][x]) != str:\n",
        "        df3['Recipe'][x] = ''\n",
        "# Apply the function to the DataFrame columns\n",
        "df3['Ingredients'] = df3['Ingredients'].apply(remove_stop_words)\n",
        "df3['Recipe'] = df3['Recipe'].apply(remove_stop_words)"
      ]
    },
    {
      "cell_type": "code",
      "execution_count": 25,
      "metadata": {
        "colab": {
          "base_uri": "https://localhost:8080/"
        },
        "id": "Jr6EeEgTXEwe",
        "outputId": "267da8b3-0965-44b9-8c97-b37db9f6af69"
      },
      "outputs": [
        {
          "output_type": "stream",
          "name": "stdout",
          "text": [
            "Reading lines...\n",
            "Read 778 sentence pairs\n",
            "Trimmed to 742 sentence pairs\n",
            "Counting words...\n",
            "Counted words:\n",
            "fra 1849\n",
            "eng 3207\n",
            "[' inch middle eastern cracker bread round called la vosh oz neufchatel cheese room temperature sm slices lean bacon cooked crisp drained paper towel tb finely chopped celery green onion oz thinly sliced cooked turkey ripe avocado peeled hopped tb lemon juice several leaves romaine lettuce hard core removed freshly ground pepper', 'set aside wrapped clean damp towel . small bowl standing hot water soften whip neufchatel cheese spreading consistency . crumble bacon stir cheese celery onion . using rubber spatula spread cheese thinly softened cracker bread . cover turkey slices . dip avocado lemon juice place top turkey . arrange romaine leaves single layer . sprinkle pepper . roll bread tightly enclose filling . wrap plastic chill ready serve . serving remove plastic wrap slice diagonal slices . neufchatel cheese case wondering looks tastes like cream cheese counts meat card instead fat card .']\n"
          ]
        }
      ],
      "source": [
        "with open(\"3.txt\", \"w\") as file:\n",
        "    for index, row in df3.iterrows():\n",
        "        file.write(f\"{row['Recipe']}:::{row['Ingredients']}\\n\")\n",
        "\n",
        "def readLangs(lang1, lang2, reverse=False, file_name='3.txt'):\n",
        "    print(\"Reading lines...\")\n",
        "    # Read the file and split into lines\n",
        "    file_name = file_path + file_name\n",
        "    lines = open(file_name, encoding='utf-8').\\\n",
        "        read().strip().split('\\n')\n",
        "\n",
        "    # Split every line into pairs and normalize\n",
        "    pairs = [[normalizeString(s) for s in l.split(':::')] for l in lines]\n",
        "\n",
        "    # Reverse pairs, make Lang instances\n",
        "    if reverse:\n",
        "        pairs = [list(reversed(p)) for p in pairs]\n",
        "        input_lang = Lang(lang2)\n",
        "        output_lang = Lang(lang1)\n",
        "    else:\n",
        "        input_lang = Lang(lang1)\n",
        "        output_lang = Lang(lang2)\n",
        "\n",
        "    return input_lang, output_lang, pairs\n",
        "\n",
        "def filterPair(p):\n",
        "    return len(p[0].split(' ')) < MAX_LENGTH and \\\n",
        "        len(p[1].split(' ')) < MAX_LENGTH\n",
        "\n",
        "def filterPairs(pairs):\n",
        "    return [pair for pair in pairs if filterPair(pair)]\n",
        "\n",
        "def prepareData(lang1, lang2, reverse=False, file_name='3.txt'):\n",
        "    input_lang, output_lang, pairs = readLangs(lang1, lang2, reverse, file_name)\n",
        "    print(\"Read %s sentence pairs\" % len(pairs))\n",
        "    pairs = filterPairs(pairs)\n",
        "    print(\"Trimmed to %s sentence pairs\" % len(pairs))\n",
        "    print(\"Counting words...\")\n",
        "    for pair in pairs:\n",
        "        input_lang.addSentence(pair[0])\n",
        "        output_lang.addSentence(pair[1])\n",
        "    print(\"Counted words:\")\n",
        "    print(input_lang.name, input_lang.n_words)\n",
        "    print(output_lang.name, output_lang.n_words)\n",
        "    return input_lang, output_lang, pairs\n",
        "\n",
        "def indexesFromSentence(lang, sentence):\n",
        "    return [lang.word2index.get(word, UNK_token) for word in sentence.split(' ')]\n",
        "\n",
        "def tensorFromSentence(lang, sentence):\n",
        "    indexes = indexesFromSentence(lang, sentence)\n",
        "    indexes.append(EOS_token)\n",
        "    return torch.tensor(indexes, dtype=torch.long).view(-1, 1)\n",
        "\n",
        "def tensorsFromPair(pair):\n",
        "    input_tensor = tensorFromSentence(input_lang, pair[0])\n",
        "    target_tensor = tensorFromSentence(output_lang, pair[1])\n",
        "    return (input_tensor, target_tensor)\n",
        "\n",
        "# Process test data\n",
        "test_input_lang, test_output_lang, test_pairs = prepareData('eng', 'fra', True, '3.txt')\n",
        "print(random.choice(test_pairs))\n"
      ]
    },
    {
      "cell_type": "code",
      "execution_count": null,
      "metadata": {
        "id": "Ml_4GZxsiCjf"
      },
      "outputs": [],
      "source": [
        "def evaluate(encoder, decoder, sentence, max_length=MAX_LENGTH):\n",
        "    with torch.no_grad():\n",
        "        input_tensor = tensorFromSentence(input_lang, sentence).to(device)\n",
        "        input_length = input_tensor.size()[0]\n",
        "        encoder_hidden = encoder.initHidden()\n",
        "\n",
        "        # Move each element of the encoder_hidden tuple to the device\n",
        "        encoder_hidden = tuple(h.to(device) for h in encoder_hidden)\n",
        "\n",
        "        encoder_outputs = torch.zeros(max_length, encoder.hidden_size, device=device)\n",
        "\n",
        "        for ei in range(input_length):\n",
        "            encoder_output, encoder_hidden = encoder(input_tensor[ei], encoder_hidden)\n",
        "            encoder_outputs[ei] += encoder_output[0, 0]\n",
        "\n",
        "        decoder_input = torch.tensor([[SOS_token]], device=device)  # SOS\n",
        "        decoder_hidden = encoder_hidden\n",
        "\n",
        "        decoded_words = []\n",
        "        for di in range(max_length):\n",
        "            decoder_output, decoder_hidden = decoder(\n",
        "                decoder_input, decoder_hidden)\n",
        "            topv, topi = decoder_output.topk(1)\n",
        "            if topi.item() == EOS_token:\n",
        "                decoded_words.append('<EOS>')\n",
        "                break\n",
        "            else:\n",
        "                decoded_words.append(output_lang.index2word[topi.item()])\n",
        "\n",
        "            decoder_input = topi.squeeze().detach().to(device)\n",
        "\n",
        "        return decoded_words\n"
      ]
    },
    {
      "cell_type": "code",
      "execution_count": null,
      "metadata": {
        "colab": {
          "base_uri": "https://localhost:8080/"
        },
        "id": "U803V8OBcqCq",
        "outputId": "f7a38569-38fc-436a-ee75-3b10e61a17eb"
      },
      "outputs": [
        {
          "name": "stderr",
          "output_type": "stream",
          "text": [
            "100%|██████████| 742/742 [00:15<00:00, 47.72it/s]"
          ]
        },
        {
          "name": "stdout",
          "output_type": "stream",
          "text": [
            "BLEU-4 Score: 0.001473733991008767\n"
          ]
        },
        {
          "name": "stderr",
          "output_type": "stream",
          "text": [
            "\n"
          ]
        }
      ],
      "source": [
        "import nltk\n",
        "from nltk.translate.bleu_score import sentence_bleu, corpus_bleu\n",
        "from tqdm import tqdm\n",
        "\n",
        "def evaluate_bleu(encoder, decoder, test_pairs):\n",
        "    references = []  # Stores reference sentences for each prediction\n",
        "    hypotheses = []  # Stores predicted sentences\n",
        "\n",
        "    for pair in tqdm(test_pairs):\n",
        "        input_sentence = pair[0]\n",
        "        target_sentence = pair[1]\n",
        "\n",
        "        output_words = evaluate(encoder, decoder, input_sentence)\n",
        "        output_sentence = ' '.join(output_words)\n",
        "\n",
        "        # Removing <SOS> and <EOS> tokens from target_sentence\n",
        "        target_sentence = target_sentence.split()\n",
        "        if target_sentence[0] == \"SOS\":\n",
        "            target_sentence = target_sentence[1:]\n",
        "        if target_sentence[-1] == \"EOS\":\n",
        "            target_sentence = target_sentence[:-1]\n",
        "\n",
        "        references.append([target_sentence])\n",
        "        hypotheses.append(output_words)\n",
        "\n",
        "    bleu_score = corpus_bleu(references, hypotheses)\n",
        "    return bleu_score\n",
        "\n",
        "def evaluate_bleu2(encoder, decoder, test_pairs):\n",
        "    references = []  # Stores reference sentences for each prediction\n",
        "    hypotheses = []  # Stores predicted sentences\n",
        "\n",
        "    for pair in tqdm(test_pairs):\n",
        "        input_sentence = pair[0]\n",
        "        target_sentence = pair[1]\n",
        "\n",
        "        output_words = evaluate_attn(encoder, decoder, input_sentence)\n",
        "        output_sentence = ' '.join(output_words)\n",
        "\n",
        "        # Removing <SOS> and <EOS> tokens from target_sentence\n",
        "        target_sentence = target_sentence.split()\n",
        "        if target_sentence[0] == \"SOS\":\n",
        "            target_sentence = target_sentence[1:]\n",
        "        if target_sentence[-1] == \"EOS\":\n",
        "            target_sentence = target_sentence[:-1]\n",
        "\n",
        "        references.append([target_sentence])\n",
        "        hypotheses.append(output_words)\n",
        "\n",
        "    bleu_score = corpus_bleu(references, hypotheses)\n",
        "    return bleu_score\n",
        "# Assuming you have test_pairs variable containing test data\n",
        "encoder1 = encoder1.to(device)\n",
        "decoder1 = decoder1.to(device)\n",
        "\n",
        "# bleu_score1 = evaluate_bleu(encoder1, decoder1, test_pairs)\n",
        "bleu_score2 = evaluate_bleu2(encoder2, attn_decoder, test_pairs)\n",
        "# bleu_score3 = evaluate_bleu(encoder3, decoder3, test_pairs)\n",
        "# bleu_score4 = evaluate_bleu(encoder4, decoder4, test_pairs)\n",
        "\n",
        "print(\"BLEU-4 Score1:\", bleu_score1)  # BLEU-4 Score1\n",
        "print(\"BLEU-4 Score2:\", bleu_score2)  # BLEU-4 Score2\n",
        "print(\"BLEU-4 Score3:\", bleu_score3)  # BLEU-4 Score3\n",
        "print(\"BLEU-4 Score4:\", bleu_score4)  # BLEU-4 Score4\n"
      ]
    },
    {
      "cell_type": "code",
      "source": [
        "import nltk\n",
        "from nltk.translate.bleu_score import sentence_bleu, corpus_bleu\n",
        "from tqdm import tqdm\n",
        "\n",
        "def evaluate_bleu(encoder, decoder, test_pairs):\n",
        "    references = []  # Stores reference sentences for each prediction\n",
        "    hypotheses = []  # Stores predicted sentences\n",
        "\n",
        "    for pair in tqdm(test_pairs):\n",
        "        input_sentence = pair[0]\n",
        "        target_sentence = pair[1]\n",
        "\n",
        "        output_words = evaluate(encoder, decoder, input_sentence)\n",
        "        output_sentence = ' '.join(output_words)\n",
        "\n",
        "        # Removing <SOS> and <EOS> tokens from target_sentence\n",
        "        target_sentence = target_sentence.split()\n",
        "        if target_sentence[0] == \"SOS\":\n",
        "            target_sentence = target_sentence[1:]\n",
        "        if target_sentence[-1] == \"EOS\":\n",
        "            target_sentence = target_sentence[:-1]\n",
        "\n",
        "        references.append([target_sentence])\n",
        "        hypotheses.append(output_words)\n",
        "\n",
        "    bleu_score = corpus_bleu(references, hypotheses)\n",
        "    return bleu_score\n",
        "\n",
        "def evaluate_bleu2(encoder, decoder, test_pairs):\n",
        "    references = []  # Stores reference sentences for each prediction\n",
        "    hypotheses = []  # Stores predicted sentences\n",
        "\n",
        "    for pair in tqdm(test_pairs):\n",
        "        input_sentence = pair[0]\n",
        "        target_sentence = pair[1]\n",
        "\n",
        "        output_words = evaluate_attn(encoder, decoder, input_sentence)\n",
        "        output_sentence = ' '.join(output_words)\n",
        "\n",
        "        # Removing <SOS> and <EOS> tokens from target_sentence\n",
        "        target_sentence = target_sentence.split()\n",
        "        if target_sentence[0] == \"SOS\":\n",
        "            target_sentence = target_sentence[1:]\n",
        "        if target_sentence[-1] == \"EOS\":\n",
        "            target_sentence = target_sentence[:-1]\n",
        "\n",
        "        references.append([target_sentence])\n",
        "        hypotheses.append(output_words)\n",
        "\n",
        "    bleu_score = corpus_bleu(references, hypotheses)\n",
        "    return bleu_score\n",
        "# Assuming you have test_pairs variable containing test data\n",
        "encoder2 = encoder2.to(device)\n",
        "attn_decoder = attn_decoder.to(device)\n",
        "\n",
        "# bleu_score1 = evaluate_bleu(encoder1, decoder1, test_pairs)\n",
        "bleu_score2 = evaluate_bleu2(encoder2, attn_decoder, test_pairs)\n",
        "# bleu_score3 = evaluate_bleu(encoder3, decoder3, test_pairs)\n",
        "# bleu_score4 = evaluate_bleu(encoder4, decoder4, test_pairs)\n",
        "\n",
        "# print(\"BLEU-4 Score1:\", bleu_score1)  # BLEU-4 Score1\n",
        "print(\"BLEU-4 Score2:\", bleu_score2)  # BLEU-4 Score2\n",
        "# print(\"BLEU-4 Score3:\", bleu_score3)  # BLEU-4 Score3\n",
        "# print(\"BLEU-4 Score4:\", bleu_score4)  # BLEU-4 Score4\n"
      ],
      "metadata": {
        "colab": {
          "base_uri": "https://localhost:8080/",
          "height": 1000
        },
        "id": "-H6QNEO2uGLw",
        "outputId": "1355fd03-2e60-40a9-c811-c36282c4c93b"
      },
      "execution_count": 27,
      "outputs": [
        {
          "output_type": "stream",
          "name": "stderr",
          "text": [
            "  0%|          | 0/742 [00:00<?, ?it/s]\n"
          ]
        },
        {
          "output_type": "error",
          "ename": "RuntimeError",
          "evalue": "Expected all tensors to be on the same device, but found at least two devices, cuda:0 and cpu! (when checking argument for argument index in method wrapper_CUDA__index_select)",
          "traceback": [
            "\u001b[0;31m---------------------------------------------------------------------------\u001b[0m",
            "\u001b[0;31mRuntimeError\u001b[0m                              Traceback (most recent call last)",
            "\u001b[0;32m<ipython-input-27-0149ab988570>\u001b[0m in \u001b[0;36m<cell line: 57>\u001b[0;34m()\u001b[0m\n\u001b[1;32m     55\u001b[0m \u001b[0;34m\u001b[0m\u001b[0m\n\u001b[1;32m     56\u001b[0m \u001b[0;31m# bleu_score1 = evaluate_bleu(encoder1, decoder1, test_pairs)\u001b[0m\u001b[0;34m\u001b[0m\u001b[0;34m\u001b[0m\u001b[0m\n\u001b[0;32m---> 57\u001b[0;31m \u001b[0mbleu_score2\u001b[0m \u001b[0;34m=\u001b[0m \u001b[0mevaluate_bleu2\u001b[0m\u001b[0;34m(\u001b[0m\u001b[0mencoder2\u001b[0m\u001b[0;34m,\u001b[0m \u001b[0mattn_decoder\u001b[0m\u001b[0;34m,\u001b[0m \u001b[0mtest_pairs\u001b[0m\u001b[0;34m)\u001b[0m\u001b[0;34m\u001b[0m\u001b[0;34m\u001b[0m\u001b[0m\n\u001b[0m\u001b[1;32m     58\u001b[0m \u001b[0;31m# bleu_score3 = evaluate_bleu(encoder3, decoder3, test_pairs)\u001b[0m\u001b[0;34m\u001b[0m\u001b[0;34m\u001b[0m\u001b[0m\n\u001b[1;32m     59\u001b[0m \u001b[0;31m# bleu_score4 = evaluate_bleu(encoder4, decoder4, test_pairs)\u001b[0m\u001b[0;34m\u001b[0m\u001b[0;34m\u001b[0m\u001b[0m\n",
            "\u001b[0;32m<ipython-input-27-0149ab988570>\u001b[0m in \u001b[0;36mevaluate_bleu2\u001b[0;34m(encoder, decoder, test_pairs)\u001b[0m\n\u001b[1;32m     35\u001b[0m         \u001b[0mtarget_sentence\u001b[0m \u001b[0;34m=\u001b[0m \u001b[0mpair\u001b[0m\u001b[0;34m[\u001b[0m\u001b[0;36m1\u001b[0m\u001b[0;34m]\u001b[0m\u001b[0;34m\u001b[0m\u001b[0;34m\u001b[0m\u001b[0m\n\u001b[1;32m     36\u001b[0m \u001b[0;34m\u001b[0m\u001b[0m\n\u001b[0;32m---> 37\u001b[0;31m         \u001b[0moutput_words\u001b[0m \u001b[0;34m=\u001b[0m \u001b[0mevaluate_attn\u001b[0m\u001b[0;34m(\u001b[0m\u001b[0mencoder\u001b[0m\u001b[0;34m,\u001b[0m \u001b[0mdecoder\u001b[0m\u001b[0;34m,\u001b[0m \u001b[0minput_sentence\u001b[0m\u001b[0;34m)\u001b[0m\u001b[0;34m\u001b[0m\u001b[0;34m\u001b[0m\u001b[0m\n\u001b[0m\u001b[1;32m     38\u001b[0m         \u001b[0moutput_sentence\u001b[0m \u001b[0;34m=\u001b[0m \u001b[0;34m' '\u001b[0m\u001b[0;34m.\u001b[0m\u001b[0mjoin\u001b[0m\u001b[0;34m(\u001b[0m\u001b[0moutput_words\u001b[0m\u001b[0;34m)\u001b[0m\u001b[0;34m\u001b[0m\u001b[0;34m\u001b[0m\u001b[0m\n\u001b[1;32m     39\u001b[0m \u001b[0;34m\u001b[0m\u001b[0m\n",
            "\u001b[0;32m<ipython-input-17-db9243d3429f>\u001b[0m in \u001b[0;36mevaluate_attn\u001b[0;34m(encoder, decoder, sentence, max_length)\u001b[0m\n\u001b[1;32m      8\u001b[0m \u001b[0;34m\u001b[0m\u001b[0m\n\u001b[1;32m      9\u001b[0m         \u001b[0;32mfor\u001b[0m \u001b[0mei\u001b[0m \u001b[0;32min\u001b[0m \u001b[0mrange\u001b[0m\u001b[0;34m(\u001b[0m\u001b[0minput_length\u001b[0m\u001b[0;34m)\u001b[0m\u001b[0;34m:\u001b[0m\u001b[0;34m\u001b[0m\u001b[0;34m\u001b[0m\u001b[0m\n\u001b[0;32m---> 10\u001b[0;31m             encoder_output, (encoder_hidden, encoder_cell) = encoder(input_tensor[ei],\n\u001b[0m\u001b[1;32m     11\u001b[0m                                                      (encoder_hidden, encoder_cell))\n\u001b[1;32m     12\u001b[0m             \u001b[0mencoder_outputs\u001b[0m\u001b[0;34m[\u001b[0m\u001b[0mei\u001b[0m\u001b[0;34m]\u001b[0m \u001b[0;34m+=\u001b[0m \u001b[0mencoder_output\u001b[0m\u001b[0;34m[\u001b[0m\u001b[0;36m0\u001b[0m\u001b[0;34m,\u001b[0m \u001b[0;36m0\u001b[0m\u001b[0;34m]\u001b[0m\u001b[0;34m\u001b[0m\u001b[0;34m\u001b[0m\u001b[0m\n",
            "\u001b[0;32m/usr/local/lib/python3.10/dist-packages/torch/nn/modules/module.py\u001b[0m in \u001b[0;36m_wrapped_call_impl\u001b[0;34m(self, *args, **kwargs)\u001b[0m\n\u001b[1;32m   1530\u001b[0m             \u001b[0;32mreturn\u001b[0m \u001b[0mself\u001b[0m\u001b[0;34m.\u001b[0m\u001b[0m_compiled_call_impl\u001b[0m\u001b[0;34m(\u001b[0m\u001b[0;34m*\u001b[0m\u001b[0margs\u001b[0m\u001b[0;34m,\u001b[0m \u001b[0;34m**\u001b[0m\u001b[0mkwargs\u001b[0m\u001b[0;34m)\u001b[0m  \u001b[0;31m# type: ignore[misc]\u001b[0m\u001b[0;34m\u001b[0m\u001b[0;34m\u001b[0m\u001b[0m\n\u001b[1;32m   1531\u001b[0m         \u001b[0;32melse\u001b[0m\u001b[0;34m:\u001b[0m\u001b[0;34m\u001b[0m\u001b[0;34m\u001b[0m\u001b[0m\n\u001b[0;32m-> 1532\u001b[0;31m             \u001b[0;32mreturn\u001b[0m \u001b[0mself\u001b[0m\u001b[0;34m.\u001b[0m\u001b[0m_call_impl\u001b[0m\u001b[0;34m(\u001b[0m\u001b[0;34m*\u001b[0m\u001b[0margs\u001b[0m\u001b[0;34m,\u001b[0m \u001b[0;34m**\u001b[0m\u001b[0mkwargs\u001b[0m\u001b[0;34m)\u001b[0m\u001b[0;34m\u001b[0m\u001b[0;34m\u001b[0m\u001b[0m\n\u001b[0m\u001b[1;32m   1533\u001b[0m \u001b[0;34m\u001b[0m\u001b[0m\n\u001b[1;32m   1534\u001b[0m     \u001b[0;32mdef\u001b[0m \u001b[0m_call_impl\u001b[0m\u001b[0;34m(\u001b[0m\u001b[0mself\u001b[0m\u001b[0;34m,\u001b[0m \u001b[0;34m*\u001b[0m\u001b[0margs\u001b[0m\u001b[0;34m,\u001b[0m \u001b[0;34m**\u001b[0m\u001b[0mkwargs\u001b[0m\u001b[0;34m)\u001b[0m\u001b[0;34m:\u001b[0m\u001b[0;34m\u001b[0m\u001b[0;34m\u001b[0m\u001b[0m\n",
            "\u001b[0;32m/usr/local/lib/python3.10/dist-packages/torch/nn/modules/module.py\u001b[0m in \u001b[0;36m_call_impl\u001b[0;34m(self, *args, **kwargs)\u001b[0m\n\u001b[1;32m   1539\u001b[0m                 \u001b[0;32mor\u001b[0m \u001b[0m_global_backward_pre_hooks\u001b[0m \u001b[0;32mor\u001b[0m \u001b[0m_global_backward_hooks\u001b[0m\u001b[0;34m\u001b[0m\u001b[0;34m\u001b[0m\u001b[0m\n\u001b[1;32m   1540\u001b[0m                 or _global_forward_hooks or _global_forward_pre_hooks):\n\u001b[0;32m-> 1541\u001b[0;31m             \u001b[0;32mreturn\u001b[0m \u001b[0mforward_call\u001b[0m\u001b[0;34m(\u001b[0m\u001b[0;34m*\u001b[0m\u001b[0margs\u001b[0m\u001b[0;34m,\u001b[0m \u001b[0;34m**\u001b[0m\u001b[0mkwargs\u001b[0m\u001b[0;34m)\u001b[0m\u001b[0;34m\u001b[0m\u001b[0;34m\u001b[0m\u001b[0m\n\u001b[0m\u001b[1;32m   1542\u001b[0m \u001b[0;34m\u001b[0m\u001b[0m\n\u001b[1;32m   1543\u001b[0m         \u001b[0;32mtry\u001b[0m\u001b[0;34m:\u001b[0m\u001b[0;34m\u001b[0m\u001b[0;34m\u001b[0m\u001b[0m\n",
            "\u001b[0;32m<ipython-input-14-d889ac2e05cb>\u001b[0m in \u001b[0;36mforward\u001b[0;34m(self, input, hidden)\u001b[0m\n\u001b[1;32m     11\u001b[0m \u001b[0;34m\u001b[0m\u001b[0m\n\u001b[1;32m     12\u001b[0m     \u001b[0;32mdef\u001b[0m \u001b[0mforward\u001b[0m\u001b[0;34m(\u001b[0m\u001b[0mself\u001b[0m\u001b[0;34m,\u001b[0m \u001b[0minput\u001b[0m\u001b[0;34m,\u001b[0m \u001b[0mhidden\u001b[0m\u001b[0;34m)\u001b[0m\u001b[0;34m:\u001b[0m\u001b[0;34m\u001b[0m\u001b[0;34m\u001b[0m\u001b[0m\n\u001b[0;32m---> 13\u001b[0;31m         \u001b[0membedded\u001b[0m \u001b[0;34m=\u001b[0m \u001b[0mself\u001b[0m\u001b[0;34m.\u001b[0m\u001b[0membedding\u001b[0m\u001b[0;34m(\u001b[0m\u001b[0minput\u001b[0m\u001b[0;34m)\u001b[0m\u001b[0;34m.\u001b[0m\u001b[0mview\u001b[0m\u001b[0;34m(\u001b[0m\u001b[0;36m1\u001b[0m\u001b[0;34m,\u001b[0m \u001b[0;36m1\u001b[0m\u001b[0;34m,\u001b[0m \u001b[0;34m-\u001b[0m\u001b[0;36m1\u001b[0m\u001b[0;34m)\u001b[0m\u001b[0;34m\u001b[0m\u001b[0;34m\u001b[0m\u001b[0m\n\u001b[0m\u001b[1;32m     14\u001b[0m         \u001b[0moutput\u001b[0m \u001b[0;34m=\u001b[0m \u001b[0membedded\u001b[0m\u001b[0;34m\u001b[0m\u001b[0;34m\u001b[0m\u001b[0m\n\u001b[1;32m     15\u001b[0m         \u001b[0moutput\u001b[0m\u001b[0;34m,\u001b[0m \u001b[0mhidden\u001b[0m \u001b[0;34m=\u001b[0m \u001b[0mself\u001b[0m\u001b[0;34m.\u001b[0m\u001b[0mlstm\u001b[0m\u001b[0;34m(\u001b[0m\u001b[0moutput\u001b[0m\u001b[0;34m,\u001b[0m \u001b[0mhidden\u001b[0m\u001b[0;34m)\u001b[0m\u001b[0;34m\u001b[0m\u001b[0;34m\u001b[0m\u001b[0m\n",
            "\u001b[0;32m/usr/local/lib/python3.10/dist-packages/torch/nn/modules/module.py\u001b[0m in \u001b[0;36m_wrapped_call_impl\u001b[0;34m(self, *args, **kwargs)\u001b[0m\n\u001b[1;32m   1530\u001b[0m             \u001b[0;32mreturn\u001b[0m \u001b[0mself\u001b[0m\u001b[0;34m.\u001b[0m\u001b[0m_compiled_call_impl\u001b[0m\u001b[0;34m(\u001b[0m\u001b[0;34m*\u001b[0m\u001b[0margs\u001b[0m\u001b[0;34m,\u001b[0m \u001b[0;34m**\u001b[0m\u001b[0mkwargs\u001b[0m\u001b[0;34m)\u001b[0m  \u001b[0;31m# type: ignore[misc]\u001b[0m\u001b[0;34m\u001b[0m\u001b[0;34m\u001b[0m\u001b[0m\n\u001b[1;32m   1531\u001b[0m         \u001b[0;32melse\u001b[0m\u001b[0;34m:\u001b[0m\u001b[0;34m\u001b[0m\u001b[0;34m\u001b[0m\u001b[0m\n\u001b[0;32m-> 1532\u001b[0;31m             \u001b[0;32mreturn\u001b[0m \u001b[0mself\u001b[0m\u001b[0;34m.\u001b[0m\u001b[0m_call_impl\u001b[0m\u001b[0;34m(\u001b[0m\u001b[0;34m*\u001b[0m\u001b[0margs\u001b[0m\u001b[0;34m,\u001b[0m \u001b[0;34m**\u001b[0m\u001b[0mkwargs\u001b[0m\u001b[0;34m)\u001b[0m\u001b[0;34m\u001b[0m\u001b[0;34m\u001b[0m\u001b[0m\n\u001b[0m\u001b[1;32m   1533\u001b[0m \u001b[0;34m\u001b[0m\u001b[0m\n\u001b[1;32m   1534\u001b[0m     \u001b[0;32mdef\u001b[0m \u001b[0m_call_impl\u001b[0m\u001b[0;34m(\u001b[0m\u001b[0mself\u001b[0m\u001b[0;34m,\u001b[0m \u001b[0;34m*\u001b[0m\u001b[0margs\u001b[0m\u001b[0;34m,\u001b[0m \u001b[0;34m**\u001b[0m\u001b[0mkwargs\u001b[0m\u001b[0;34m)\u001b[0m\u001b[0;34m:\u001b[0m\u001b[0;34m\u001b[0m\u001b[0;34m\u001b[0m\u001b[0m\n",
            "\u001b[0;32m/usr/local/lib/python3.10/dist-packages/torch/nn/modules/module.py\u001b[0m in \u001b[0;36m_call_impl\u001b[0;34m(self, *args, **kwargs)\u001b[0m\n\u001b[1;32m   1539\u001b[0m                 \u001b[0;32mor\u001b[0m \u001b[0m_global_backward_pre_hooks\u001b[0m \u001b[0;32mor\u001b[0m \u001b[0m_global_backward_hooks\u001b[0m\u001b[0;34m\u001b[0m\u001b[0;34m\u001b[0m\u001b[0m\n\u001b[1;32m   1540\u001b[0m                 or _global_forward_hooks or _global_forward_pre_hooks):\n\u001b[0;32m-> 1541\u001b[0;31m             \u001b[0;32mreturn\u001b[0m \u001b[0mforward_call\u001b[0m\u001b[0;34m(\u001b[0m\u001b[0;34m*\u001b[0m\u001b[0margs\u001b[0m\u001b[0;34m,\u001b[0m \u001b[0;34m**\u001b[0m\u001b[0mkwargs\u001b[0m\u001b[0;34m)\u001b[0m\u001b[0;34m\u001b[0m\u001b[0;34m\u001b[0m\u001b[0m\n\u001b[0m\u001b[1;32m   1542\u001b[0m \u001b[0;34m\u001b[0m\u001b[0m\n\u001b[1;32m   1543\u001b[0m         \u001b[0;32mtry\u001b[0m\u001b[0;34m:\u001b[0m\u001b[0;34m\u001b[0m\u001b[0;34m\u001b[0m\u001b[0m\n",
            "\u001b[0;32m/usr/local/lib/python3.10/dist-packages/torch/nn/modules/sparse.py\u001b[0m in \u001b[0;36mforward\u001b[0;34m(self, input)\u001b[0m\n\u001b[1;32m    161\u001b[0m \u001b[0;34m\u001b[0m\u001b[0m\n\u001b[1;32m    162\u001b[0m     \u001b[0;32mdef\u001b[0m \u001b[0mforward\u001b[0m\u001b[0;34m(\u001b[0m\u001b[0mself\u001b[0m\u001b[0;34m,\u001b[0m \u001b[0minput\u001b[0m\u001b[0;34m:\u001b[0m \u001b[0mTensor\u001b[0m\u001b[0;34m)\u001b[0m \u001b[0;34m->\u001b[0m \u001b[0mTensor\u001b[0m\u001b[0;34m:\u001b[0m\u001b[0;34m\u001b[0m\u001b[0;34m\u001b[0m\u001b[0m\n\u001b[0;32m--> 163\u001b[0;31m         return F.embedding(\n\u001b[0m\u001b[1;32m    164\u001b[0m             \u001b[0minput\u001b[0m\u001b[0;34m,\u001b[0m \u001b[0mself\u001b[0m\u001b[0;34m.\u001b[0m\u001b[0mweight\u001b[0m\u001b[0;34m,\u001b[0m \u001b[0mself\u001b[0m\u001b[0;34m.\u001b[0m\u001b[0mpadding_idx\u001b[0m\u001b[0;34m,\u001b[0m \u001b[0mself\u001b[0m\u001b[0;34m.\u001b[0m\u001b[0mmax_norm\u001b[0m\u001b[0;34m,\u001b[0m\u001b[0;34m\u001b[0m\u001b[0;34m\u001b[0m\u001b[0m\n\u001b[1;32m    165\u001b[0m             self.norm_type, self.scale_grad_by_freq, self.sparse)\n",
            "\u001b[0;32m/usr/local/lib/python3.10/dist-packages/torch/nn/functional.py\u001b[0m in \u001b[0;36membedding\u001b[0;34m(input, weight, padding_idx, max_norm, norm_type, scale_grad_by_freq, sparse)\u001b[0m\n\u001b[1;32m   2262\u001b[0m         \u001b[0;31m# remove once script supports set_grad_enabled\u001b[0m\u001b[0;34m\u001b[0m\u001b[0;34m\u001b[0m\u001b[0m\n\u001b[1;32m   2263\u001b[0m         \u001b[0m_no_grad_embedding_renorm_\u001b[0m\u001b[0;34m(\u001b[0m\u001b[0mweight\u001b[0m\u001b[0;34m,\u001b[0m \u001b[0minput\u001b[0m\u001b[0;34m,\u001b[0m \u001b[0mmax_norm\u001b[0m\u001b[0;34m,\u001b[0m \u001b[0mnorm_type\u001b[0m\u001b[0;34m)\u001b[0m\u001b[0;34m\u001b[0m\u001b[0;34m\u001b[0m\u001b[0m\n\u001b[0;32m-> 2264\u001b[0;31m     \u001b[0;32mreturn\u001b[0m \u001b[0mtorch\u001b[0m\u001b[0;34m.\u001b[0m\u001b[0membedding\u001b[0m\u001b[0;34m(\u001b[0m\u001b[0mweight\u001b[0m\u001b[0;34m,\u001b[0m \u001b[0minput\u001b[0m\u001b[0;34m,\u001b[0m \u001b[0mpadding_idx\u001b[0m\u001b[0;34m,\u001b[0m \u001b[0mscale_grad_by_freq\u001b[0m\u001b[0;34m,\u001b[0m \u001b[0msparse\u001b[0m\u001b[0;34m)\u001b[0m\u001b[0;34m\u001b[0m\u001b[0;34m\u001b[0m\u001b[0m\n\u001b[0m\u001b[1;32m   2265\u001b[0m \u001b[0;34m\u001b[0m\u001b[0m\n\u001b[1;32m   2266\u001b[0m \u001b[0;34m\u001b[0m\u001b[0m\n",
            "\u001b[0;31mRuntimeError\u001b[0m: Expected all tensors to be on the same device, but found at least two devices, cuda:0 and cpu! (when checking argument for argument index in method wrapper_CUDA__index_select)"
          ]
        }
      ]
    },
    {
      "cell_type": "code",
      "execution_count": null,
      "metadata": {
        "colab": {
          "base_uri": "https://localhost:8080/"
        },
        "id": "zm4uHq7chhRK",
        "outputId": "7b4df437-149c-4004-b7a1-283f3d1bbde1"
      },
      "outputs": [
        {
          "name": "stderr",
          "output_type": "stream",
          "text": [
            "100%|██████████| 742/742 [00:19<00:00, 37.93it/s]\n"
          ]
        },
        {
          "name": "stdout",
          "output_type": "stream",
          "text": [
            "METEOR Score: 0.0\n"
          ]
        }
      ],
      "source": [
        "from nltk.translate.meteor_score import meteor_score\n",
        "def evaluate_meteor(encoder, decoder, test_pairs):\n",
        "    references = []  # Stores reference sentences for each prediction\n",
        "    hypotheses = []  # Stores predicted sentences\n",
        "\n",
        "    for pair in tqdm(test_pairs):\n",
        "        input_sentence = pair[0]\n",
        "        target_sentence = pair[1]\n",
        "\n",
        "        output_words = evaluate(encoder, decoder, input_sentence)\n",
        "        output_sentence = ' '.join(output_words)\n",
        "\n",
        "        # Split reference sentence into tokens\n",
        "        target_tokens = target_sentence.strip().split()\n",
        "\n",
        "        references.append(target_tokens)\n",
        "        hypotheses.append(output_sentence)\n",
        "\n",
        "    meteor_avg = meteor_score(references, hypotheses)\n",
        "    return meteor_avg\n",
        "\n",
        "\n",
        "def evaluate_meteor2(encoder, decoder, test_pairs):\n",
        "    references = []  # Stores reference sentences for each prediction\n",
        "    hypotheses = []  # Stores predicted sentences\n",
        "\n",
        "    for pair in tqdm(test_pairs):\n",
        "        input_sentence = pair[0]\n",
        "        target_sentence = pair[1]\n",
        "\n",
        "        output_words = evaluate_attn(encoder, decoder, input_sentence)\n",
        "        output_sentence = ' '.join(output_words)\n",
        "\n",
        "        # Split reference sentence into tokens\n",
        "        target_tokens = target_sentence.strip().split()\n",
        "\n",
        "        references.append(target_tokens)\n",
        "        hypotheses.append(output_sentence)\n",
        "\n",
        "    meteor_avg = meteor_score(references, hypotheses)\n",
        "    return meteor_avg\n",
        "# Assuming you have test_pairs variable containing test data\n",
        "meteor_score1 = evaluate_meteor(encoder1, decoder1, test_pairs)\n",
        "meteor_score2 = evaluate_meteor2(encoder2, attn_decoder, test_pairs)\n",
        "meteor_score3 = evaluate_meteor(encoder3, decoder3, test_pairs)\n",
        "meteor_score4 = evaluate_meteor(encoder4, decoder4, test_pairs)\n",
        "print(\"METEOR Score1:\", meteor_score1)  # METEOR Score1\n",
        "print(\"METEOR Score2:\", meteor_score2)  # METEOR Score2\n",
        "print(\"METEOR Score3:\", meteor_score3)  # METEOR Score3\n",
        "print(\"METEOR Score4:\", meteor_score4)  # METEOR Score4\n",
        "\n"
      ]
    },
    {
      "cell_type": "code",
      "execution_count": null,
      "metadata": {
        "colab": {
          "base_uri": "https://localhost:8080/"
        },
        "id": "ClBVziZUeERT",
        "outputId": "25b71c13-dec8-453d-9fb1-1e18bc0e3782"
      },
      "outputs": [
        {
          "name": "stderr",
          "output_type": "stream",
          "text": [
            "100%|██████████| 742/742 [00:13<00:00, 53.40it/s]"
          ]
        },
        {
          "name": "stdout",
          "output_type": "stream",
          "text": [
            "Average Accuracy (%): 14.521298834022389\n"
          ]
        },
        {
          "name": "stderr",
          "output_type": "stream",
          "text": [
            "\n"
          ]
        }
      ],
      "source": [
        "def evaluate_accuracy(encoder, decoder, test_pairs):\n",
        "    total_correct = 0\n",
        "    total_items = 0\n",
        "\n",
        "    for pair in tqdm(test_pairs):\n",
        "        input_sentence = pair[0]\n",
        "        target_sentence = pair[1]\n",
        "\n",
        "        output_words = evaluate(encoder, decoder, input_sentence)\n",
        "        output_sentence = ' '.join(output_words)\n",
        "\n",
        "        # Tokenize target and output sentences for comparison\n",
        "        target_tokens = target_sentence.strip().split()\n",
        "        output_tokens = output_sentence.strip().split()\n",
        "\n",
        "        # Calculate number of correctly predicted items\n",
        "        correct_items = sum(1 for token in output_tokens if token in target_tokens)\n",
        "\n",
        "        total_correct += correct_items\n",
        "        total_items += len(target_tokens)\n",
        "\n",
        "    avg_accuracy = (total_correct / total_items) * 100 if total_items > 0 else 0\n",
        "    return avg_accuracy\n",
        "\n",
        "def evaluate_accuracy2(encoder, decoder, test_pairs):\n",
        "    total_correct = 0\n",
        "    total_items = 0\n",
        "\n",
        "    for pair in tqdm(test_pairs):\n",
        "        input_sentence = pair[0]\n",
        "        target_sentence = pair[1]\n",
        "\n",
        "        output_words = evaluate_attn(encoder, decoder, input_sentence)\n",
        "        output_sentence = ' '.join(output_words)\n",
        "\n",
        "        # Tokenize target and output sentences for comparison\n",
        "        target_tokens = target_sentence.strip().split()\n",
        "        output_tokens = output_sentence.strip().split()\n",
        "\n",
        "        # Calculate number of correctly predicted items\n",
        "        correct_items = sum(1 for token in output_tokens if token in target_tokens)\n",
        "\n",
        "        total_correct += correct_items\n",
        "        total_items += len(target_tokens)\n",
        "\n",
        "    avg_accuracy = (total_correct / total_items) * 100 if total_items > 0 else 0\n",
        "    return avg_accuracy\n",
        "# Assuming you have test_pairs variable containing test data\n",
        "accuracy1 = evaluate_accuracy(encoder1, decoder1, test_pairs)\n",
        "accuracy2 = evaluate_accuracy2(encoder2, attn_decoder, test_pairs)\n",
        "accuracy3 = evaluate_accuracy(encoder3, decoder3, test_pairs)\n",
        "accuracy4 = evaluate_accuracy(encoder4, decoder4, test_pairs)\n",
        "print(\"Average Accuracy1 (%):\", accuracy1)\n",
        "print(\"Average Accuracy2 (%):\", accuracy2)\n",
        "print(\"Average Accuracy3 (%):\", accuracy3)\n",
        "print(\"Average Accuracy4 (%):\", accuracy4)\n"
      ]
    },
    {
      "cell_type": "code",
      "execution_count": null,
      "metadata": {
        "colab": {
          "base_uri": "https://localhost:8080/"
        },
        "id": "LWAkylKMiv2u",
        "outputId": "0d1467ef-bf9f-4b23-a37c-c1821b98b7a6"
      },
      "outputs": [
        {
          "name": "stderr",
          "output_type": "stream",
          "text": [
            "100%|██████████| 742/742 [00:14<00:00, 51.73it/s]"
          ]
        },
        {
          "name": "stdout",
          "output_type": "stream",
          "text": [
            "Average Extra Items: 3.6199460916442048\n"
          ]
        },
        {
          "name": "stderr",
          "output_type": "stream",
          "text": [
            "\n"
          ]
        }
      ],
      "source": [
        "def evaluate_extra_items(encoder, decoder, test_pairs):\n",
        "    total_extra_items = 0\n",
        "    total_sentences = len(test_pairs)\n",
        "\n",
        "    for pair in tqdm(test_pairs):\n",
        "        input_sentence = pair[0]\n",
        "        target_sentence = pair[1]\n",
        "\n",
        "        output_words = evaluate(encoder, decoder, input_sentence)\n",
        "        output_sentence = ' '.join(output_words)\n",
        "\n",
        "        # Tokenize target and output sentences for comparison\n",
        "        target_tokens = set(target_sentence.strip().split())\n",
        "        output_tokens = set(output_sentence.strip().split())\n",
        "\n",
        "        # Calculate number of extra predicted items\n",
        "        extra_items = len(output_tokens - target_tokens)\n",
        "\n",
        "        total_extra_items += extra_items\n",
        "\n",
        "    avg_extra_items = total_extra_items / total_sentences if total_sentences > 0 else 0\n",
        "    return avg_extra_items\n",
        "\n",
        "def evaluate_extra_items2(encoder, decoder, test_pairs):\n",
        "    total_extra_items = 0\n",
        "    total_sentences = len(test_pairs)\n",
        "\n",
        "    for pair in tqdm(test_pairs):\n",
        "        input_sentence = pair[0]\n",
        "        target_sentence = pair[1]\n",
        "\n",
        "        output_words = evaluate_attn(encoder, decoder, input_sentence)\n",
        "        output_sentence = ' '.join(output_words)\n",
        "\n",
        "        # Tokenize target and output sentences for comparison\n",
        "        target_tokens = set(target_sentence.strip().split())\n",
        "        output_tokens = set(output_sentence.strip().split())\n",
        "\n",
        "        # Calculate number of extra predicted items\n",
        "        extra_items = len(output_tokens - target_tokens)\n",
        "\n",
        "        total_extra_items += extra_items\n",
        "\n",
        "    avg_extra_items = total_extra_items / total_sentences if total_sentences > 0 else 0\n",
        "    return avg_extra_items\n",
        "\n",
        "# Assuming you have test_pairs variable containing test data\n",
        "avg_extra_items1 = evaluate_extra_items(encoder1, decoder1, test_pairs)\n",
        "avg_extra_items2 = evaluate_extra_items2(encoder2, attn_decoder, test_pairs)\n",
        "avg_extra_items3 = evaluate_extra_items(encoder3, decoder3, test_pairs)\n",
        "avg_extra_items4 = evaluate_extra_items(encoder4, decoder4, test_pairs)\n",
        "print(\"Average Extra Items1:\", avg_extra_items1)\n",
        "print(\"Average Extra Items2:\", avg_extra_items2)\n",
        "print(\"Average Extra Items3:\", avg_extra_items3)\n",
        "print(\"Average Extra Items4:\", avg_extra_items4)\n"
      ]
    },
    {
      "cell_type": "code",
      "execution_count": 56,
      "metadata": {
        "colab": {
          "base_uri": "https://localhost:8080/"
        },
        "id": "y51G1D32hRSp",
        "outputId": "dc434eb2-03db-48c4-8617-78c38dce427b"
      },
      "outputs": [
        {
          "output_type": "stream",
          "name": "stdout",
          "text": [
            ">  lb mushrooms tb oil tb water c milk tb corn starch dissolved c water salt parsley sprig sl luncheon ham\n",
            "= select mushrooms unopened caps . cut stems mushrooms caps remain . retain mushroom stems soup . mince slice ham also mince parsley . assemble ingredients . place oil wok heat low medium heat minutes . add mushrooms wok stir fry minute . add tablespoons water cover wok gently stir fry mushrooms minutes . lift cover times stir mushrooms cooking period . mushrooms cooked remove platter . arrange mushrooms caps upright pour juices wok . place cup milk wok add thoroughly stirred corn starch solution . cook low medium heat white sauce thickened . pour white sauce mushroom caps garnish minced ham parsley .\n",
            "< preheat oven degrees . add eggs . add eggs . add eggs . add eggs . add eggs . add eggs . <EOS>\n",
            "\n",
            ">  sm onions garlic cloves ginger root piece cloves cinnamon stick cardamom pods salt water tb indian curry powder ts chili powder lb lamb cut bite size chunks tb ghee clarified butter oil sprigs curry leaves lime juice\n",
            "= grind onions garlic ginger root cloves cinnamon whole cardamom pods together food processor . add salt taste cup water add curry powder chili powder . process . rub paste lamb chunks . heat ghee skillet . add lamb fry oil rises surface . add curry leaves . simmer hours adding little water curry becomes dry . serving time squeeze lime juice curry . milligrams sodium milligrams cholesterol \n",
            "< preheat oven degrees . add eggs . add eggs . add eggs . add eggs . add eggs . add eggs . add eggs . add eggs . add eggs . add eggs . add eggs . <EOS>\n",
            "\n",
            ">  lg tomatoes ripe ts salt c salad oil ts oregano leaves tb lemon juice ts pepper garlic clove minced\n",
            "= peel tomatoes cut thick slices . combine remaining ingredients . pour tomatoes . chill thoroughly stirring twice .\n",
            "< preheat oven degrees . add eggs . add eggs . add eggs . add eggs . <EOS>\n",
            "\n",
            ">  lb green bananas c chicken stock tb butter small onion chopped c light cream milk eggs beaten salt ground nutmeg pn cinnamon c grated cheddar cheese c fresh bread crumbs\n",
            "= place bananas saucepan add enough chicken stock cover . bring boil reduce heat simmer bananas tender minutes . let cool slightly . meanwhile heat butter small frypan saute onions tender . add onions cream beaten eggs cooked bananas combined season salt nutmeg cinnamon taste . place banana mixture buttered shallow baking dish . combine cheese bread crumbs sprinkle top . bake minutes top golden . serves .\n",
            "< preheat oven degrees . add eggs . add eggs . add eggs . add eggs . add eggs . add eggs . add eggs . <EOS>\n",
            "\n",
            ">  lb smoked sausage lg carrots chopped fine c salad oil qt chicken broth c flour c lentils stalks celery chopped fine tb worcestershire cl garlic minced ts pepper md onions diced ts cayenne\n",
            "=  quart pan medium heat cook sausage stirring brow . spoon pan reserve . add oi drippings pan make cup fat . add flour stir mixture red brown abouth minutes . add celery garlic onion crrots cook stirring vegetables begint soften minutes . add reserved sauseage chicken broth lentils worcestershire pepper cayenne . bring boiling high ehat redue simmer cover cook lentils ar soft pressed minutes .\n",
            "< preheat oven degrees . add eggs . add eggs . add eggs . add eggs . add eggs . add eggs . add eggs . add eggs . <EOS>\n",
            "\n",
            ">  c paprika c black pepper c salt ea ? ? ? ? ? ? see directions\n",
            "= use rub base add favorite dry spices make smoker best block .\n",
            "< preheat oven degrees . add eggs . add eggs . add eggs . add eggs . add eggs . <EOS>\n",
            "\n",
            ">  bunch asparagus tb gold medal flour c milk scalded ts salt taste eggs ts pepper tb butter rolls \n",
            "= cut tops rolls serve covers . remove crumb dust shells covers melted butter brown oven . make white sauce milk butter flour . cut tender part asparagus fine cook minutes white sauce fill rolls mixture place tops serve hot .\n",
            "< preheat oven degrees . add eggs . add eggs . <EOS>\n",
            "\n",
            ">  cn oz . salmon drained tb lemon juice boned flaked ts salt c celery diced sl toast c mayonnaise salad dressing sl american cheese\n",
            "= combine salmon celery mayo salad dressing lemon juice salt . spread salmon mixture toast slices top slice cheese . broil tops sandwiches inces unit tip flame minutes cheese bubbly . joann pierce\n",
            "< preheat oven degrees . add eggs . add eggs . add eggs . add eggs . add eggs . add eggs . <EOS>\n",
            "\n",
            ">  lb tomatoes peeled seeded chopped tb sun dried tomatoes packed oil finely chopped tb oil sun dried tomatoes tb olive oil lb pancetta slab bacon diced c parsley finely chopped salt necessary\n",
            "= preheat oven degrees f . combine fresh tomatoes sun dried tomatoes set aside . pour oils inch baking dish place oven heat oil minutes . add pancetta return oven pancetta starts brown tossing occasionally spatula minutes . stir tomatoes . bake minutes stirring occasionally tomatoes cooked form sauce . remove oven stir parsley . season salt necessary . cook pound dried pasta fusilli lrb spiral shaped rrb salted water following package directions . drain . serve sauce pasta pass cup freshly grated parmesan cheese table . freeze spoon freezer container cover label freeze degrees f months . serve defrost sauce minutes microwave oven defrost setting stirring several times thaw refrigerator hours . gently warm sauce saucepan microwave oven power warmed minutes whisking frequently vigorously bring creamy consistency .\n",
            "< preheat oven degrees . add eggs . add eggs . add eggs . add eggs . add eggs . add eggs . add eggs . add eggs . add eggs . add eggs . <EOS>\n",
            "\n",
            ">  c sugar tb . jello flavor fruit . baked pie shell tb . cornstarch c water whipped creme c fruit frozen alright \n",
            "= combine sugar cornstarch water heavy saucepan cook medium heat thick fairly clear . remove heat add jello mix . stir dissolved . stir fruit pour shell chill . serve whipped cream water fill small crusts .\n",
            "< preheat oven degrees . add eggs . add eggs . add eggs . add eggs . add eggs . <EOS>\n",
            "\n"
          ]
        }
      ],
      "source": [
        "evaluateRandomly(encoder1, decoder1)"
      ]
    },
    {
      "cell_type": "code",
      "execution_count": 54,
      "metadata": {
        "id": "ayqs64JptZi2"
      },
      "outputs": [],
      "source": [
        "def evaluateRandomly(encoder, decoder, n=10):\n",
        "    for i in range(n):\n",
        "        pair = random.choice(pairs)\n",
        "        print('>', pair[0])\n",
        "        print('=', pair[1])\n",
        "        output_words= evaluate(encoder, decoder, pair[0])\n",
        "        output_sentence = ' '.join(output_words)\n",
        "        print('<', output_sentence)\n",
        "        print('')"
      ]
    },
    {
      "cell_type": "code",
      "source": [
        "sentence1 = ': 2 c sugar, 1/4 c lemon juice, 1 c water, 1/3 c orange juice, 8 c strawberries'\n",
        "output_words= evaluate(encoder1, decoder1, sentence1)\n",
        "output_sentence = ' '.join(output_words)\n",
        "print('<', output_sentence)"
      ],
      "metadata": {
        "colab": {
          "base_uri": "https://localhost:8080/"
        },
        "id": "qOWaAbXQ09Ei",
        "outputId": "94311ad1-0139-4782-872b-f5eb7186a172"
      },
      "execution_count": 55,
      "outputs": [
        {
          "output_type": "stream",
          "name": "stdout",
          "text": [
            "< preheat oven degrees . add eggs . add eggs . add eggs . add eggs . <EOS>\n"
          ]
        }
      ]
    },
    {
      "cell_type": "code",
      "source": [
        "sentence1 = ': 2 c sugar, 1/4 c lemon juice, 1 c water, 1/3 c orange juice, 8 c strawberries'\n",
        "output_words= evaluate_attn(encoder1, decoder1, sentence1)\n",
        "output_sentence = ' '.join(output_words)\n",
        "print('<', output_sentence)"
      ],
      "metadata": {
        "id": "EODPCuU-brpN"
      },
      "execution_count": null,
      "outputs": []
    },
    {
      "cell_type": "code",
      "source": [
        "sentence1 = ': 2 c sugar, 1/4 c lemon juice, 1 c water, 1/3 c orange juice, 8 c strawberries'\n",
        "output_words= evaluate(encoder1, decoder1, sentence1)\n",
        "output_sentence = ' '.join(output_words)\n",
        "print('<', output_sentence)"
      ],
      "metadata": {
        "id": "cHIqbzNGbrxE"
      },
      "execution_count": null,
      "outputs": []
    },
    {
      "cell_type": "code",
      "source": [
        "sentence1 = ': 2 c sugar, 1/4 c lemon juice, 1 c water, 1/3 c orange juice, 8 c strawberries'\n",
        "output_words= evaluate(encoder1, decoder1, sentence1)\n",
        "output_sentence = ' '.join(output_words)\n",
        "print('<', output_sentence)"
      ],
      "metadata": {
        "id": "wYDnQYUgbr5J"
      },
      "execution_count": null,
      "outputs": []
    }
  ],
  "metadata": {
    "colab": {
      "provenance": [],
      "machine_shape": "hm"
    },
    "kernelspec": {
      "display_name": "Python 3",
      "name": "python3"
    },
    "language_info": {
      "name": "python"
    }
  },
  "nbformat": 4,
  "nbformat_minor": 0
}