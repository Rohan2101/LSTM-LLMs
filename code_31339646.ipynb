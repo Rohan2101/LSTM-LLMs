{
  "cells": [
    {
      "cell_type": "code",
      "execution_count": 3,
      "metadata": {
        "colab": {
          "base_uri": "https://localhost:8080/"
        },
        "id": "bF5F5hvjspLp",
        "outputId": "066832fb-15ab-4946-d011-4b79661af3cd"
      },
      "outputs": [
        {
          "output_type": "stream",
          "name": "stdout",
          "text": [
            "Mounted at /content/drive\n"
          ]
        }
      ],
      "source": [
        "from google.colab import drive\n",
        "drive.mount('/content/drive')"
      ]
    },
    {
      "cell_type": "code",
      "execution_count": 4,
      "metadata": {
        "colab": {
          "base_uri": "https://localhost:8080/"
        },
        "id": "CCE0_bX9T5J2",
        "outputId": "db1e84e1-d094-43bc-f235-f9cf9102905e"
      },
      "outputs": [
        {
          "output_type": "stream",
          "name": "stderr",
          "text": [
            "[nltk_data] Downloading package punkt to /root/nltk_data...\n",
            "[nltk_data]   Unzipping tokenizers/punkt.zip.\n",
            "[nltk_data] Downloading package wordnet to /root/nltk_data...\n",
            "[nltk_data] Downloading package stopwords to /root/nltk_data...\n",
            "[nltk_data]   Unzipping corpora/stopwords.zip.\n"
          ]
        }
      ],
      "source": [
        "import nltk\n",
        "nltk.download('punkt')\n",
        "nltk.download('wordnet')\n",
        "from nltk.corpus import stopwords\n",
        "\n",
        "# Download the stop words from NLTK\n",
        "nltk.download('stopwords')\n",
        "stop_words = set(stopwords.words('english'))"
      ]
    },
    {
      "cell_type": "code",
      "execution_count": 65,
      "metadata": {
        "id": "0EejFdoCtZcg"
      },
      "outputs": [],
      "source": [
        "from __future__ import unicode_literals, print_function, division\n",
        "from io import open\n",
        "import unicodedata\n",
        "import string\n",
        "import re\n",
        "import random\n",
        "\n",
        "import torch\n",
        "import torch.nn as nn\n",
        "from torch import optim\n",
        "import torch.nn.functional as F\n",
        "\n",
        "device = torch.device(\"cuda\" if torch.cuda.is_available() else \"cpu\")"
      ]
    },
    {
      "cell_type": "code",
      "execution_count": 66,
      "metadata": {
        "id": "F7mJG2Yk7d3o"
      },
      "outputs": [],
      "source": [
        "import pandas as pd\n",
        "from nltk.corpus import stopwords\n",
        "from nltk.tokenize import word_tokenize\n",
        "\n",
        "def remove_stop_words(text):\n",
        "    stop_words = set(stopwords.words('english'))\n",
        "    word_tokens = word_tokenize(text)\n",
        "    filtered_text = ' '.join([word for word in word_tokens if word.lower() not in stop_words])\n",
        "    return filtered_text\n",
        "df = pd.read_csv(\"/content/drive/MyDrive/train.csv\")\n",
        "df = df.sample(frac=1).reset_index(drop=True)\n",
        "df = df[0:5000]\n",
        "for x in range(len(df['Recipe'])):\n",
        "    if type(df['Recipe'][x]) != str:\n",
        "        df['Recipe'][x] = ''\n",
        "df2 = pd.read_csv(\"/content/drive/MyDrive/dev.csv\")\n",
        "for x in range(len(df2['Recipe'])):\n",
        "    if type(df2['Recipe'][x]) != str:\n",
        "        df2['Recipe'][x] = ''\n",
        "# Apply the function to the DataFrame columns\n",
        "df['Ingredients'] = df['Ingredients'].apply(remove_stop_words)\n",
        "df['Recipe'] = df['Recipe'].apply(remove_stop_words)\n",
        "df['Ingredients'] = df['Ingredients'].str.lower()\n",
        "df['Recipe'] = df['Recipe'].str.lower()\n",
        "df2['Ingredients'] = df2['Ingredients'].apply(remove_stop_words)\n",
        "df2['Recipe'] = df2['Recipe'].apply(remove_stop_words)\n",
        "df2['Ingredients'] = df2['Ingredients'].str.lower()\n",
        "df2['Recipe'] = df2['Recipe'].str.lower()"
      ]
    },
    {
      "cell_type": "code",
      "execution_count": 67,
      "metadata": {
        "colab": {
          "base_uri": "https://localhost:8080/"
        },
        "id": "QYxvRzD7DvfN",
        "outputId": "6d71923b-9a98-4238-e031-378a21fa9c8f"
      },
      "outputs": [
        {
          "output_type": "stream",
          "name": "stdout",
          "text": [
            "Maximum length of strings in 'Ingredients' column: 150\n",
            "Reading lines...\n",
            "Read 5000 sentence pairs\n",
            "Trimmed to 4757 sentence pairs\n",
            "Counting words...\n",
            "Counted words:\n",
            "eng2 4430\n",
            "eng 8126\n",
            "[' lb flank steak sliced ts soy sauce dark ts rice wine ts ginger chopped fine ts cornstarch ts sesame oil c peanut oil red chilies dried halved pn orange peel dried soaked ts szechuan peppercorns roaste ts soy sauce dark ts salt ts sugar ts sesame oil', 'combine beef marinade let stand min . heat oil wok large skillet hot . remove bbef marinade add oil stir fry brown lrb abt . min rrb . remove drain . remove tbs oil reheat il add chili peppers stir fry sec . add beef orange peel seasonings . stir fry min mixing well . serve .']\n",
            "Reading lines...\n",
            "Read 797 sentence pairs\n",
            "Trimmed to 764 sentence pairs\n",
            "Counting words...\n",
            "Counted words:\n",
            "eng2 1891\n",
            "eng 3506\n",
            "[' tb butter c sugar brown eggs c flour ts baking powder ts vanilla extract c sesame seeds', 'preheat oven . cream butter soft gradually beat sugar egg mixture fluffy . combine flour baking powder stir butter mixture . add vanilla sesame seeds mix well . drop dough teaspoonfuls onto greased cookie sheets apart . bake minutes cookies light brown . let cookies rest minute remove immediately baking sheet . cookies harden removal return oven minute soften .']\n"
          ]
        }
      ],
      "source": [
        "import pandas as pd\n",
        "import re\n",
        "import unicodedata\n",
        "import random\n",
        "import torch\n",
        "\n",
        "\n",
        "file_path = \"\"\n",
        "\n",
        "# MAX_LENGTH = df['Ingredients'].str.len().max()\n",
        "MAX_LENGTH = 150\n",
        "print(\"Maximum length of strings in 'Ingredients' column:\", MAX_LENGTH)\n",
        "with open(\"1.txt\", \"w\") as file:\n",
        "    for index, row in df.iterrows():\n",
        "        file.write(f\"{row['Recipe']}:::{row['Ingredients']}\\n\")\n",
        "\n",
        "SOS_token = 0\n",
        "EOS_token = 1\n",
        "UNK_token = 2\n",
        "\n",
        "class Lang:\n",
        "    def __init__(self, name):\n",
        "        self.name = name\n",
        "        self.word2index = {}\n",
        "        self.word2count = {}\n",
        "        self.index2word = {0: \"SOS\", 1: \"EOS\", 2: \"UNK\"}\n",
        "        self.n_words = 3  # Count SOS, EOS, and UNK\n",
        "\n",
        "    def addSentence(self, sentence):\n",
        "        for word in sentence.split(' '):\n",
        "            self.addWord(word)\n",
        "\n",
        "    def addWord(self, word):\n",
        "        if word not in self.word2index:\n",
        "            self.word2index[word] = self.n_words\n",
        "            self.word2count[word] = 1\n",
        "            self.index2word[self.n_words] = word\n",
        "            self.n_words += 1\n",
        "        else:\n",
        "            self.word2count[word] += 1\n",
        "\n",
        "def unicodeToAscii(s):\n",
        "    return ''.join(\n",
        "        c for c in unicodedata.normalize('NFD', s)\n",
        "        if unicodedata.category(c) != 'Mn'\n",
        "    )\n",
        "\n",
        "def normalizeString(s):\n",
        "    s = unicodeToAscii(s.lower().strip())\n",
        "    s = re.sub(r\"([.!?])\", r\" \\1\", s)\n",
        "    s = re.sub(r\"[^a-zA-Z.!?]+\", r\" \", s)\n",
        "    return s\n",
        "\n",
        "def readLangs(lang1, lang2, reverse=False):\n",
        "    print(\"Reading lines...\")\n",
        "\n",
        "    # Read the file and split into lines\n",
        "    file_name = file_path + '1.txt'\n",
        "    lines = open(file_name, encoding='utf-8').\\\n",
        "        read().strip().split('\\n')\n",
        "\n",
        "    # Split every line into pairs and normalize\n",
        "    pairs = [[normalizeString(s) for s in l.split(':::')] for l in lines]\n",
        "\n",
        "    # Reverse pairs, make Lang instances\n",
        "    if reverse:\n",
        "        pairs = [list(reversed(p)) for p in pairs]\n",
        "        input_lang = Lang(lang2)\n",
        "        output_lang = Lang(lang1)\n",
        "    else:\n",
        "        input_lang = Lang(lang1)\n",
        "        output_lang = Lang(lang2)\n",
        "\n",
        "    return input_lang, output_lang, pairs\n",
        "\n",
        "def filterPair(p):\n",
        "    return len(p[0].split(' ')) < MAX_LENGTH and \\\n",
        "        len(p[1].split(' ')) < MAX_LENGTH\n",
        "\n",
        "def filterPairs(pairs):\n",
        "    return [pair for pair in pairs if filterPair(pair)]\n",
        "\n",
        "def prepareData(lang1, lang2, reverse=False):\n",
        "    input_lang, output_lang, pairs = readLangs(lang1, lang2, reverse)\n",
        "    print(\"Read %s sentence pairs\" % len(pairs))\n",
        "    pairs = filterPairs(pairs)\n",
        "    print(\"Trimmed to %s sentence pairs\" % len(pairs))\n",
        "    print(\"Counting words...\")\n",
        "    for pair in pairs:\n",
        "        input_lang.addSentence(pair[0])\n",
        "        output_lang.addSentence(pair[1])\n",
        "    print(\"Counted words:\")\n",
        "    print(input_lang.name, input_lang.n_words)\n",
        "    print(output_lang.name, output_lang.n_words)\n",
        "    return input_lang, output_lang, pairs\n",
        "\n",
        "input_lang, output_lang, pairs = prepareData('eng', 'eng2', True)\n",
        "print(random.choice(pairs))\n",
        "\n",
        "def indexesFromSentence(lang, sentence):\n",
        "    return [lang.word2index.get(word, UNK_token) for word in sentence.split(' ')]\n",
        "\n",
        "def tensorFromSentence(lang, sentence):\n",
        "    indexes = indexesFromSentence(lang, sentence)\n",
        "    indexes.append(EOS_token)\n",
        "    return torch.tensor(indexes, dtype=torch.long, device=device).view(-1, 1)\n",
        "\n",
        "def tensorsFromPair(pair):\n",
        "    input_tensor = tensorFromSentence(input_lang, pair[0])\n",
        "    target_tensor = tensorFromSentence(output_lang, pair[1])\n",
        "    return (input_tensor, target_tensor)\n",
        "\n",
        "with open(\"2.txt\", \"w\") as file:\n",
        "    for index, row in df2.iterrows():\n",
        "        file.write(f\"{row['Recipe']}:::{row['Ingredients']}\\n\")\n",
        "\n",
        "def readLangs(lang1, lang2, reverse=False):\n",
        "    print(\"Reading lines...\")\n",
        "\n",
        "    # Read the file and split into lines\n",
        "    file_name = file_path + '2.txt'\n",
        "    lines = open(file_name, encoding='utf-8').\\\n",
        "        read().strip().split('\\n')\n",
        "\n",
        "    # Split every line into pairs and normalize\n",
        "    pairs = [[normalizeString(s) for s in l.split(':::')] for l in lines]\n",
        "\n",
        "    # Reverse pairs, make Lang instances\n",
        "    if reverse:\n",
        "        pairs = [list(reversed(p)) for p in pairs]\n",
        "        input_lang = Lang(lang2)\n",
        "        output_lang = Lang(lang1)\n",
        "    else:\n",
        "        input_lang = Lang(lang1)\n",
        "        output_lang = Lang(lang2)\n",
        "\n",
        "    return input_lang, output_lang, pairs\n",
        "\n",
        "dev_input_lang, dev_output_lang, dev_pairs = prepareData('eng', 'eng2', True)\n",
        "print(random.choice(dev_pairs))\n"
      ]
    },
    {
      "cell_type": "markdown",
      "source": [
        "BASELINE 1"
      ],
      "metadata": {
        "id": "vrUmm_z4X6C3"
      }
    },
    {
      "cell_type": "code",
      "execution_count": 68,
      "metadata": {
        "id": "blTvcCVKuHrR"
      },
      "outputs": [],
      "source": [
        "class EncoderRNN(nn.Module):\n",
        "    def __init__(self, input_size, hidden_size):\n",
        "        super(EncoderRNN, self).__init__()\n",
        "        self.hidden_size = hidden_size\n",
        "        self.embedding = nn.Embedding(input_size, hidden_size)\n",
        "        self.lstm = nn.LSTM(hidden_size, hidden_size)\n",
        "\n",
        "    def forward(self, input, hidden):\n",
        "        embedded = self.embedding(input).view(1, 1, -1)\n",
        "        output = embedded\n",
        "        output, hidden = self.lstm(output, hidden)\n",
        "        return output, hidden\n",
        "\n",
        "    def initHidden(self):\n",
        "        return torch.zeros(1, 1, self.hidden_size, device=device), torch.zeros(1, 1, self.hidden_size, device=device)"
      ]
    },
    {
      "cell_type": "code",
      "execution_count": 48,
      "metadata": {
        "id": "6PpJ549duH0o"
      },
      "outputs": [],
      "source": [
        "class DecoderRNN(nn.Module):\n",
        "    def __init__(self, hidden_size, output_size):\n",
        "        super(DecoderRNN, self).__init__()\n",
        "        self.hidden_size = hidden_size\n",
        "        self.embedding = nn.Embedding(output_size, hidden_size)\n",
        "        self.lstm = nn.LSTM(hidden_size, hidden_size)\n",
        "        self.out = nn.Linear(hidden_size, output_size)\n",
        "        self.softmax = nn.LogSoftmax(dim=1)\n",
        "    def forward(self, input, hidden):\n",
        "        output = self.embedding(input).view(1, 1, -1)\n",
        "        output = F.relu(output)\n",
        "        output, hidden = self.lstm(output, hidden)\n",
        "        output = self.softmax(self.out(output[0]))\n",
        "        return output, hidden\n",
        "    def initHidden(self):\n",
        "        return torch.zeros(1, 1, self.hidden_size, device=device), torch.zeros(1, 1, self.hidden_size, device=device)"
      ]
    },
    {
      "cell_type": "code",
      "execution_count": 49,
      "metadata": {
        "id": "P3AXLS4nuH4i"
      },
      "outputs": [],
      "source": [
        "teacher_forcing_ratio = 1\n",
        "def train(input_tensor, target_tensor, encoder, decoder, encoder_optimizer, decoder_optimizer, criterion, max_length=MAX_LENGTH):\n",
        "    encoder_hidden = encoder.initHidden()\n",
        "    encoder_optimizer.zero_grad()\n",
        "    decoder_optimizer.zero_grad()\n",
        "    input_length = input_tensor.size(0)\n",
        "    target_length = target_tensor.size(0)\n",
        "    encoder_outputs = torch.zeros(max_length, encoder.hidden_size, device=device)\n",
        "    loss = 0\n",
        "    for ei in range(input_length):\n",
        "        encoder_output, encoder_hidden = encoder(\n",
        "            input_tensor[ei], encoder_hidden)\n",
        "        encoder_outputs[ei] = encoder_output[0, 0]\n",
        "    decoder_input = torch.tensor([[SOS_token]], device=device)\n",
        "    decoder_hidden = encoder_hidden\n",
        "    use_teacher_forcing = True if random.random() < teacher_forcing_ratio else False\n",
        "    if use_teacher_forcing:\n",
        "        for di in range(target_length):\n",
        "            decoder_output, decoder_hidden = decoder(\n",
        "                decoder_input, decoder_hidden)\n",
        "            loss += criterion(decoder_output, target_tensor[di])\n",
        "            decoder_input = target_tensor[di]\n",
        "    else:\n",
        "        for di in range(target_length):\n",
        "            decoder_output, decoder_hidden = decoder(\n",
        "                decoder_input, decoder_hidden)\n",
        "            topv, topi = decoder_output.topk(1)\n",
        "            decoder_input = topi.squeeze().detach()\n",
        "            loss += criterion(decoder_output, target_tensor[di])\n",
        "            if decoder_input.item() == EOS_token:\n",
        "                break\n",
        "    loss.backward()\n",
        "    encoder_optimizer.step()\n",
        "    decoder_optimizer.step()\n",
        "    return loss.item() / target_length"
      ]
    },
    {
      "cell_type": "code",
      "execution_count": 50,
      "metadata": {
        "id": "dO7VnhhJukxH"
      },
      "outputs": [],
      "source": [
        "import time\n",
        "import math\n",
        "def asMinutes(s):\n",
        "    m = math.floor(s / 60)\n",
        "    s -= m * 60\n",
        "    return '%dm %ds' % (m, s)\n",
        "def timeSince(since, percent):\n",
        "    now = time.time()\n",
        "    s = now - since\n",
        "    es = s / (percent)\n",
        "    rs = es - s\n",
        "    return '%s (- %s)' % (asMinutes(s), asMinutes(rs))"
      ]
    },
    {
      "cell_type": "code",
      "execution_count": 51,
      "metadata": {
        "id": "-SmUDlGfsZ6A"
      },
      "outputs": [],
      "source": [
        "def trainIters(encoder, decoder, n_iters, print_every=1000, plot_every=100, learning_rate=0.01):\n",
        "    start = time.time()\n",
        "    plot_losses = []\n",
        "    dll = []\n",
        "    print_loss_total = 0\n",
        "    plot_loss_total = 0\n",
        "    encoder_optimizer = optim.Adam(encoder.parameters(), lr=learning_rate)\n",
        "    decoder_optimizer = optim.Adam(decoder.parameters(), lr=learning_rate)\n",
        "    training_pairs = [tensorsFromPair(random.choice(pairs))\n",
        "                      for i in range(n_iters)]\n",
        "    dev_pairs2 = [tensorsFromPair(random.choice(dev_pairs))\n",
        "                      for i in range(n_iters)]\n",
        "    criterion = nn.NLLLoss()\n",
        "    for iter in range(1, n_iters + 1):\n",
        "        training_pair = training_pairs[iter - 1]\n",
        "        input_tensor = training_pair[0]\n",
        "        target_tensor = training_pair[1]\n",
        "        loss = train(input_tensor, target_tensor, encoder,\n",
        "                     decoder, encoder_optimizer, decoder_optimizer, criterion)\n",
        "        print_loss_total += loss\n",
        "        plot_loss_total += loss\n",
        "        if iter % print_every == 0:\n",
        "            print_loss_avg = print_loss_total / print_every\n",
        "            print_loss_total = 0\n",
        "            print('%s (%d %d%%) %.4f' % (timeSince(start, iter / n_iters),\n",
        "                                         iter, iter / n_iters * 100, print_loss_avg))\n",
        "            # Calculate development loss\n",
        "            dl = 0\n",
        "            with torch.no_grad():\n",
        "              for d in dev_pairs2:\n",
        "                input_tensor = d[0]\n",
        "                target_tensor = d[1]\n",
        "                loss2 = evaluate2(input_tensor, target_tensor, encoder, decoder,criterion)\n",
        "                dl += loss2\n",
        "            dl / len(dev_pairs2)\n",
        "            dl_avg = dl / len(dev_pairs2)\n",
        "            dll.append((iter, dl_avg))\n",
        "            print('Dev Loss is: %.4f' % dl_avg)\n",
        "        if iter % plot_every == 0:\n",
        "            plot_loss_avg = plot_loss_total / plot_every\n",
        "            plot_losses.append((iter, plot_loss_avg))\n",
        "            plot_loss_total = 0\n",
        "    # showPlot(plot_losses, dll)\n",
        "\n",
        "def evaluate2(input_tensor, target_tensor, encoder, decoder, criterion):\n",
        "    with torch.no_grad():\n",
        "        encoder_hidden = encoder.initHidden(device)\n",
        "        input_length = input_tensor.size(0)\n",
        "        target_length = target_tensor.size(0)\n",
        "        encoder_outputs = torch.zeros(MAX_LENGTH, encoder.hidden_size, device=device)\n",
        "        loss = 0\n",
        "        for ei in range(input_length):\n",
        "            encoder_output, encoder_hidden = encoder(input_tensor[ei],\n",
        "                                                     encoder_hidden)\n",
        "            encoder_outputs[ei] = encoder_output[0, 0]\n",
        "        decoder_input = torch.tensor([[SOS_token]], device=device)\n",
        "        decoder_hidden = encoder_hidden\n",
        "        for di in range(target_length):\n",
        "            decoder_output, decoder_hidden = decoder(decoder_input, decoder_hidden)\n",
        "            topv, topi = decoder_output.topk(1)\n",
        "            decoder_input = topi.squeeze().detach()\n",
        "            loss += criterion(decoder_output, target_tensor[di])\n",
        "            if decoder_input.item() == EOS_token:\n",
        "                break\n",
        "    return loss.item() / target_length\n",
        "\n",
        "def evaluate(encoder, decoder, sentence, max_length=MAX_LENGTH):\n",
        "    with torch.no_grad():\n",
        "        input_tensor = tensorFromSentence(input_lang, sentence)\n",
        "        input_length = input_tensor.size()[0]\n",
        "        encoder_hidden = encoder.initHidden(device)\n",
        "        encoder_outputs = torch.zeros(max_length, encoder.hidden_size, device=device)\n",
        "        for ei in range(input_length):\n",
        "            encoder_output, encoder_hidden = encoder(input_tensor[ei],\n",
        "                                                     encoder_hidden)\n",
        "            encoder_outputs[ei] += encoder_output[0, 0]\n",
        "        decoder_input = torch.tensor([[SOS_token]], device=device)\n",
        "        decoder_hidden = encoder_hidden\n",
        "        decoded_words = []\n",
        "        decoder_attentions = torch.zeros(max_length, max_length)\n",
        "        for di in range(max_length):\n",
        "            decoder_output, decoder_hidden = decoder(\n",
        "                decoder_input, decoder_hidden)\n",
        "            topv, topi = decoder_output.data.topk(1)\n",
        "            if topi.item() == EOS_token:\n",
        "                decoded_words.append('<EOS>')\n",
        "                break\n",
        "            else:\n",
        "                decoded_words.append(output_lang.index2word[topi.item()])\n",
        "            decoder_input = topi.squeeze().detach()\n",
        "        return decoded_words"
      ]
    },
    {
      "cell_type": "code",
      "source": [
        "import matplotlib.pyplot as plt\n",
        "plt.switch_backend('agg')\n",
        "import matplotlib.ticker as ticker\n",
        "import numpy as np\n",
        "%matplotlib inline\n",
        "def showPlot(tl, dl):\n",
        "    plt.figure()\n",
        "    fig, ax = plt.subplots()\n",
        "    tli, tlv = zip(*tl)\n",
        "    di, dv = zip(*dl)\n",
        "    ax.plot(tli, tlv, 'b-', label='Training Loss')\n",
        "    ax.plot(di, dv, 'r--', label='Development Loss')\n",
        "    ax.set_xlabel('Iterations numbers')\n",
        "    ax.set_ylabel('Loss values')\n",
        "    ax.set_title('Training and Dev Losses')\n",
        "    ax.legend()\n",
        "    plt.show()"
      ],
      "metadata": {
        "id": "azYe6etvf6sy"
      },
      "execution_count": 52,
      "outputs": []
    },
    {
      "cell_type": "code",
      "source": [
        "hidden_size = 256\n",
        "encoder1 = EncoderRNN(input_lang.n_words, hidden_size).to(device)\n",
        "decoder1 = DecoderRNN(hidden_size, output_lang.n_words).to(device)\n",
        "\n",
        "trainIters(encoder1, decoder1, 10000, print_every=1000)"
      ],
      "metadata": {
        "colab": {
          "base_uri": "https://localhost:8080/",
          "height": 847
        },
        "id": "PgT2XZ5mYkPu",
        "outputId": "8174b7f2-8c96-409c-a963-d01b6438ed0d"
      },
      "execution_count": null,
      "outputs": [
        {
          "output_type": "stream",
          "name": "stdout",
          "text": [
            "1m 33s (- 14m 0s) (1000 10%) Training Loss: 5.2320\n",
            "Dev Loss: 4.0537\n",
            "3m 19s (- 13m 17s) (2000 20%) Training Loss: 4.7244\n",
            "Dev Loss: 7.5774\n",
            "5m 19s (- 12m 25s) (3000 30%) Training Loss: 4.5549\n",
            "Dev Loss: 3.7351\n",
            "7m 6s (- 10m 40s) (4000 40%) Training Loss: 4.4544\n",
            "Dev Loss: 3.8976\n",
            "8m 55s (- 8m 55s) (5000 50%) Training Loss: 4.4258\n",
            "Dev Loss: 8.6804\n",
            "10m 55s (- 7m 17s) (6000 60%) Training Loss: 4.3670\n",
            "Dev Loss: 4.7012\n",
            "12m 43s (- 5m 27s) (7000 70%) Training Loss: 4.3279\n",
            "Dev Loss: 7.7667\n",
            "14m 40s (- 3m 40s) (8000 80%) Training Loss: 4.3119\n",
            "Dev Loss: 5.5144\n",
            "16m 26s (- 1m 49s) (9000 90%) Training Loss: 4.3015\n",
            "Dev Loss: 5.1630\n",
            "18m 17s (- 0m 0s) (10000 100%) Training Loss: 4.2576\n",
            "Dev Loss: 5.0244\n"
          ]
        },
        {
          "output_type": "display_data",
          "data": {
            "text/plain": [
              "<Figure size 640x480 with 0 Axes>"
            ]
          },
          "metadata": {}
        },
        {
          "output_type": "display_data",
          "data": {
            "text/plain": [
              "<Figure size 640x480 with 1 Axes>"
            ],
            "image/png": "[encoded data removed]"
          },
          "metadata": {}
        }
      ]
    },
    {
      "cell_type": "code",
      "source": [
        "torch.save(encoder1.state_dict(), '/content/drive/My Drive/encoder1.pth')\n",
        "torch.save(decoder1.state_dict(), '/content/drive/My Drive/decoder1.pth')\n",
        "\n",
        "# Save the trainIters function\n",
        "import pickle\n",
        "with open('/content/drive/My Drive/trainIter1.pkl', 'wb') as f:\n",
        "    pickle.dump(trainIters, f)"
      ],
      "metadata": {
        "id": "-JeD8T-H18oV"
      },
      "execution_count": 56,
      "outputs": []
    },
    {
      "cell_type": "markdown",
      "source": [
        "Baseline 2 with attention"
      ],
      "metadata": {
        "id": "R-sK-3O2UIGF"
      }
    },
    {
      "cell_type": "code",
      "source": [
        "import torch\n",
        "import torch.nn as nn\n",
        "\n",
        "class EncoderRNN(nn.Module):\n",
        "    def __init__(self, input_size, hidden_size):\n",
        "        super(EncoderRNN, self).__init__()\n",
        "        self.hidden_size = hidden_size\n",
        "\n",
        "        self.embedding = nn.Embedding(input_size, hidden_size)\n",
        "        self.lstm = nn.LSTM(hidden_size, hidden_size)\n",
        "\n",
        "    def forward(self, input, hidden):\n",
        "        embedded = self.embedding(input).view(1, 1, -1)\n",
        "        output = embedded\n",
        "        output, hidden = self.lstm(output, hidden)\n",
        "        return output, hidden\n",
        "\n",
        "    def initHidden(self,device):\n",
        "        return torch.zeros(1, 1, self.hidden_size, device=device), torch.zeros(1, 1, self.hidden_size, device=device)"
      ],
      "metadata": {
        "id": "NWgGeaX3UGyB"
      },
      "execution_count": 69,
      "outputs": []
    },
    {
      "cell_type": "code",
      "source": [
        "class AttnDecoderRNN(nn.Module):\n",
        "    def __init__(self, hidden_size, output_size, dropout_p=0.1, max_length=MAX_LENGTH):\n",
        "        super(AttnDecoderRNN, self).__init__()\n",
        "        self.hidden_size = hidden_size\n",
        "        self.output_size = output_size\n",
        "        self.dropout_p = dropout_p\n",
        "        self.max_length = max_length\n",
        "\n",
        "        self.embedding = nn.Embedding(self.output_size, self.hidden_size)\n",
        "        self.dropout = nn.Dropout(self.dropout_p)\n",
        "        self.lstm = nn.LSTM(self.hidden_size, self.hidden_size)\n",
        "        self.out = nn.Linear(self.hidden_size * 2, self.output_size)\n",
        "\n",
        "    def forward(self, input, hidden, encoder_outputs):\n",
        "        embedded = self.embedding(input).view(1, 1, -1)\n",
        "        embedded = self.dropout(embedded)\n",
        "\n",
        "        _, (hidden, cell_state) = self.lstm(embedded, hidden)\n",
        "\n",
        "        attn_weights = F.softmax(torch.bmm(hidden, encoder_outputs.T.unsqueeze(0)), dim=-1)\n",
        "        attn_output = torch.bmm(attn_weights, encoder_outputs.unsqueeze(0))\n",
        "\n",
        "        concat_output = torch.cat((attn_output[0], hidden[0]), 1)\n",
        "\n",
        "        output = F.log_softmax(self.out(concat_output), dim=1)\n",
        "\n",
        "        return output, (hidden, cell_state), attn_weights\n",
        "\n",
        "    def initHidden(self,device):\n",
        "        return torch.zeros(1, 1, self.hidden_size, device=device), torch.zeros(1, 1, self.hidden_size, device=device)"
      ],
      "metadata": {
        "id": "1Lw9WJlZUG8w"
      },
      "execution_count": 70,
      "outputs": []
    },
    {
      "cell_type": "code",
      "source": [
        "teacher_forcing_ratio = 1\n",
        "\n",
        "def train_attn(input_tensor, target_tensor, encoder, decoder, encoder_optimizer, decoder_optimizer, criterion, max_length=MAX_LENGTH):\n",
        "    encoder_hidden, encoder_cell = encoder.initHidden(device)\n",
        "\n",
        "    encoder_optimizer.zero_grad()\n",
        "    decoder_optimizer.zero_grad()\n",
        "\n",
        "    input_length = input_tensor.size(0)\n",
        "    target_length = target_tensor.size(0)\n",
        "\n",
        "    encoder_outputs = torch.zeros(max_length, encoder.hidden_size, device=device)\n",
        "\n",
        "    loss = 0\n",
        "\n",
        "    for ei in range(input_length):\n",
        "        encoder_output, (encoder_hidden, encoder_cell) = encoder(\n",
        "            input_tensor[ei], (encoder_hidden, encoder_cell))\n",
        "        encoder_outputs[ei] = encoder_output[0, 0]\n",
        "\n",
        "    decoder_input = torch.tensor([[SOS_token]], device=device)\n",
        "\n",
        "    decoder_hidden = encoder_hidden\n",
        "    decoder_cell = encoder_cell\n",
        "\n",
        "    use_teacher_forcing = True if random.random() < teacher_forcing_ratio else False\n",
        "\n",
        "    if use_teacher_forcing:\n",
        "        # Teacher forcing: Feed the target as the next input\n",
        "        for di in range(target_length):\n",
        "            decoder_output, (decoder_hidden, decoder_cell), decoder_attention = decoder(\n",
        "                decoder_input, (decoder_hidden, decoder_cell), encoder_outputs)\n",
        "            loss += criterion(decoder_output, target_tensor[di])\n",
        "            decoder_input = target_tensor[di]  # Teacher forcing\n",
        "\n",
        "    else:\n",
        "        # Without teacher forcing: use its own predictions as the next input\n",
        "        for di in range(target_length):\n",
        "            decoder_output, (decoder_hidden, decoder_cell), decoder_attention = decoder(\n",
        "                decoder_input, (decoder_hidden, decoder_cell), encoder_outputs)\n",
        "            topv, topi = decoder_output.topk(1)\n",
        "            decoder_input = topi.squeeze().detach()  # detach from history as input\n",
        "\n",
        "            loss += criterion(decoder_output, target_tensor[di])\n",
        "            if decoder_input.item() == EOS_token:\n",
        "                break\n",
        "\n",
        "    loss.backward()\n",
        "\n",
        "    encoder_optimizer.step()\n",
        "    decoder_optimizer.step()\n",
        "\n",
        "    return loss.item() / target_length"
      ],
      "metadata": {
        "id": "JkpL4XibUHBe"
      },
      "execution_count": 71,
      "outputs": []
    },
    {
      "cell_type": "code",
      "source": [
        "def evaluate_attn(encoder, decoder, sentence, max_length=MAX_LENGTH):\n",
        "    with torch.no_grad():\n",
        "        input_tensor = tensorFromSentence(input_lang, sentence)\n",
        "        input_length = input_tensor.size()[0]\n",
        "        encoder_hidden, encoder_cell = encoder.initHidden(device)\n",
        "\n",
        "        encoder_outputs = torch.zeros(max_length, encoder.hidden_size, device=device)\n",
        "\n",
        "        for ei in range(input_length):\n",
        "            encoder_output, (encoder_hidden, encoder_cell) = encoder(input_tensor[ei],\n",
        "                                                     (encoder_hidden, encoder_cell))\n",
        "            encoder_outputs[ei] += encoder_output[0, 0]\n",
        "\n",
        "        decoder_input = torch.tensor([[SOS_token]], device=device)  # SOS\n",
        "\n",
        "        decoder_hidden = encoder_hidden\n",
        "        decoder_cell = encoder_cell  # Initialize decoder's cell state with encoder's last cell state\n",
        "\n",
        "        decoded_words = []\n",
        "        decoder_attentions = torch.zeros(max_length, max_length)\n",
        "\n",
        "        for di in range(max_length):\n",
        "            decoder_output, (decoder_hidden, decoder_cell), decoder_attention = decoder(\n",
        "                decoder_input, (decoder_hidden, decoder_cell), encoder_outputs)\n",
        "            decoder_attentions[di] = decoder_attention.data\n",
        "            topv, topi = decoder_output.data.topk(1)\n",
        "            if topi.item() == EOS_token:\n",
        "                decoded_words.append('<EOS>')\n",
        "                break\n",
        "            else:\n",
        "                decoded_words.append(output_lang.index2word[topi.item()])\n",
        "\n",
        "            decoder_input = topi.squeeze().detach()\n",
        "\n",
        "        return decoded_words, decoder_attentions[:di + 1]"
      ],
      "metadata": {
        "id": "dXQmngQgUHFI"
      },
      "execution_count": 72,
      "outputs": []
    },
    {
      "cell_type": "code",
      "source": [
        "def trainIters_attn(encoder, decoder, n_iters, print_every=1000, plot_every=100, learning_rate=0.01):\n",
        "    start = time.time()\n",
        "    plot_losses = []\n",
        "    dll =  []\n",
        "    print_loss_total = 0  # Reset every print_every\n",
        "    plot_loss_total = 0  # Reset every plot_every\n",
        "    encoder_optimizer = optim.Adam(encoder.parameters(), lr=learning_rate)\n",
        "    decoder_optimizer = optim.Adam(decoder.parameters(), lr=learning_rate)\n",
        "    training_pairs = [tensorsFromPair(random.choice(pairs))\n",
        "                      for i in range(n_iters)]\n",
        "    dev_pairs2 = [tensorsFromPair(random.choice(dev_pairs))\n",
        "                      for i in range(n_iters)]\n",
        "    criterion = nn.NLLLoss()\n",
        "    for iter in range(1, n_iters + 1):\n",
        "        training_pair = training_pairs[iter - 1]\n",
        "        input_tensor = training_pair[0]\n",
        "        target_tensor = training_pair[1]\n",
        "        encoder_hidden, encoder_cell = encoder.initHidden(device)  # Initialize encoder's hidden and cell states\n",
        "        decoder_hidden, decoder_cell = encoder_hidden, encoder_cell  # Initialize decoder's hidden and cell states\n",
        "        loss = train_attn(input_tensor, target_tensor, encoder,\n",
        "                          decoder, encoder_optimizer, decoder_optimizer, criterion)\n",
        "        print_loss_total += loss\n",
        "        plot_loss_total += loss\n",
        "        if iter % print_every == 0:\n",
        "            print_loss_avg = print_loss_total / print_every\n",
        "            print_loss_total = 0\n",
        "            print('%s (%d %d%%) %.4f' % (timeSince(start, iter / n_iters),\n",
        "                                         iter, iter / n_iters * 100, print_loss_avg))\n",
        "            # # Calculate development loss\n",
        "            dl = 0\n",
        "            with torch.no_grad():\n",
        "              for d in dev_pairs2:\n",
        "                input_tensor = d[0]\n",
        "                target_tensor = d[1]\n",
        "                loss2 = evaluate3(input_tensor, target_tensor, encoder, decoder,criterion)\n",
        "                dl += loss2\n",
        "            dl / len(dev_pairs2)\n",
        "            dl_avg = dl / len(dev_pairs2)\n",
        "            dll.append((iter, dl_avg))\n",
        "            print('Dev Loss is: %.4f' % dl_avg)\n",
        "        if iter % plot_every == 0:\n",
        "            plot_loss_avg = plot_loss_total / plot_every\n",
        "            plot_losses.append((iter, plot_loss_avg))\n",
        "            plot_loss_total = 0\n",
        "    showPlot(plot_losses,dll)"
      ],
      "metadata": {
        "id": "Bypd06_HXAWi"
      },
      "execution_count": 75,
      "outputs": []
    },
    {
      "cell_type": "code",
      "source": [
        "def evaluate3(input_tensor, target_tensor, encoder, decoder, criterion, max_length=MAX_LENGTH):\n",
        "    with torch.no_grad():\n",
        "        # Initialize the encoder's hidden and cell states\n",
        "        encoder_hidden, encoder_cell = encoder.initHidden(device)\n",
        "        input_length = input_tensor.size(0)\n",
        "        target_length = target_tensor.size(0)\n",
        "        encoder_outputs = torch.zeros(max_length, encoder.hidden_size, device=device)\n",
        "        # Encode the input sentence\n",
        "        for ei in range(input_length):\n",
        "            encoder_output, (encoder_hidden, encoder_cell) = encoder(\n",
        "                input_tensor[ei], (encoder_hidden, encoder_cell))\n",
        "            encoder_outputs[ei] = encoder_output[0, 0]\n",
        "        # Initialize the decoder input and hidden states\n",
        "        decoder_input = torch.tensor([[SOS_token]], device=device)\n",
        "        decoder_hidden = encoder_hidden\n",
        "        decoder_cell = encoder_cell\n",
        "        # Initialize tensor to store decoder outputs\n",
        "        decoder_outputs = torch.zeros(target_length, decoder.output_size, device=device)\n",
        "        # Decode the input sentence\n",
        "        for di in range(target_length):\n",
        "            decoder_output, (decoder_hidden, decoder_cell), decoder_attention = decoder(\n",
        "                decoder_input, (decoder_hidden, decoder_cell), encoder_outputs)\n",
        "            decoder_outputs[di] = decoder_output\n",
        "            topv, topi = decoder_output.topk(1)\n",
        "            decoder_input = topi.squeeze().detach()\n",
        "            if decoder_input.item() == EOS_token:\n",
        "                break\n",
        "        loss = criterion(decoder_outputs, target_tensor.view(-1))\n",
        "        return loss.item() / target_length"
      ],
      "metadata": {
        "id": "G82fbohUXAZ8"
      },
      "execution_count": 74,
      "outputs": []
    },
    {
      "cell_type": "code",
      "source": [
        "hidden_size = 256\n",
        "encoder2 = EncoderRNN(input_lang.n_words, hidden_size).to(device)\n",
        "attn_decoder = AttnDecoderRNN(hidden_size, output_lang.n_words, dropout_p=0.1).to(device)\n",
        "trainIters_attn(encoder2, attn_decoder, 10000, print_every=1000)"
      ],
      "metadata": {
        "colab": {
          "base_uri": "https://localhost:8080/",
          "height": 1000
        },
        "id": "S2Wieo_Y9qkJ",
        "outputId": "12bd3180-f196-42b1-8bc6-14a6ac454501"
      },
      "execution_count": 76,
      "outputs": [
        {
          "output_type": "stream",
          "name": "stdout",
          "text": [
            "2m 3s (- 18m 31s) (1000 10%) 5.5870\n",
            "4m 3s (- 16m 12s) (2000 20%) 5.1429\n",
            "6m 2s (- 14m 5s) (3000 30%) 4.9101\n",
            "8m 0s (- 12m 0s) (4000 40%) 4.7407\n",
            "9m 58s (- 9m 58s) (5000 50%) 4.7261\n",
            "11m 57s (- 7m 58s) (6000 60%) 4.5684\n",
            "13m 56s (- 5m 58s) (7000 70%) 4.5655\n",
            "15m 56s (- 3m 59s) (8000 80%) 4.5582\n",
            "18m 0s (- 2m 0s) (9000 90%) 4.4522\n",
            "19m 59s (- 0m 0s) (10000 100%) 4.4177\n"
          ]
        },
        {
          "output_type": "error",
          "ename": "ValueError",
          "evalue": "not enough values to unpack (expected 2, got 0)",
          "traceback": [
            "\u001b[0;31m---------------------------------------------------------------------------\u001b[0m",
            "\u001b[0;31mValueError\u001b[0m                                Traceback (most recent call last)",
            "\u001b[0;32m<ipython-input-76-fd13d18077b3>\u001b[0m in \u001b[0;36m<cell line: 4>\u001b[0;34m()\u001b[0m\n\u001b[1;32m      2\u001b[0m \u001b[0mencoder2\u001b[0m \u001b[0;34m=\u001b[0m \u001b[0mEncoderRNN\u001b[0m\u001b[0;34m(\u001b[0m\u001b[0minput_lang\u001b[0m\u001b[0;34m.\u001b[0m\u001b[0mn_words\u001b[0m\u001b[0;34m,\u001b[0m \u001b[0mhidden_size\u001b[0m\u001b[0;34m)\u001b[0m\u001b[0;34m.\u001b[0m\u001b[0mto\u001b[0m\u001b[0;34m(\u001b[0m\u001b[0mdevice\u001b[0m\u001b[0;34m)\u001b[0m\u001b[0;34m\u001b[0m\u001b[0;34m\u001b[0m\u001b[0m\n\u001b[1;32m      3\u001b[0m \u001b[0mattn_decoder\u001b[0m \u001b[0;34m=\u001b[0m \u001b[0mAttnDecoderRNN\u001b[0m\u001b[0;34m(\u001b[0m\u001b[0mhidden_size\u001b[0m\u001b[0;34m,\u001b[0m \u001b[0moutput_lang\u001b[0m\u001b[0;34m.\u001b[0m\u001b[0mn_words\u001b[0m\u001b[0;34m,\u001b[0m \u001b[0mdropout_p\u001b[0m\u001b[0;34m=\u001b[0m\u001b[0;36m0.1\u001b[0m\u001b[0;34m)\u001b[0m\u001b[0;34m.\u001b[0m\u001b[0mto\u001b[0m\u001b[0;34m(\u001b[0m\u001b[0mdevice\u001b[0m\u001b[0;34m)\u001b[0m\u001b[0;34m\u001b[0m\u001b[0;34m\u001b[0m\u001b[0m\n\u001b[0;32m----> 4\u001b[0;31m \u001b[0mtrainIters_attn\u001b[0m\u001b[0;34m(\u001b[0m\u001b[0mencoder2\u001b[0m\u001b[0;34m,\u001b[0m \u001b[0mattn_decoder\u001b[0m\u001b[0;34m,\u001b[0m \u001b[0;36m10000\u001b[0m\u001b[0;34m,\u001b[0m \u001b[0mprint_every\u001b[0m\u001b[0;34m=\u001b[0m\u001b[0;36m1000\u001b[0m\u001b[0;34m)\u001b[0m\u001b[0;34m\u001b[0m\u001b[0;34m\u001b[0m\u001b[0m\n\u001b[0m",
            "\u001b[0;32m<ipython-input-75-a2cfb0c85146>\u001b[0m in \u001b[0;36mtrainIters_attn\u001b[0;34m(encoder, decoder, n_iters, print_every, plot_every, learning_rate)\u001b[0m\n\u001b[1;32m     43\u001b[0m             \u001b[0mplot_losses\u001b[0m\u001b[0;34m.\u001b[0m\u001b[0mappend\u001b[0m\u001b[0;34m(\u001b[0m\u001b[0;34m(\u001b[0m\u001b[0miter\u001b[0m\u001b[0;34m,\u001b[0m \u001b[0mplot_loss_avg\u001b[0m\u001b[0;34m)\u001b[0m\u001b[0;34m)\u001b[0m\u001b[0;34m\u001b[0m\u001b[0;34m\u001b[0m\u001b[0m\n\u001b[1;32m     44\u001b[0m             \u001b[0mplot_loss_total\u001b[0m \u001b[0;34m=\u001b[0m \u001b[0;36m0\u001b[0m\u001b[0;34m\u001b[0m\u001b[0;34m\u001b[0m\u001b[0m\n\u001b[0;32m---> 45\u001b[0;31m     \u001b[0mshowPlot\u001b[0m\u001b[0;34m(\u001b[0m\u001b[0mplot_losses\u001b[0m\u001b[0;34m,\u001b[0m\u001b[0mdll\u001b[0m\u001b[0;34m)\u001b[0m\u001b[0;34m\u001b[0m\u001b[0;34m\u001b[0m\u001b[0m\n\u001b[0m",
            "\u001b[0;32m<ipython-input-52-07d28b669283>\u001b[0m in \u001b[0;36mshowPlot\u001b[0;34m(tl, dl)\u001b[0m\n\u001b[1;32m      8\u001b[0m     \u001b[0mfig\u001b[0m\u001b[0;34m,\u001b[0m \u001b[0max\u001b[0m \u001b[0;34m=\u001b[0m \u001b[0mplt\u001b[0m\u001b[0;34m.\u001b[0m\u001b[0msubplots\u001b[0m\u001b[0;34m(\u001b[0m\u001b[0;34m)\u001b[0m\u001b[0;34m\u001b[0m\u001b[0;34m\u001b[0m\u001b[0m\n\u001b[1;32m      9\u001b[0m     \u001b[0mtli\u001b[0m\u001b[0;34m,\u001b[0m \u001b[0mtlv\u001b[0m \u001b[0;34m=\u001b[0m \u001b[0mzip\u001b[0m\u001b[0;34m(\u001b[0m\u001b[0;34m*\u001b[0m\u001b[0mtl\u001b[0m\u001b[0;34m)\u001b[0m\u001b[0;34m\u001b[0m\u001b[0;34m\u001b[0m\u001b[0m\n\u001b[0;32m---> 10\u001b[0;31m     \u001b[0mdi\u001b[0m\u001b[0;34m,\u001b[0m \u001b[0mdv\u001b[0m \u001b[0;34m=\u001b[0m \u001b[0mzip\u001b[0m\u001b[0;34m(\u001b[0m\u001b[0;34m*\u001b[0m\u001b[0mdl\u001b[0m\u001b[0;34m)\u001b[0m\u001b[0;34m\u001b[0m\u001b[0;34m\u001b[0m\u001b[0m\n\u001b[0m\u001b[1;32m     11\u001b[0m     \u001b[0max\u001b[0m\u001b[0;34m.\u001b[0m\u001b[0mplot\u001b[0m\u001b[0;34m(\u001b[0m\u001b[0mtli\u001b[0m\u001b[0;34m,\u001b[0m \u001b[0mtlv\u001b[0m\u001b[0;34m,\u001b[0m \u001b[0;34m'b-'\u001b[0m\u001b[0;34m,\u001b[0m \u001b[0mlabel\u001b[0m\u001b[0;34m=\u001b[0m\u001b[0;34m'Training Loss'\u001b[0m\u001b[0;34m)\u001b[0m\u001b[0;34m\u001b[0m\u001b[0;34m\u001b[0m\u001b[0m\n\u001b[1;32m     12\u001b[0m     \u001b[0max\u001b[0m\u001b[0;34m.\u001b[0m\u001b[0mplot\u001b[0m\u001b[0;34m(\u001b[0m\u001b[0mdi\u001b[0m\u001b[0;34m,\u001b[0m \u001b[0mdv\u001b[0m\u001b[0;34m,\u001b[0m \u001b[0;34m'r--'\u001b[0m\u001b[0;34m,\u001b[0m \u001b[0mlabel\u001b[0m\u001b[0;34m=\u001b[0m\u001b[0;34m'Development Loss'\u001b[0m\u001b[0;34m)\u001b[0m\u001b[0;34m\u001b[0m\u001b[0;34m\u001b[0m\u001b[0m\n",
            "\u001b[0;31mValueError\u001b[0m: not enough values to unpack (expected 2, got 0)"
          ]
        },
        {
          "output_type": "display_data",
          "data": {
            "text/plain": [
              "<Figure size 640x480 with 0 Axes>"
            ]
          },
          "metadata": {}
        },
        {
          "output_type": "display_data",
          "data": {
            "text/plain": [
              "<Figure size 640x480 with 1 Axes>"
            ],
            "image/png": "[encoded data removed]"
          },
          "metadata": {}
        }
      ]
    },
    {
      "cell_type": "code",
      "source": [
        "hidden_size = 256\n",
        "encoder2 = EncoderRNN(input_lang.n_words, hidden_size).to(device)\n",
        "attn_decoder = AttnDecoderRNN(hidden_size, output_lang.n_words, dropout_p=0.1).to(device)\n",
        "trainIters_attn(encoder2, attn_decoder, 10000, print_every=1000)"
      ],
      "metadata": {
        "colab": {
          "base_uri": "https://localhost:8080/",
          "height": 847
        },
        "id": "pR00CbI-XAdD",
        "outputId": "fc666efe-74e8-4782-d635-23d0a3ffced5"
      },
      "execution_count": null,
      "outputs": [
        {
          "output_type": "stream",
          "name": "stdout",
          "text": [
            "1m 54s (- 17m 11s) (1000 10%) 5.5581\n",
            "Dev Loss is: 0.1620\n",
            "9m 4s (- 36m 19s) (2000 20%) 5.1478\n",
            "Dev Loss is: 0.0877\n",
            "13m 34s (- 31m 40s) (3000 30%) 4.8535\n",
            "Dev Loss is: 0.1630\n",
            "21m 10s (- 31m 46s) (4000 40%) 4.8525\n",
            "Dev Loss is: 0.1456\n",
            "28m 9s (- 28m 9s) (5000 50%) 4.6926\n",
            "Dev Loss is: 0.1078\n",
            "33m 40s (- 22m 26s) (6000 60%) 4.6398\n",
            "Dev Loss is: 0.1482\n",
            "40m 34s (- 17m 23s) (7000 70%) 4.6266\n",
            "Dev Loss is: 0.1783\n",
            "48m 15s (- 12m 3s) (8000 80%) 4.4735\n",
            "Dev Loss is: 0.1652\n",
            "55m 19s (- 6m 8s) (9000 90%) 4.4782\n",
            "Dev Loss is: 0.1810\n",
            "63m 7s (- 0m 0s) (10000 100%) 4.4385\n",
            "Dev Loss is: 0.1702\n"
          ]
        },
        {
          "output_type": "display_data",
          "data": {
            "text/plain": [
              "<Figure size 640x480 with 0 Axes>"
            ]
          },
          "metadata": {}
        },
        {
          "output_type": "display_data",
          "data": {
            "text/plain": [
              "<Figure size 640x480 with 1 Axes>"
            ],
            "image/png": "[encoded data removed]"
          },
          "metadata": {}
        }
      ]
    },
    {
      "cell_type": "code",
      "source": [
        "torch.save(encoder2.state_dict(), '/content/drive/MyDrive/encoderatten.pth')\n",
        "torch.save(attn_decoder.state_dict(), '/content/drive/MyDrive/decoderatten.pth')\n",
        "\n",
        "# Save the trainIters function\n",
        "import pickle\n",
        "with open('/content/drive/MyDrive/trainItersatten.pkl', 'wb') as f:\n",
        "    pickle.dump(trainIters_attn, f)"
      ],
      "metadata": {
        "id": "zf3QLS1RXAfs"
      },
      "execution_count": 78,
      "outputs": []
    },
    {
      "cell_type": "markdown",
      "source": [
        "Extention 1 with word2vec embeddings"
      ],
      "metadata": {
        "id": "LKVmFvA1UoI6"
      }
    },
    {
      "cell_type": "code",
      "source": [
        "import gensim\n",
        "from gensim.models import KeyedVectors\n",
        "\n",
        "# Load the Word2Vec model\n",
        "embedding_path = '/content/drive/MyDrive/GoogleNews-vectors-negative300.bin.gz'\n",
        "word2vec_model = KeyedVectors.load_word2vec_format(embedding_path, binary=True)"
      ],
      "metadata": {
        "id": "-EgS4IqMUHIh"
      },
      "execution_count": 7,
      "outputs": []
    },
    {
      "cell_type": "code",
      "source": [
        "import numpy as np\n",
        "\n",
        "def create_embedding_matrix(word2index, embedding_model):\n",
        "    embedding_dim = embedding_model.vector_size\n",
        "    vocab_size = max(word2index.values()) + 1  # Ensure size is enough for the highest index\n",
        "    embedding_matrix = np.zeros((vocab_size, embedding_dim))\n",
        "\n",
        "    for word, idx in word2index.items():\n",
        "        if word in embedding_model:\n",
        "            embedding_matrix[idx] = embedding_model[word]\n",
        "        else:\n",
        "            embedding_matrix[idx] = np.random.normal(scale=0.6, size=(embedding_dim,))\n",
        "\n",
        "    return embedding_matrix\n",
        "\n",
        "# Assuming 'input_lang' is already created as per your code\n",
        "embedding_matrix = create_embedding_matrix(input_lang.word2index, word2vec_model)"
      ],
      "metadata": {
        "id": "30tdCfjBUwFY"
      },
      "execution_count": 8,
      "outputs": []
    },
    {
      "cell_type": "code",
      "source": [
        "import torch\n",
        "import torch.nn as nn\n",
        "import torch.optim as optim\n",
        "import torch.nn.functional as F\n",
        "\n",
        "\n",
        "\n",
        "class EmbeddingLayer(nn.Module):\n",
        "    def __init__(self, embedding_matrix):\n",
        "        super(EmbeddingLayer, self).__init__()\n",
        "        vocab_size, embedding_dim = embedding_matrix.shape\n",
        "        self.embedding = nn.Embedding(vocab_size, embedding_dim)\n",
        "        self.embedding.weight = nn.Parameter(torch.tensor(embedding_matrix, dtype=torch.float32))\n",
        "        self.embedding.weight.requires_grad = False  # Freeze embeddings\n",
        "\n",
        "    def forward(self, x):\n",
        "        return self.embedding(x)\n",
        "\n",
        "class EncoderRNN(nn.Module):\n",
        "    def __init__(self, embedding_layer, hidden_size):\n",
        "        super(EncoderRNN, self).__init__()\n",
        "        self.hidden_size = hidden_size\n",
        "        self.embedding = embedding_layer\n",
        "        self.lstm = nn.LSTM(embedding_layer.embedding.embedding_dim, hidden_size)\n",
        "\n",
        "    def forward(self, input, hidden):\n",
        "        embedded = self.embedding(input).view(1, 1, -1)\n",
        "        output, hidden = self.lstm(embedded, hidden)\n",
        "        return output, hidden\n",
        "\n",
        "    def initHidden(self, device):\n",
        "        return (torch.zeros(1, 1, self.hidden_size, device=device),\n",
        "                torch.zeros(1, 1, self.hidden_size, device=device))\n",
        "\n",
        "class DecoderRNN(nn.Module):\n",
        "    def __init__(self, hidden_size, output_size):\n",
        "        super(DecoderRNN, self).__init__()\n",
        "        self.hidden_size = hidden_size\n",
        "\n",
        "        self.embedding = nn.Embedding(output_size, hidden_size)\n",
        "        self.lstm = nn.LSTM(hidden_size, hidden_size)\n",
        "        self.out = nn.Linear(hidden_size, output_size)\n",
        "        self.softmax = nn.LogSoftmax(dim=1)\n",
        "\n",
        "    def forward(self, input, hidden):\n",
        "        output = self.embedding(input).view(1, 1, -1)\n",
        "        output = F.relu(output)\n",
        "        output, hidden = self.lstm(output, hidden)\n",
        "        output = self.softmax(self.out(output[0]))\n",
        "        return output, hidden\n",
        "\n",
        "    def initHidden(self, device):\n",
        "        return (torch.zeros(1, 1, self.hidden_size, device=device),\n",
        "                torch.zeros(1, 1, self.hidden_size, device=device))"
      ],
      "metadata": {
        "id": "bVj5FzSHUwIU"
      },
      "execution_count": 9,
      "outputs": []
    },
    {
      "cell_type": "code",
      "source": [
        "embedding_layer = EmbeddingLayer(embedding_matrix)\n",
        "embedding_layer = embedding_layer.to(device)"
      ],
      "metadata": {
        "id": "0MXdROR6h9rn"
      },
      "execution_count": 14,
      "outputs": []
    },
    {
      "cell_type": "code",
      "source": [
        "hidden_size = 256\n",
        "encoder3 = EncoderRNN(embedding_layer, hidden_size).to(device)\n",
        "decoder3 = DecoderRNN(hidden_size, output_lang.n_words).to(device)\n",
        "trainIters(encoder3, decoder3, 10000, print_every=1000)"
      ],
      "metadata": {
        "id": "3RYDuPLmUwLI",
        "colab": {
          "base_uri": "https://localhost:8080/",
          "height": 847
        },
        "outputId": "2d329b81-792c-449d-afdc-c0728777351d"
      },
      "execution_count": 20,
      "outputs": [
        {
          "output_type": "stream",
          "name": "stdout",
          "text": [
            "1m 28s (- 13m 20s) (1000 10%) 5.9632\n",
            "Dev Loss is: 0.7490\n",
            "4m 46s (- 19m 5s) (2000 20%) 5.6291\n",
            "Dev Loss is: 7.6975\n",
            "12m 47s (- 29m 51s) (3000 30%) 5.5203\n",
            "Dev Loss is: 0.7810\n",
            "16m 3s (- 24m 5s) (4000 40%) 5.3374\n",
            "Dev Loss is: 4.2438\n",
            "21m 38s (- 21m 38s) (5000 50%) 5.3092\n",
            "Dev Loss is: 4.2737\n",
            "27m 2s (- 18m 1s) (6000 60%) 5.4557\n",
            "Dev Loss is: 4.8677\n",
            "32m 33s (- 13m 57s) (7000 70%) 5.2725\n",
            "Dev Loss is: 4.6083\n",
            "37m 57s (- 9m 29s) (8000 80%) 5.2959\n",
            "Dev Loss is: 4.4833\n",
            "43m 28s (- 4m 49s) (9000 90%) 5.1400\n",
            "Dev Loss is: 5.0983\n",
            "49m 5s (- 0m 0s) (10000 100%) 5.1441\n",
            "Dev Loss is: 4.9385\n"
          ]
        },
        {
          "output_type": "display_data",
          "data": {
            "text/plain": [
              "<Figure size 640x480 with 0 Axes>"
            ]
          },
          "metadata": {}
        },
        {
          "output_type": "display_data",
          "data": {
            "text/plain": [
              "<Figure size 640x480 with 1 Axes>"
            ],
            "image/png": "[encoded data removed]"
          },
          "metadata": {}
        }
      ]
    },
    {
      "cell_type": "code",
      "source": [
        "import pickle\n",
        "# Save the model parameters to Google Drive\n",
        "torch.save(encoder3.state_dict(), '/content/drive/My Drive/encoder4.pth')\n",
        "torch.save(decoder3.state_dict(), '/content/drive/My Drive/decoder4.pth')\n",
        "\n",
        "# Save the trainIters function to Google Drive\n",
        "with open('/content/drive/My Drive/trainIters44.pkl', 'wb') as f:\n",
        "    pickle.dump(trainIters, f)"
      ],
      "metadata": {
        "id": "VnAnNtnoulJa"
      },
      "execution_count": 22,
      "outputs": []
    },
    {
      "cell_type": "markdown",
      "source": [
        "Extextion 4: with stacked layers in encoder and decoder"
      ],
      "metadata": {
        "id": "3n0b3JaMVeUL"
      }
    },
    {
      "cell_type": "code",
      "source": [
        "import torch\n",
        "import torch.nn as nn\n",
        "\n",
        "class EncoderRNN(nn.Module):\n",
        "    def __init__(self, input_size, hidden_size, additional_layers=4):\n",
        "        super(EncoderRNN, self).__init__()\n",
        "        self.hidden_size = hidden_size\n",
        "        self.additional_layers = additional_layers\n",
        "\n",
        "        self.embedding = nn.Embedding(input_size, hidden_size)\n",
        "        self.lstm = nn.LSTM(hidden_size, hidden_size,2)\n",
        "\n",
        "        # Additional fully connected layers\n",
        "        self.additional_fcs = nn.ModuleList([nn.Linear(hidden_size, hidden_size) for _ in range(additional_layers)])\n",
        "\n",
        "    def forward(self, input, hidden):\n",
        "        embedded = self.embedding(input).view(1, 1, -1)\n",
        "        output, hidden = self.lstm(embedded, hidden)\n",
        "\n",
        "        # Pass the output through additional fully connected layers\n",
        "        for fc in self.additional_fcs:\n",
        "            output = fc(output)\n",
        "            output = torch.relu(output)  # You can use other activation functions as well\n",
        "\n",
        "        return output, hidden\n",
        "\n",
        "    def initHidden(self):\n",
        "        return (torch.zeros(1, 1, self.hidden_size, device=device),\n",
        "                torch.zeros(1, 1, self.hidden_size, device=device))\n",
        "\n",
        "class DecoderRNN(nn.Module):\n",
        "    def __init__(self, hidden_size, output_size, additional_layers=4):\n",
        "        super(DecoderRNN, self).__init__()\n",
        "        self.hidden_size = hidden_size\n",
        "        self.additional_layers = additional_layers\n",
        "\n",
        "        self.embedding = nn.Embedding(output_size, hidden_size)\n",
        "        self.lstm = nn.LSTM(hidden_size, hidden_size,2)\n",
        "\n",
        "        # Additional fully connected layers\n",
        "        self.additional_fcs = nn.ModuleList([nn.Linear(hidden_size, hidden_size) for _ in range(additional_layers)])\n",
        "\n",
        "        self.out = nn.Linear(hidden_size, output_size)\n",
        "        self.softmax = nn.LogSoftmax(dim=1)\n",
        "\n",
        "    def forward(self, input, hidden):\n",
        "        output = self.embedding(input).view(1, 1, -1)\n",
        "        output = torch.relu(output)\n",
        "        output, hidden = self.lstm(output, hidden)\n",
        "\n",
        "        # Pass the output through additional fully connected layers\n",
        "        for fc in self.additional_fcs:\n",
        "            output = fc(output)\n",
        "            output = torch.relu(output)  # You can use other activation functions as well\n",
        "\n",
        "        output = self.softmax(self.out(output[0]))\n",
        "        return output, hidden\n",
        "\n",
        "    def initHidden(self):\n",
        "        return (torch.zeros(1, 1, self.hidden_size, device=device),\n",
        "                torch.zeros(1, 1, self.hidden_size, device=device))"
      ],
      "metadata": {
        "id": "wDtbu-GkUwN_"
      },
      "execution_count": null,
      "outputs": []
    },
    {
      "cell_type": "code",
      "source": [
        "hidden_size = 256\n",
        "encoder4 = EncoderRNN(input_lang.n_words, hidden_size).to(device)\n",
        "decoder4 = DecoderRNN(hidden_size, output_lang.n_words).to(device)\n",
        "trainIters(encoder4, decoder4, 10000, print_every=1000)"
      ],
      "metadata": {
        "id": "tk6EIXjsVlfz"
      },
      "execution_count": null,
      "outputs": []
    },
    {
      "cell_type": "code",
      "source": [],
      "metadata": {
        "id": "5SwbTQPLVljB"
      },
      "execution_count": null,
      "outputs": []
    },
    {
      "cell_type": "code",
      "source": [],
      "metadata": {
        "id": "RcJIuXecVll5"
      },
      "execution_count": null,
      "outputs": []
    },
    {
      "cell_type": "markdown",
      "source": [
        "Testing and evaluation"
      ],
      "metadata": {
        "id": "dsLwe8fMYFR-"
      }
    },
    {
      "cell_type": "code",
      "execution_count": 30,
      "metadata": {
        "id": "pM_73GTh493D"
      },
      "outputs": [],
      "source": [
        "def remove_stop_words(text):\n",
        "    stop_words = set(stopwords.words('english'))\n",
        "    word_tokens = word_tokenize(text)\n",
        "    filtered_text = ' '.join([word for word in word_tokens if word.lower() not in stop_words])\n",
        "    return filtered_text\n",
        "df3 = pd.read_csv(\"/content/drive/MyDrive/test.csv\")\n",
        "for x in range(len(df3['Recipe'])):\n",
        "    if type(df3['Recipe'][x]) != str:\n",
        "        df3['Recipe'][x] = ''\n",
        "# Apply the function to the DataFrame columns\n",
        "df3['Ingredients'] = df3['Ingredients'].apply(remove_stop_words)\n",
        "df3['Recipe'] = df3['Recipe'].apply(remove_stop_words)"
      ]
    },
    {
      "cell_type": "code",
      "execution_count": 64,
      "metadata": {
        "colab": {
          "base_uri": "https://localhost:8080/"
        },
        "id": "Jr6EeEgTXEwe",
        "outputId": "12c2e32e-6725-460e-c6a4-38b03aae655d"
      },
      "outputs": [
        {
          "output_type": "stream",
          "name": "stdout",
          "text": [
            "Reading lines...\n",
            "Read 778 sentence pairs\n",
            "Trimmed to 742 sentence pairs\n",
            "Counting words...\n",
            "Counted words:\n",
            "fra 1849\n",
            "eng 3207\n",
            "[' c kale swiss chard mustard greens combination md onions thinly sliced ts olive oil c water salt pepper taste juice lemon optional', 'wash greens well chop stems leaves . large saucepan cook onions oil butter golden . add greens water . cover cook medium heat stirring occasionaly greens tender . season salt pepper . sprinkle lemon juice desired . sure could use .']\n"
          ]
        }
      ],
      "source": [
        "with open(\"3.txt\", \"w\") as file:\n",
        "    for index, row in df3.iterrows():\n",
        "        file.write(f\"{row['Recipe']}:::{row['Ingredients']}\\n\")\n",
        "\n",
        "def readLangs(lang1, lang2, reverse=False, file_name='3.txt'):\n",
        "    print(\"Reading lines...\")\n",
        "    # Read the file and split into lines\n",
        "    file_path =''\n",
        "    file_name = file_path + file_name\n",
        "    lines = open(file_name, encoding='utf-8').\\\n",
        "        read().strip().split('\\n')\n",
        "\n",
        "    # Split every line into pairs and normalize\n",
        "    pairs = [[normalizeString(s) for s in l.split(':::')] for l in lines]\n",
        "\n",
        "    # Reverse pairs, make Lang instances\n",
        "    if reverse:\n",
        "        pairs = [list(reversed(p)) for p in pairs]\n",
        "        input_lang = Lang(lang2)\n",
        "        output_lang = Lang(lang1)\n",
        "    else:\n",
        "        input_lang = Lang(lang1)\n",
        "        output_lang = Lang(lang2)\n",
        "\n",
        "    return input_lang, output_lang, pairs\n",
        "\n",
        "def filterPair(p):\n",
        "    return len(p[0].split(' ')) < MAX_LENGTH and \\\n",
        "        len(p[1].split(' ')) < MAX_LENGTH\n",
        "\n",
        "def filterPairs(pairs):\n",
        "    return [pair for pair in pairs if filterPair(pair)]\n",
        "\n",
        "def prepareData(lang1, lang2, reverse=False, file_name='3.txt'):\n",
        "    input_lang, output_lang, pairs = readLangs(lang1, lang2, reverse, file_name)\n",
        "    print(\"Read %s sentence pairs\" % len(pairs))\n",
        "    pairs = filterPairs(pairs)\n",
        "    print(\"Trimmed to %s sentence pairs\" % len(pairs))\n",
        "    print(\"Counting words...\")\n",
        "    for pair in pairs:\n",
        "        input_lang.addSentence(pair[0])\n",
        "        output_lang.addSentence(pair[1])\n",
        "    print(\"Counted words:\")\n",
        "    print(input_lang.name, input_lang.n_words)\n",
        "    print(output_lang.name, output_lang.n_words)\n",
        "    return input_lang, output_lang, pairs\n",
        "\n",
        "def indexesFromSentence(lang, sentence):\n",
        "    return [lang.word2index.get(word, UNK_token) for word in sentence.split(' ')]\n",
        "\n",
        "def tensorFromSentence(lang, sentence):\n",
        "    indexes = indexesFromSentence(lang, sentence)\n",
        "    indexes.append(EOS_token)\n",
        "    return torch.tensor(indexes, dtype=torch.long).view(-1, 1)\n",
        "\n",
        "def tensorsFromPair(pair):\n",
        "    input_tensor = tensorFromSentence(input_lang, pair[0])\n",
        "    target_tensor = tensorFromSentence(output_lang, pair[1])\n",
        "    return (input_tensor, target_tensor)\n",
        "\n",
        "# Process test data\n",
        "test_input_lang, test_output_lang, test_pairs = prepareData('eng', 'fra', True, '3.txt')\n",
        "print(random.choice(test_pairs))\n"
      ]
    },
    {
      "cell_type": "code",
      "execution_count": 59,
      "metadata": {
        "id": "Ml_4GZxsiCjf"
      },
      "outputs": [],
      "source": [
        "def evaluate(encoder, decoder, sentence, max_length=MAX_LENGTH):\n",
        "    with torch.no_grad():\n",
        "        input_tensor = tensorFromSentence(input_lang, sentence).to(device)\n",
        "        input_length = input_tensor.size()[0]\n",
        "        encoder_hidden = encoder.initHidden()\n",
        "\n",
        "        # Move each element of the encoder_hidden tuple to the device\n",
        "        encoder_hidden = tuple(h.to(device) for h in encoder_hidden)\n",
        "\n",
        "        encoder_outputs = torch.zeros(max_length, encoder.hidden_size, device=device)\n",
        "\n",
        "        for ei in range(input_length):\n",
        "            encoder_output, encoder_hidden = encoder(input_tensor[ei], encoder_hidden)\n",
        "            encoder_outputs[ei] += encoder_output[0, 0]\n",
        "\n",
        "        decoder_input = torch.tensor([[SOS_token]], device=device)  # SOS\n",
        "        decoder_hidden = encoder_hidden\n",
        "\n",
        "        decoded_words = []\n",
        "        for di in range(max_length):\n",
        "            decoder_output, decoder_hidden = decoder(\n",
        "                decoder_input, decoder_hidden)\n",
        "            topv, topi = decoder_output.topk(1)\n",
        "            if topi.item() == EOS_token:\n",
        "                decoded_words.append('<EOS>')\n",
        "                break\n",
        "            else:\n",
        "                decoded_words.append(output_lang.index2word[topi.item()])\n",
        "\n",
        "            decoder_input = topi.squeeze().detach().to(device)\n",
        "\n",
        "        return decoded_words\n"
      ]
    },
    {
      "cell_type": "code",
      "execution_count": null,
      "metadata": {
        "colab": {
          "base_uri": "https://localhost:8080/"
        },
        "id": "U803V8OBcqCq",
        "outputId": "f7a38569-38fc-436a-ee75-3b10e61a17eb"
      },
      "outputs": [
        {
          "name": "stderr",
          "output_type": "stream",
          "text": [
            "100%|██████████| 742/742 [00:15<00:00, 47.72it/s]"
          ]
        },
        {
          "name": "stdout",
          "output_type": "stream",
          "text": [
            "BLEU-4 Score: 0.001473733991008767\n"
          ]
        },
        {
          "name": "stderr",
          "output_type": "stream",
          "text": [
            "\n"
          ]
        }
      ],
      "source": [
        "import nltk\n",
        "from nltk.translate.bleu_score import sentence_bleu, corpus_bleu\n",
        "from tqdm import tqdm\n",
        "\n",
        "def evaluate_bleu(encoder, decoder, test_pairs):\n",
        "    references = []  # Stores reference sentences for each prediction\n",
        "    hypotheses = []  # Stores predicted sentences\n",
        "\n",
        "    for pair in tqdm(test_pairs):\n",
        "        input_sentence = pair[0]\n",
        "        target_sentence = pair[1]\n",
        "\n",
        "        output_words = evaluate(encoder, decoder, input_sentence)\n",
        "        output_sentence = ' '.join(output_words)\n",
        "\n",
        "        # Removing <SOS> and <EOS> tokens from target_sentence\n",
        "        target_sentence = target_sentence.split()\n",
        "        if target_sentence[0] == \"SOS\":\n",
        "            target_sentence = target_sentence[1:]\n",
        "        if target_sentence[-1] == \"EOS\":\n",
        "            target_sentence = target_sentence[:-1]\n",
        "\n",
        "        references.append([target_sentence])\n",
        "        hypotheses.append(output_words)\n",
        "\n",
        "    bleu_score = corpus_bleu(references, hypotheses)\n",
        "    return bleu_score\n",
        "\n",
        "def evaluate_bleu2(encoder, decoder, test_pairs):\n",
        "    references = []  # Stores reference sentences for each prediction\n",
        "    hypotheses = []  # Stores predicted sentences\n",
        "\n",
        "    for pair in tqdm(test_pairs):\n",
        "        input_sentence = pair[0]\n",
        "        target_sentence = pair[1]\n",
        "\n",
        "        output_words = evaluate_attn(encoder, decoder, input_sentence)\n",
        "        output_sentence = ' '.join(output_words)\n",
        "\n",
        "        # Removing <SOS> and <EOS> tokens from target_sentence\n",
        "        target_sentence = target_sentence.split()\n",
        "        if target_sentence[0] == \"SOS\":\n",
        "            target_sentence = target_sentence[1:]\n",
        "        if target_sentence[-1] == \"EOS\":\n",
        "            target_sentence = target_sentence[:-1]\n",
        "\n",
        "        references.append([target_sentence])\n",
        "        hypotheses.append(output_words)\n",
        "\n",
        "    bleu_score = corpus_bleu(references, hypotheses)\n",
        "    return bleu_score\n",
        "# Assuming you have test_pairs variable containing test data\n",
        "encoder1 = encoder1.to(device)\n",
        "decoder1 = decoder1.to(device)\n",
        "\n",
        "# bleu_score1 = evaluate_bleu(encoder1, decoder1, test_pairs)\n",
        "bleu_score2 = evaluate_bleu2(encoder2, attn_decoder, test_pairs)\n",
        "\n",
        "print(\"BLEU-4 Score2:\", bleu_score2)  # BLEU-4 Score2\n"
      ]
    },
    {
      "cell_type": "code",
      "execution_count": null,
      "metadata": {
        "colab": {
          "base_uri": "https://localhost:8080/"
        },
        "id": "zm4uHq7chhRK",
        "outputId": "7b4df437-149c-4004-b7a1-283f3d1bbde1"
      },
      "outputs": [
        {
          "name": "stderr",
          "output_type": "stream",
          "text": [
            "100%|██████████| 742/742 [00:19<00:00, 37.93it/s]\n"
          ]
        },
        {
          "name": "stdout",
          "output_type": "stream",
          "text": [
            "METEOR Score: 0.0\n"
          ]
        }
      ],
      "source": [
        "from nltk.translate.meteor_score import meteor_score\n",
        "def evaluate_meteor(encoder, decoder, test_pairs):\n",
        "    references = []  # Stores reference sentences for each prediction\n",
        "    hypotheses = []  # Stores predicted sentences\n",
        "\n",
        "    for pair in tqdm(test_pairs):\n",
        "        input_sentence = pair[0]\n",
        "        target_sentence = pair[1]\n",
        "\n",
        "        output_words = evaluate(encoder, decoder, input_sentence)\n",
        "        output_sentence = ' '.join(output_words)\n",
        "\n",
        "        # Split reference sentence into tokens\n",
        "        target_tokens = target_sentence.strip().split()\n",
        "\n",
        "        references.append(target_tokens)\n",
        "        hypotheses.append(output_sentence)\n",
        "\n",
        "    meteor_avg = meteor_score(references, hypotheses)\n",
        "    return meteor_avg\n",
        "\n",
        "\n",
        "def evaluate_meteor2(encoder, decoder, test_pairs):\n",
        "    references = []  # Stores reference sentences for each prediction\n",
        "    hypotheses = []  # Stores predicted sentences\n",
        "\n",
        "    for pair in tqdm(test_pairs):\n",
        "        input_sentence = pair[0]\n",
        "        target_sentence = pair[1]\n",
        "\n",
        "        output_words = evaluate_attn(encoder, decoder, input_sentence)\n",
        "        output_sentence = ' '.join(output_words)\n",
        "\n",
        "        # Split reference sentence into tokens\n",
        "        target_tokens = target_sentence.strip().split()\n",
        "\n",
        "        references.append(target_tokens)\n",
        "        hypotheses.append(output_sentence)\n",
        "\n",
        "    meteor_avg = meteor_score(references, hypotheses)\n",
        "    return meteor_avg\n",
        "# Assuming you have test_pairs variable containing test data\n",
        "meteor_score1 = evaluate_meteor(encoder1, decoder1, test_pairs)\n",
        "meteor_score2 = evaluate_meteor2(encoder2, attn_decoder, test_pairs)\n",
        "meteor_score3 = evaluate_meteor(encoder3, decoder3, test_pairs)\n",
        "meteor_score4 = evaluate_meteor(encoder4, decoder4, test_pairs)\n",
        "print(\"METEOR Score1:\", meteor_score1)  # METEOR Score1\n",
        "print(\"METEOR Score2:\", meteor_score2)  # METEOR Score2\n",
        "print(\"METEOR Score3:\", meteor_score3)  # METEOR Score3\n",
        "print(\"METEOR Score4:\", meteor_score4)  # METEOR Score4\n",
        "\n"
      ]
    },
    {
      "cell_type": "code",
      "execution_count": null,
      "metadata": {
        "colab": {
          "base_uri": "https://localhost:8080/"
        },
        "id": "ClBVziZUeERT",
        "outputId": "25b71c13-dec8-453d-9fb1-1e18bc0e3782"
      },
      "outputs": [
        {
          "name": "stderr",
          "output_type": "stream",
          "text": [
            "100%|██████████| 742/742 [00:13<00:00, 53.40it/s]"
          ]
        },
        {
          "name": "stdout",
          "output_type": "stream",
          "text": [
            "Average Accuracy (%): 14.521298834022389\n"
          ]
        },
        {
          "name": "stderr",
          "output_type": "stream",
          "text": [
            "\n"
          ]
        }
      ],
      "source": [
        "def evaluate_accuracy(encoder, decoder, test_pairs):\n",
        "    total_correct = 0\n",
        "    total_items = 0\n",
        "\n",
        "    for pair in tqdm(test_pairs):\n",
        "        input_sentence = pair[0]\n",
        "        target_sentence = pair[1]\n",
        "\n",
        "        output_words = evaluate(encoder, decoder, input_sentence)\n",
        "        output_sentence = ' '.join(output_words)\n",
        "\n",
        "        # Tokenize target and output sentences for comparison\n",
        "        target_tokens = target_sentence.strip().split()\n",
        "        output_tokens = output_sentence.strip().split()\n",
        "\n",
        "        # Calculate number of correctly predicted items\n",
        "        correct_items = sum(1 for token in output_tokens if token in target_tokens)\n",
        "\n",
        "        total_correct += correct_items\n",
        "        total_items += len(target_tokens)\n",
        "\n",
        "    avg_accuracy = (total_correct / total_items) * 100 if total_items > 0 else 0\n",
        "    return avg_accuracy\n",
        "\n",
        "def evaluate_accuracy2(encoder, decoder, test_pairs):\n",
        "    total_correct = 0\n",
        "    total_items = 0\n",
        "\n",
        "    for pair in tqdm(test_pairs):\n",
        "        input_sentence = pair[0]\n",
        "        target_sentence = pair[1]\n",
        "\n",
        "        output_words = evaluate_attn(encoder, decoder, input_sentence)\n",
        "        output_sentence = ' '.join(output_words)\n",
        "\n",
        "        # Tokenize target and output sentences for comparison\n",
        "        target_tokens = target_sentence.strip().split()\n",
        "        output_tokens = output_sentence.strip().split()\n",
        "\n",
        "        # Calculate number of correctly predicted items\n",
        "        correct_items = sum(1 for token in output_tokens if token in target_tokens)\n",
        "\n",
        "        total_correct += correct_items\n",
        "        total_items += len(target_tokens)\n",
        "\n",
        "    avg_accuracy = (total_correct / total_items) * 100 if total_items > 0 else 0\n",
        "    return avg_accuracy\n",
        "# Assuming you have test_pairs variable containing test data\n",
        "accuracy1 = evaluate_accuracy(encoder1, decoder1, test_pairs)\n",
        "print(\"Average Accuracy (%):\", accuracy1)\n"
      ]
    },
    {
      "cell_type": "code",
      "execution_count": null,
      "metadata": {
        "colab": {
          "base_uri": "https://localhost:8080/"
        },
        "id": "LWAkylKMiv2u",
        "outputId": "0d1467ef-bf9f-4b23-a37c-c1821b98b7a6"
      },
      "outputs": [
        {
          "name": "stderr",
          "output_type": "stream",
          "text": [
            "100%|██████████| 742/742 [00:14<00:00, 51.73it/s]"
          ]
        },
        {
          "name": "stdout",
          "output_type": "stream",
          "text": [
            "Average Extra Items: 3.6199460916442048\n"
          ]
        },
        {
          "name": "stderr",
          "output_type": "stream",
          "text": [
            "\n"
          ]
        }
      ],
      "source": [
        "def evaluate_extra_items(encoder, decoder, test_pairs):\n",
        "    total_extra_items = 0\n",
        "    total_sentences = len(test_pairs)\n",
        "\n",
        "    for pair in tqdm(test_pairs):\n",
        "        input_sentence = pair[0]\n",
        "        target_sentence = pair[1]\n",
        "\n",
        "        output_words = evaluate(encoder, decoder, input_sentence)\n",
        "        output_sentence = ' '.join(output_words)\n",
        "\n",
        "        # Tokenize target and output sentences for comparison\n",
        "        target_tokens = set(target_sentence.strip().split())\n",
        "        output_tokens = set(output_sentence.strip().split())\n",
        "\n",
        "        # Calculate number of extra predicted items\n",
        "        extra_items = len(output_tokens - target_tokens)\n",
        "\n",
        "        total_extra_items += extra_items\n",
        "\n",
        "    avg_extra_items = total_extra_items / total_sentences if total_sentences > 0 else 0\n",
        "    return avg_extra_items\n",
        "\n",
        "def evaluate_extra_items2(encoder, decoder, test_pairs):\n",
        "    total_extra_items = 0\n",
        "    total_sentences = len(test_pairs)\n",
        "\n",
        "    for pair in tqdm(test_pairs):\n",
        "        input_sentence = pair[0]\n",
        "        target_sentence = pair[1]\n",
        "\n",
        "        output_words = evaluate_attn(encoder, decoder, input_sentence)\n",
        "        output_sentence = ' '.join(output_words)\n",
        "\n",
        "        # Tokenize target and output sentences for comparison\n",
        "        target_tokens = set(target_sentence.strip().split())\n",
        "        output_tokens = set(output_sentence.strip().split())\n",
        "\n",
        "        # Calculate number of extra predicted items\n",
        "        extra_items = len(output_tokens - target_tokens)\n",
        "\n",
        "        total_extra_items += extra_items\n",
        "\n",
        "    avg_extra_items = total_extra_items / total_sentences if total_sentences > 0 else 0\n",
        "    return avg_extra_items\n",
        "\n",
        "# Assuming you have test_pairs variable containing test data\n",
        "avg_extra_items1 = evaluate_extra_items(encoder1, decoder1, test_pairs)\n",
        "print(\"Average Extra Items1:\", avg_extra_items1)"
      ]
    },
    {
      "cell_type": "code",
      "execution_count": null,
      "metadata": {
        "id": "ayqs64JptZi2"
      },
      "outputs": [],
      "source": [
        "def evaluateRandomly(encoder, decoder, n=10):\n",
        "    for i in range(n):\n",
        "        pair = random.choice(pairs)\n",
        "        print('>', pair[0])\n",
        "        print('=', pair[1])\n",
        "        output_words= evaluate(encoder, decoder, pair[0])\n",
        "        output_sentence = ' '.join(output_words)\n",
        "        print('<', output_sentence)\n",
        "        print('')"
      ]
    },
    {
      "cell_type": "code",
      "execution_count": null,
      "metadata": {
        "colab": {
          "base_uri": "https://localhost:8080/"
        },
        "id": "y51G1D32hRSp",
        "outputId": "dc434eb2-03db-48c4-8617-78c38dce427b"
      },
      "outputs": [
        {
          "output_type": "stream",
          "name": "stdout",
          "text": [
            ">  lb mushrooms tb oil tb water c milk tb corn starch dissolved c water salt parsley sprig sl luncheon ham\n",
            "= select mushrooms unopened caps . cut stems mushrooms caps remain . retain mushroom stems soup . mince slice ham also mince parsley . assemble ingredients . place oil wok heat low medium heat minutes . add mushrooms wok stir fry minute . add tablespoons water cover wok gently stir fry mushrooms minutes . lift cover times stir mushrooms cooking period . mushrooms cooked remove platter . arrange mushrooms caps upright pour juices wok . place cup milk wok add thoroughly stirred corn starch solution . cook low medium heat white sauce thickened . pour white sauce mushroom caps garnish minced ham parsley .\n",
            "< preheat oven degrees . add eggs . add eggs . add eggs . add eggs . add eggs . add eggs . <EOS>\n",
            "\n",
            ">  sm onions garlic cloves ginger root piece cloves cinnamon stick cardamom pods salt water tb indian curry powder ts chili powder lb lamb cut bite size chunks tb ghee clarified butter oil sprigs curry leaves lime juice\n",
            "= grind onions garlic ginger root cloves cinnamon whole cardamom pods together food processor . add salt taste cup water add curry powder chili powder . process . rub paste lamb chunks . heat ghee skillet . add lamb fry oil rises surface . add curry leaves . simmer hours adding little water curry becomes dry . serving time squeeze lime juice curry . milligrams sodium milligrams cholesterol \n",
            "< preheat oven degrees . add eggs . add eggs . add eggs . add eggs . add eggs . add eggs . add eggs . add eggs . add eggs . add eggs . add eggs . <EOS>\n",
            "\n",
            ">  lg tomatoes ripe ts salt c salad oil ts oregano leaves tb lemon juice ts pepper garlic clove minced\n",
            "= peel tomatoes cut thick slices . combine remaining ingredients . pour tomatoes . chill thoroughly stirring twice .\n",
            "< preheat oven degrees . add eggs . add eggs . add eggs . add eggs . <EOS>\n",
            "\n",
            ">  lb green bananas c chicken stock tb butter small onion chopped c light cream milk eggs beaten salt ground nutmeg pn cinnamon c grated cheddar cheese c fresh bread crumbs\n",
            "= place bananas saucepan add enough chicken stock cover . bring boil reduce heat simmer bananas tender minutes . let cool slightly . meanwhile heat butter small frypan saute onions tender . add onions cream beaten eggs cooked bananas combined season salt nutmeg cinnamon taste . place banana mixture buttered shallow baking dish . combine cheese bread crumbs sprinkle top . bake minutes top golden . serves .\n",
            "< preheat oven degrees . add eggs . add eggs . add eggs . add eggs . add eggs . add eggs . add eggs . <EOS>\n",
            "\n",
            ">  lb smoked sausage lg carrots chopped fine c salad oil qt chicken broth c flour c lentils stalks celery chopped fine tb worcestershire cl garlic minced ts pepper md onions diced ts cayenne\n",
            "=  quart pan medium heat cook sausage stirring brow . spoon pan reserve . add oi drippings pan make cup fat . add flour stir mixture red brown abouth minutes . add celery garlic onion crrots cook stirring vegetables begint soften minutes . add reserved sauseage chicken broth lentils worcestershire pepper cayenne . bring boiling high ehat redue simmer cover cook lentils ar soft pressed minutes .\n",
            "< preheat oven degrees . add eggs . add eggs . add eggs . add eggs . add eggs . add eggs . add eggs . add eggs . <EOS>\n",
            "\n",
            ">  c paprika c black pepper c salt ea ? ? ? ? ? ? see directions\n",
            "= use rub base add favorite dry spices make smoker best block .\n",
            "< preheat oven degrees . add eggs . add eggs . add eggs . add eggs . add eggs . <EOS>\n",
            "\n",
            ">  bunch asparagus tb gold medal flour c milk scalded ts salt taste eggs ts pepper tb butter rolls \n",
            "= cut tops rolls serve covers . remove crumb dust shells covers melted butter brown oven . make white sauce milk butter flour . cut tender part asparagus fine cook minutes white sauce fill rolls mixture place tops serve hot .\n",
            "< preheat oven degrees . add eggs . add eggs . <EOS>\n",
            "\n",
            ">  cn oz . salmon drained tb lemon juice boned flaked ts salt c celery diced sl toast c mayonnaise salad dressing sl american cheese\n",
            "= combine salmon celery mayo salad dressing lemon juice salt . spread salmon mixture toast slices top slice cheese . broil tops sandwiches inces unit tip flame minutes cheese bubbly . joann pierce\n",
            "< preheat oven degrees . add eggs . add eggs . add eggs . add eggs . add eggs . add eggs . <EOS>\n",
            "\n",
            ">  lb tomatoes peeled seeded chopped tb sun dried tomatoes packed oil finely chopped tb oil sun dried tomatoes tb olive oil lb pancetta slab bacon diced c parsley finely chopped salt necessary\n",
            "= preheat oven degrees f . combine fresh tomatoes sun dried tomatoes set aside . pour oils inch baking dish place oven heat oil minutes . add pancetta return oven pancetta starts brown tossing occasionally spatula minutes . stir tomatoes . bake minutes stirring occasionally tomatoes cooked form sauce . remove oven stir parsley . season salt necessary . cook pound dried pasta fusilli lrb spiral shaped rrb salted water following package directions . drain . serve sauce pasta pass cup freshly grated parmesan cheese table . freeze spoon freezer container cover label freeze degrees f months . serve defrost sauce minutes microwave oven defrost setting stirring several times thaw refrigerator hours . gently warm sauce saucepan microwave oven power warmed minutes whisking frequently vigorously bring creamy consistency .\n",
            "< preheat oven degrees . add eggs . add eggs . add eggs . add eggs . add eggs . add eggs . add eggs . add eggs . add eggs . add eggs . <EOS>\n",
            "\n",
            ">  c sugar tb . jello flavor fruit . baked pie shell tb . cornstarch c water whipped creme c fruit frozen alright \n",
            "= combine sugar cornstarch water heavy saucepan cook medium heat thick fairly clear . remove heat add jello mix . stir dissolved . stir fruit pour shell chill . serve whipped cream water fill small crusts .\n",
            "< preheat oven degrees . add eggs . add eggs . add eggs . add eggs . add eggs . <EOS>\n",
            "\n"
          ]
        }
      ],
      "source": [
        "evaluateRandomly(encoder1, decoder1)"
      ]
    },
    {
      "cell_type": "code",
      "source": [
        "sentence1 = ': 2 c sugar, 1/4 c lemon juice, 1 c water, 1/3 c orange juice, 8 c strawberries'\n",
        "output_words= evaluate(encoder1, decoder1, sentence1)\n",
        "output_sentence = ' '.join(output_words)\n",
        "print('<', output_sentence)"
      ],
      "metadata": {
        "colab": {
          "base_uri": "https://localhost:8080/"
        },
        "id": "qOWaAbXQ09Ei",
        "outputId": "94311ad1-0139-4782-872b-f5eb7186a172"
      },
      "execution_count": null,
      "outputs": [
        {
          "output_type": "stream",
          "name": "stdout",
          "text": [
            "< preheat oven degrees . add eggs . add eggs . add eggs . add eggs . <EOS>\n"
          ]
        }
      ]
    },
    {
      "cell_type": "code",
      "source": [
        "sentence1 = ': 2 c sugar, 1/4 c lemon juice, 1 c water, 1/3 c orange juice, 8 c strawberries'\n",
        "output_words= evaluate_attn(encoder2, attn_decoder, sentence1)\n",
        "output_sentence = ' '.join(output_words[0])\n",
        "print('<', output_sentence)"
      ],
      "metadata": {
        "id": "EODPCuU-brpN",
        "colab": {
          "base_uri": "https://localhost:8080/"
        },
        "outputId": "f794bc08-e6ce-4bc9-f3ba-ad71be7a6e09"
      },
      "execution_count": 80,
      "outputs": [
        {
          "output_type": "stream",
          "name": "stdout",
          "text": [
            "< mix ingredients . bake minutes . <EOS>\n"
          ]
        }
      ]
    },
    {
      "cell_type": "code",
      "source": [
        "sentence1 = ': 2 c sugar, 1/4 c lemon juice, 1 c water, 1/3 c orange juice, 8 c strawberries'\n",
        "output_words= evaluate(encoder3, decoder3, sentence1)\n",
        "output_sentence = ' '.join(output_words)\n",
        "print('<', output_sentence)"
      ],
      "metadata": {
        "id": "cHIqbzNGbrxE",
        "colab": {
          "base_uri": "https://localhost:8080/"
        },
        "outputId": "8636069a-1c84-4b6a-8402-c7885effa8a4"
      },
      "execution_count": 25,
      "outputs": [
        {
          "output_type": "stream",
          "name": "stdout",
          "text": [
            "< bake degrees f . grease . add remaining ingredients . add remaining ingredients . add remaining ingredients . add remaining . <EOS>\n"
          ]
        }
      ]
    },
    {
      "cell_type": "code",
      "source": [
        "sentence1 = ': 2 c sugar, 1/4 c lemon juice, 1 c water, 1/3 c orange juice, 8 c strawberries'\n",
        "output_words= evaluate(encoder1, decoder1, sentence1)\n",
        "output_sentence = ' '.join(output_words)\n",
        "print('<', output_sentence)"
      ],
      "metadata": {
        "id": "wYDnQYUgbr5J",
        "colab": {
          "base_uri": "https://localhost:8080/"
        },
        "outputId": "bd0e0f6a-62d4-49ce-88be-4a9df529c7c1"
      },
      "execution_count": 60,
      "outputs": [
        {
          "output_type": "stream",
          "name": "stdout",
          "text": [
            "< combine flour baking soda salt pepper . add flour baking soda salt pepper . add flour baking soda salt pepper . add flour baking soda salt pepper . add flour baking soda salt pepper . add flour baking soda salt pepper . add flour baking soda salt pepper . add flour baking soda salt pepper . add flour baking soda salt pepper . add flour baking soda salt pepper . add flour baking soda salt pepper . add flour baking soda salt pepper . add flour baking soda salt pepper . add flour baking soda salt pepper . add flour baking soda salt pepper . add flour baking soda salt pepper . add flour baking soda salt pepper . add flour baking soda salt pepper . add flour baking soda salt pepper . add flour baking soda salt pepper . add flour baking soda salt pepper . add flour baking\n"
          ]
        }
      ]
    },
    {
      "cell_type": "code",
      "source": [
        "df4 = pd.read_csv(\"/content/drive/MyDrive/generated_012345678.csv\")\n",
        "def truncate_ingredients(ingredients, max_words=150):\n",
        "    words = ingredients.split()\n",
        "    if len(words) > max_words:\n",
        "        words = words[:max_words]\n",
        "    return ' '.join(words)\n",
        "df5 = df4\n",
        "# Apply the function to the 'Ingredients' column\n",
        "df5['Ingredients'] = df4['Ingredients'].apply(truncate_ingredients)"
      ],
      "metadata": {
        "id": "8n28bhfixbSa"
      },
      "execution_count": 26,
      "outputs": []
    },
    {
      "cell_type": "code",
      "source": [
        "for x in range(len(df4)):\n",
        "  output_words= evaluate(encoder3, decoder3, df5['Ingredients'][x])\n",
        "  output_sentence = ' '.join(output_words)\n",
        "  df4['Generated Recipe - Extended 1'][x] = output_sentence\n",
        "file_path = '/content/drive/My Drive/your_file3.csv'\n",
        "df4.to_csv(file_path, index=False)"
      ],
      "metadata": {
        "colab": {
          "base_uri": "https://localhost:8080/"
        },
        "id": "RQ-Tf1yuxcPj",
        "outputId": "b8618af2-88be-4515-c3b2-b84cbe211db0"
      },
      "execution_count": 28,
      "outputs": [
        {
          "output_type": "stream",
          "name": "stderr",
          "text": [
            "<ipython-input-28-b5e8c02c5520>:4: SettingWithCopyWarning: \n",
            "A value is trying to be set on a copy of a slice from a DataFrame\n",
            "\n",
            "See the caveats in the documentation: https://pandas.pydata.org/pandas-docs/stable/user_guide/indexing.html#returning-a-view-versus-a-copy\n",
            "  df4['Generated Recipe - Extended 1'][x] = output_sentence\n"
          ]
        }
      ]
    },
    {
      "cell_type": "code",
      "source": [
        "df4 = pd.read_csv(\"/content/drive/MyDrive/generated_012345678.csv\")\n",
        "def truncate_ingredients(ingredients, max_words=150):\n",
        "    words = ingredients.split()\n",
        "    if len(words) > max_words:\n",
        "        words = words[:max_words]\n",
        "    return ' '.join(words)\n",
        "df5 = df4\n",
        "# Apply the function to the 'Ingredients' column\n",
        "df5['Ingredients'] = df4['Ingredients'].apply(truncate_ingredients)"
      ],
      "metadata": {
        "id": "vn4wx0Ur8ULp"
      },
      "execution_count": 61,
      "outputs": []
    },
    {
      "cell_type": "code",
      "source": [
        "for x in range(len(df4)):\n",
        "  output_words= evaluate(encoder1, decoder1, df5['Ingredients'][x])\n",
        "  output_sentence = ' '.join(output_words)\n",
        "  df4['Generated Recipe - Extended 1'][x] = output_sentence\n",
        "file_path = '/content/drive/My Drive/your_file1.csv'\n",
        "df4.to_csv(file_path, index=False)"
      ],
      "metadata": {
        "colab": {
          "base_uri": "https://localhost:8080/"
        },
        "id": "tvowCmQixcVW",
        "outputId": "09b21539-cf4d-4cfe-9c13-5acc1dfdb253"
      },
      "execution_count": 62,
      "outputs": [
        {
          "output_type": "stream",
          "name": "stderr",
          "text": [
            "<ipython-input-62-1277be3d5b6b>:4: SettingWithCopyWarning: \n",
            "A value is trying to be set on a copy of a slice from a DataFrame\n",
            "\n",
            "See the caveats in the documentation: https://pandas.pydata.org/pandas-docs/stable/user_guide/indexing.html#returning-a-view-versus-a-copy\n",
            "  df4['Generated Recipe - Extended 1'][x] = output_sentence\n"
          ]
        }
      ]
    },
    {
      "cell_type": "code",
      "source": [
        "df4 = pd.read_csv(\"/content/drive/MyDrive/generated_012345678.csv\")\n",
        "def truncate_ingredients(ingredients, max_words=150):\n",
        "    words = ingredients.split()\n",
        "    if len(words) > max_words:\n",
        "        words = words[:max_words]\n",
        "    return ' '.join(words)\n",
        "df5 = df4\n",
        "# Apply the function to the 'Ingredients' column\n",
        "df5['Ingredients'] = df4['Ingredients'].apply(truncate_ingredients)"
      ],
      "metadata": {
        "id": "tE3FHDLDFkl-"
      },
      "execution_count": 87,
      "outputs": []
    },
    {
      "cell_type": "code",
      "source": [
        "for x in range(len(df4)):\n",
        "  output_words= evaluate_attn(encoder2, attn_decoder, df5['Ingredients'][x])\n",
        "  output_sentence = ' '.join(output_words[0])\n",
        "  df4['Generated Recipe - Baseline 2'][x] = output_sentence\n",
        "file_path = '/content/drive/My Drive/your_file22.csv'\n",
        "df4.to_csv(file_path, index=False)"
      ],
      "metadata": {
        "colab": {
          "base_uri": "https://localhost:8080/"
        },
        "id": "F-KhuiAGFkpn",
        "outputId": "606e2a0e-4264-4e3b-917a-630d6c0e1ae0"
      },
      "execution_count": 88,
      "outputs": [
        {
          "output_type": "stream",
          "name": "stderr",
          "text": [
            "<ipython-input-88-07fe7caefa63>:4: SettingWithCopyWarning: \n",
            "A value is trying to be set on a copy of a slice from a DataFrame\n",
            "\n",
            "See the caveats in the documentation: https://pandas.pydata.org/pandas-docs/stable/user_guide/indexing.html#returning-a-view-versus-a-copy\n",
            "  df4['Generated Recipe - Baseline 2'][x] = output_sentence\n"
          ]
        }
      ]
    },
    {
      "cell_type": "markdown",
      "source": [
        "Evaluation scores for baseline 2"
      ],
      "metadata": {
        "id": "92zAu47cXkhY"
      }
    },
    {
      "cell_type": "code",
      "source": [
        "import nltk\n",
        "from nltk.translate.bleu_score import sentence_bleu, corpus_bleu\n",
        "from tqdm import tqdm\n",
        "def evaluate_bleu2(encoder, decoder, test_pairs):\n",
        "    references = []  # Stores reference sentences for each prediction\n",
        "    hypotheses = []  # Stores predicted sentences\n",
        "\n",
        "    for pair in tqdm(test_pairs):\n",
        "        input_sentence = pair[0]\n",
        "        target_sentence = pair[1]\n",
        "\n",
        "        output_words = evaluate_attn(encoder, decoder, input_sentence)\n",
        "        output_sentence = ' '.join(output_words[0])\n",
        "\n",
        "        # Removing <SOS> and <EOS> tokens from target_sentence\n",
        "        target_sentence = target_sentence.split()\n",
        "        if target_sentence[0] == \"SOS\":\n",
        "            target_sentence = target_sentence[1:]\n",
        "        if target_sentence[-1] == \"EOS\":\n",
        "            target_sentence = target_sentence[:-1]\n",
        "\n",
        "        references.append([target_sentence])\n",
        "        hypotheses.append(output_words[0])\n",
        "\n",
        "    bleu_score = corpus_bleu(references, hypotheses)\n",
        "    return bleu_score\n",
        "\n",
        "bl = evaluate_bleu2(encoder2, attn_decoder, test_pairs)\n",
        "bl"
      ],
      "metadata": {
        "colab": {
          "base_uri": "https://localhost:8080/"
        },
        "id": "43MgU2_FIRO8",
        "outputId": "5f177964-40ed-48a3-bace-9afdfb29dba3"
      },
      "execution_count": 92,
      "outputs": [
        {
          "output_type": "stream",
          "name": "stderr",
          "text": [
            "100%|██████████| 742/742 [00:49<00:00, 14.89it/s]\n"
          ]
        },
        {
          "output_type": "execute_result",
          "data": {
            "text/plain": [
              "0.011215349176682113"
            ]
          },
          "metadata": {},
          "execution_count": 92
        }
      ]
    },
    {
      "cell_type": "code",
      "source": [
        "from nltk.translate.meteor_score import meteor_score\n",
        "def evaluate_meteor2(encoder, decoder, test_pairs):\n",
        "    references = []  # Stores reference sentences for each prediction\n",
        "    hypotheses = []  # Stores predicted sentences\n",
        "\n",
        "    for pair in tqdm(test_pairs):\n",
        "        input_sentence = pair[0]\n",
        "        target_sentence = pair[1]\n",
        "\n",
        "        output_words = evaluate_attn(encoder, decoder, input_sentence)\n",
        "        output_sentence = ' '.join(output_words[0])\n",
        "\n",
        "        # Split reference sentence into tokens\n",
        "        target_tokens = target_sentence.strip().split()\n",
        "\n",
        "        references.append(target_tokens)\n",
        "        hypotheses.append(output_sentence)\n",
        "\n",
        "    meteor_avg = meteor_score(references, hypotheses)\n",
        "    return meteor_avg\n",
        "# Assuming you have test_pairs variable containing test data\n",
        "meteor_score1 = evaluate_meteor2(encoder2, attn_decoder, test_pairs)"
      ],
      "metadata": {
        "colab": {
          "base_uri": "https://localhost:8080/"
        },
        "id": "e-xHjKi1IRae",
        "outputId": "5c5d2b3a-cd17-4c95-8e39-ecbcdc35f17a"
      },
      "execution_count": 93,
      "outputs": [
        {
          "output_type": "stream",
          "name": "stderr",
          "text": [
            "100%|██████████| 742/742 [00:46<00:00, 16.01it/s]\n"
          ]
        }
      ]
    },
    {
      "cell_type": "code",
      "source": [
        "meteor_score1"
      ],
      "metadata": {
        "colab": {
          "base_uri": "https://localhost:8080/"
        },
        "id": "1wBiX38DIRhi",
        "outputId": "f3a83d88-e9d3-4f2b-f6a2-b85894dbafb7"
      },
      "execution_count": 94,
      "outputs": [
        {
          "output_type": "execute_result",
          "data": {
            "text/plain": [
              "0.0"
            ]
          },
          "metadata": {},
          "execution_count": 94
        }
      ]
    },
    {
      "cell_type": "code",
      "source": [
        "def evaluate_accuracy2(encoder, decoder, test_pairs):\n",
        "    total_correct = 0\n",
        "    total_items = 0\n",
        "\n",
        "    for pair in tqdm(test_pairs):\n",
        "        input_sentence = pair[0]\n",
        "        target_sentence = pair[1]\n",
        "\n",
        "        output_words = evaluate_attn(encoder, decoder, input_sentence)\n",
        "        output_sentence = ' '.join(output_words[0])\n",
        "\n",
        "        # Tokenize target and output sentences for comparison\n",
        "        target_tokens = target_sentence.strip().split()\n",
        "        output_tokens = output_sentence.strip().split()\n",
        "\n",
        "        # Calculate number of correctly predicted items\n",
        "        correct_items = sum(1 for token in output_tokens if token in target_tokens)\n",
        "\n",
        "        total_correct += correct_items\n",
        "        total_items += len(target_tokens)\n",
        "\n",
        "    avg_accuracy = (total_correct / total_items) * 100 if total_items > 0 else 0\n",
        "    return avg_accuracy\n",
        "# Assuming you have test_pairs variable containing test data\n",
        "accuracy2 = evaluate_accuracy2(encoder2, attn_decoder, test_pairs)\n",
        "accuracy2"
      ],
      "metadata": {
        "colab": {
          "base_uri": "https://localhost:8080/"
        },
        "id": "2claOzhEIRkZ",
        "outputId": "7e3bc390-3182-48e5-e240-aa7d094b24d9"
      },
      "execution_count": 96,
      "outputs": [
        {
          "output_type": "stream",
          "name": "stderr",
          "text": [
            "100%|██████████| 742/742 [00:46<00:00, 15.83it/s]\n"
          ]
        },
        {
          "output_type": "execute_result",
          "data": {
            "text/plain": [
              "56.58939935894458"
            ]
          },
          "metadata": {},
          "execution_count": 96
        }
      ]
    },
    {
      "cell_type": "code",
      "source": [
        "def evaluate_extra_items2(encoder, decoder, test_pairs):\n",
        "    total_extra_items = 0\n",
        "    total_sentences = len(test_pairs)\n",
        "\n",
        "    for pair in tqdm(test_pairs):\n",
        "        input_sentence = pair[0]\n",
        "        target_sentence = pair[1]\n",
        "\n",
        "        output_words = evaluate_attn(encoder, decoder, input_sentence)\n",
        "        output_sentence = ' '.join(output_words[0])\n",
        "\n",
        "        # Tokenize target and output sentences for comparison\n",
        "        target_tokens = set(target_sentence.strip().split())\n",
        "        output_tokens = set(output_sentence.strip().split())\n",
        "\n",
        "        # Calculate number of extra predicted items\n",
        "        extra_items = len(output_tokens - target_tokens)\n",
        "\n",
        "        total_extra_items += extra_items\n",
        "\n",
        "    avg_extra_items = total_extra_items / total_sentences if total_sentences > 0 else 0\n",
        "    return avg_extra_items\n",
        "\n",
        "avg_extra_items2 = evaluate_extra_items2(encoder2, attn_decoder, test_pairs)\n",
        "avg_extra_items2"
      ],
      "metadata": {
        "colab": {
          "base_uri": "https://localhost:8080/"
        },
        "id": "EeLcwDWcIRnA",
        "outputId": "2a08cd6b-89f9-4c39-fbf1-6d7dfe6a31a7"
      },
      "execution_count": 98,
      "outputs": [
        {
          "output_type": "stream",
          "name": "stderr",
          "text": [
            "100%|██████████| 742/742 [00:45<00:00, 16.29it/s]\n"
          ]
        },
        {
          "output_type": "execute_result",
          "data": {
            "text/plain": [
              "7.439353099730458"
            ]
          },
          "metadata": {},
          "execution_count": 98
        }
      ]
    },
    {
      "cell_type": "markdown",
      "source": [
        "Checking the evaluation functions"
      ],
      "metadata": {
        "id": "U_C95OJPXtRC"
      }
    },
    {
      "cell_type": "code",
      "source": [
        "from nltk.translate.meteor_score import meteor_score\n",
        "\n",
        "# Provided Gold and Generated recipes\n",
        "gold_recipe = \"\"\"\n",
        "combine <sugar> and <water> in medium saucepan . Heat , stirring , until <sugar> dissolves , then boil 5 minutes .\n",
        "cool . force <strawberries> through food mill or blend in blender or food processor .\n",
        "strain to remove seeds , if desired . blend the puree and <lemon juice> and <orange juice> into syrup .\n",
        "pour into freezer trays and freeze . remove from freezer 20 minutes before serving .\n",
        "turn into bowl and stir until smooth .\n",
        "\"\"\"\n",
        "\n",
        "generated_recipe = \"\"\"\n",
        "Combine <sugar> and <water> in a medium saucepan . Heat, stirring, until <sugar> dissolves . Bring to a boil and let simmer for 5 minutes . Remove from heat and allow to cool . In a blender or food processor , combine <strawberries> and <cantaloupe> . Blend until smooth . Strain the mixture to remove any seeds and fibers, if desired. Stir the puree into the cooled syrup along with the <lemon juice> and <orange juice> . Pour the mixture into a large bowl and gently fold in the <vanilla ice cream> until well mixed . Freeze in a container for at least 4 hours . Before serving , let it sit at room temperature for 20 minutes to soften . Stir well to achieve a smooth consistency and serve chilled .\n",
        "\"\"\"\n",
        "\n",
        "# Tokenize the recipes\n",
        "gold_tokens = gold_recipe.strip().split()\n",
        "generated_tokens = generated_recipe.strip().split()\n",
        "\n",
        "# Calculate METEOR score\n",
        "meteor_score_value = meteor_score([gold_tokens], generated_tokens)\n",
        "print(meteor_score_value)\n",
        "\n",
        "\n"
      ],
      "metadata": {
        "colab": {
          "base_uri": "https://localhost:8080/"
        },
        "id": "HyI2fwsMNL3S",
        "outputId": "9c37aa95-5b1d-422f-b040-e8f6cdfbdf84"
      },
      "execution_count": 26,
      "outputs": [
        {
          "output_type": "stream",
          "name": "stdout",
          "text": [
            "0.5736654804270463\n"
          ]
        }
      ]
    },
    {
      "cell_type": "code",
      "source": [
        "def evaluate_accuracy2(target_sentence, output_sentence):\n",
        "    total_correct = 0\n",
        "    total_items = 0\n",
        "\n",
        "    target_tokens = target_sentence.strip().split()\n",
        "    output_tokens = output_sentence.strip().split()\n",
        "\n",
        "        # Calculate number of correctly predicted items\n",
        "    correct_items = sum(1 for token in output_tokens if token in target_tokens)\n",
        "\n",
        "    total_correct += correct_items\n",
        "    total_items += len(target_tokens)\n",
        "\n",
        "    avg_accuracy = (total_correct / total_items) * 100 if total_items > 0 else 0\n",
        "    return avg_accuracy\n",
        "# Assuming you have test_pairs variable containing test data\n",
        "accuracy2 = evaluate_accuracy2(gold_recipe, generated_recipe)\n",
        "accuracy2"
      ],
      "metadata": {
        "colab": {
          "base_uri": "https://localhost:8080/"
        },
        "id": "E1Eqm-epNL6a",
        "outputId": "cab0f3be-9269-4dbf-ec13-3367becbda92"
      },
      "execution_count": 5,
      "outputs": [
        {
          "output_type": "execute_result",
          "data": {
            "text/plain": [
              "91.13924050632912"
            ]
          },
          "metadata": {},
          "execution_count": 5
        }
      ]
    },
    {
      "cell_type": "code",
      "source": [
        "def evaluate_extra_items2(target_sentence, output_sentence):\n",
        "    total_extra_items = 0\n",
        "    total_sentences = 1\n",
        "\n",
        "        # Tokenize target and output sentences for comparison\n",
        "    target_tokens = set(target_sentence.strip().split())\n",
        "    output_tokens = set(output_sentence.strip().split())\n",
        "\n",
        "        # Calculate number of extra predicted items\n",
        "    extra_items = len(output_tokens - target_tokens)\n",
        "\n",
        "    total_extra_items += extra_items\n",
        "\n",
        "    avg_extra_items = total_extra_items / total_sentences if total_sentences > 0 else 0\n",
        "    return avg_extra_items\n",
        "\n",
        "avg_extra_items2 = evaluate_extra_items2(gold_recipe, generated_recipe)\n",
        "avg_extra_items2"
      ],
      "metadata": {
        "colab": {
          "base_uri": "https://localhost:8080/"
        },
        "id": "ARbGNOOQNL9R",
        "outputId": "9179a33b-8fe0-49f5-8bde-64be739aeae6"
      },
      "execution_count": 6,
      "outputs": [
        {
          "output_type": "execute_result",
          "data": {
            "text/plain": [
              "48.0"
            ]
          },
          "metadata": {},
          "execution_count": 6
        }
      ]
    },
    {
      "cell_type": "markdown",
      "source": [
        "Generating the csv"
      ],
      "metadata": {
        "id": "K5FNCwRrX1Nw"
      }
    },
    {
      "cell_type": "code",
      "source": [
        "import pandas as pd\n",
        "df = pd.read_csv(\"/content/drive/MyDrive/your_file1.csv\")"
      ],
      "metadata": {
        "id": "WXs0dI-UTIKv"
      },
      "execution_count": 9,
      "outputs": []
    },
    {
      "cell_type": "code",
      "source": [
        "df['Generated Recipe - Extended 1']"
      ],
      "metadata": {
        "colab": {
          "base_uri": "https://localhost:8080/"
        },
        "id": "tDrsZh0ZTM--",
        "outputId": "06f1d1dc-1452-4f8b-9ad2-77ba8182b5a0"
      },
      "execution_count": 14,
      "outputs": [
        {
          "output_type": "execute_result",
          "data": {
            "text/plain": [
              "0      combine flour baking soda salt pepper . add fl...\n",
              "1      combine flour baking soda salt pepper . add fl...\n",
              "2      combine flour baking soda salt pepper . add fl...\n",
              "3      combine flour baking soda salt pepper . add fl...\n",
              "4      combine flour baking soda salt pepper . add fl...\n",
              "                             ...                        \n",
              "773    combine flour baking soda salt pepper . add fl...\n",
              "774    combine flour baking soda salt pepper . add fl...\n",
              "775    combine flour baking soda salt pepper . add fl...\n",
              "776    combine flour baking soda salt pepper . add fl...\n",
              "777    combine flour baking soda salt pepper . add fl...\n",
              "Name: Generated Recipe - Extended 1, Length: 778, dtype: object"
            ]
          },
          "metadata": {},
          "execution_count": 14
        }
      ]
    },
    {
      "cell_type": "code",
      "source": [
        "df4 = pd.read_csv(\"/content/drive/MyDrive/generated_012345678.csv\")"
      ],
      "metadata": {
        "id": "l9-Vp7t1Tt_2"
      },
      "execution_count": 11,
      "outputs": []
    },
    {
      "cell_type": "code",
      "source": [
        "df2 = pd.read_csv(\"/content/drive/MyDrive/your_file22.csv\")"
      ],
      "metadata": {
        "id": "dXhsX58ETzlr"
      },
      "execution_count": 12,
      "outputs": []
    },
    {
      "cell_type": "code",
      "source": [
        "df2['Generated Recipe - Baseline 1'] = df['Generated Recipe - Extended 1']"
      ],
      "metadata": {
        "id": "lXCEw6ZGUBF3"
      },
      "execution_count": 15,
      "outputs": []
    },
    {
      "cell_type": "code",
      "source": [
        "df3 = pd.read_csv(\"/content/drive/MyDrive/your_file3.csv\")"
      ],
      "metadata": {
        "id": "RZEAEFo3UUUB"
      },
      "execution_count": 17,
      "outputs": []
    },
    {
      "cell_type": "code",
      "source": [
        "df2['Generated Recipe - Extended 1'] = df3['Generated Recipe - Extended 1']"
      ],
      "metadata": {
        "id": "wt6_-T9BUQyi"
      },
      "execution_count": 19,
      "outputs": []
    },
    {
      "cell_type": "code",
      "source": [
        "df3 = pd.read_csv(\"/content/drive/MyDrive/your_file.csv\")"
      ],
      "metadata": {
        "id": "4X7FknuqUUdf"
      },
      "execution_count": 21,
      "outputs": []
    },
    {
      "cell_type": "code",
      "source": [
        "df2['Generated Recipe - Extended 2'] = df3['Generated Recipe - Extended 2']"
      ],
      "metadata": {
        "id": "RHHZv5Q0UUkl"
      },
      "execution_count": 23,
      "outputs": []
    },
    {
      "cell_type": "code",
      "source": [
        "df2"
      ],
      "metadata": {
        "colab": {
          "base_uri": "https://localhost:8080/",
          "height": 1000
        },
        "id": "QK0VMl8PVcDu",
        "outputId": "72ce2cb4-91f7-43ee-9cb5-8e6058475e1f"
      },
      "execution_count": 24,
      "outputs": [
        {
          "output_type": "execute_result",
          "data": {
            "text/plain": [
              "                                     Title  \\\n",
              "0                        coconut puddinpie   \n",
              "1           colombo curry paste martinique   \n",
              "2                 confetti zucchini relish   \n",
              "3              cook up an oriental hot pot   \n",
              "4                      cookies n creme pie   \n",
              "..                                     ...   \n",
              "773                         yakitori glaze   \n",
              "774          yeasted maple walnut pancakes   \n",
              "775                         yom tov poulet   \n",
              "776                     zesty corn muffins   \n",
              "777  zucchini waffles pimento-cheese sauce   \n",
              "\n",
              "                                      Categories        Servings  \\\n",
              "0                                 desserts\\tpies           1 pie   \n",
              "1                                      spice mix        1 /2 cup   \n",
              "2                         condiments\\tvegetables  16 half-pints.   \n",
              "3                      appetizers\\tbeef\\tchinese      4 servings   \n",
              "4                                 pies\\tdesserts           1 pie   \n",
              "..                                           ...             ...   \n",
              "773                                       sauces      1 servings   \n",
              "774                          breakfast\\tpancakes     12 servings   \n",
              "775            kosher\\tcajun\\tpoultry\\tmain dish      6 servings   \n",
              "776                                       breads      12 muffins   \n",
              "777  vegetarian\\tcheese/eggs\\tbreads\\tvegetables      4 servings   \n",
              "\n",
              "                                           Ingredients  \\\n",
              "0    2 tb soft butter 1 c sifted confectioners suga...   \n",
              "1    1 1/2 tb turmeric 1 1/2 tb coriander seeds 1 1...   \n",
              "2    10 c zucchini, chopped 4 c onion, chopped 5 tb...   \n",
              "3    1 lb raw shrimp, peeled and deveined 2 chicken...   \n",
              "4    1 7-oz. cookies 'n' creme bar or ookies 'n' cr...   \n",
              "..                                                 ...   \n",
              "773  stephen ceideburg 1/2 c sake 1/4 c mirin (swee...   \n",
              "774  1 env active dry yeast 1 c warm water 1 c warm...   \n",
              "775  1 5-6 lb. pullet 1 c concentrated tomato soup>...   \n",
              "776  3/4 c flour 1/4 c soy flour 1 c yellow cornmea...   \n",
              "777  1 1/4 c all-purpose flour 1 1/2 ts baking powd...   \n",
              "\n",
              "                         Generated Recipe - Baseline 1  \\\n",
              "0    combine flour baking soda salt pepper . add fl...   \n",
              "1    combine flour baking soda salt pepper . add fl...   \n",
              "2    combine flour baking soda salt pepper . add fl...   \n",
              "3    combine flour baking soda salt pepper . add fl...   \n",
              "4    combine flour baking soda salt pepper . add fl...   \n",
              "..                                                 ...   \n",
              "773  combine flour baking soda salt pepper . add fl...   \n",
              "774  combine flour baking soda salt pepper . add fl...   \n",
              "775  combine flour baking soda salt pepper . add fl...   \n",
              "776  combine flour baking soda salt pepper . add fl...   \n",
              "777  combine flour baking soda salt pepper . add fl...   \n",
              "\n",
              "                         Generated Recipe - Baseline 2  \\\n",
              "0                  preheat oven . bake minutes . <EOS>   \n",
              "1    heat oven roast pan . add garlic cloves garlic...   \n",
              "2    combine ingredients . pour greased x x x x inc...   \n",
              "3    heat oven . bake minutes . cool whip . bake mi...   \n",
              "4    combine flour sugar eggs sugar . pour melted b...   \n",
              "..                                                 ...   \n",
              "773  heat oven . add eggs one time beating addition...   \n",
              "774  heat oil pan . combine flour sugar . add eggs ...   \n",
              "775  heat margarine . add eggs one time beating wel...   \n",
              "776   combine ingredients bake degrees minutes . <EOS>   \n",
              "777  mix ingredients . bake minutes . cool whip cre...   \n",
              "\n",
              "                         Generated Recipe - Extended 1  \\\n",
              "0    bake degrees f . grease . add remaining ingred...   \n",
              "1    bake degrees f . grease . add remaining ingred...   \n",
              "2    bake degrees f . grease . add remaining ingred...   \n",
              "3    bake degrees f . grease . add remaining ingred...   \n",
              "4    bake degrees f . grease . add remaining ingred...   \n",
              "..                                                 ...   \n",
              "773  light fluffy . add remaining ingredients . add...   \n",
              "774  bake degrees f . grease . add remaining ingred...   \n",
              "775  bake degrees f . grease . add remaining ingred...   \n",
              "776  bake degrees f . grease . add remaining ingred...   \n",
              "777  bake degrees f . grease . add remaining ingred...   \n",
              "\n",
              "               Generated Recipe - Extended 2  \n",
              "0          combine ingredients . add . <EOS>  \n",
              "1    combine ingredients . add . add . <EOS>  \n",
              "2          combine ingredients . add . <EOS>  \n",
              "3    combine ingredients . add . add . <EOS>  \n",
              "4    combine ingredients . add . add . <EOS>  \n",
              "..                                       ...  \n",
              "773  combine ingredients . add . add . <EOS>  \n",
              "774  combine ingredients . add . add . <EOS>  \n",
              "775  combine ingredients . add . add . <EOS>  \n",
              "776        combine ingredients . add . <EOS>  \n",
              "777  combine ingredients . add . add . <EOS>  \n",
              "\n",
              "[778 rows x 8 columns]"
            ],
            "text/html": [
              "\n",
              "  <div id=\"df-dfd30c06-94f5-4a67-8278-82a757b3e2a9\" class=\"colab-df-container\">\n",
              "    <div>\n",
              "<style scoped>\n",
              "    .dataframe tbody tr th:only-of-type {\n",
              "        vertical-align: middle;\n",
              "    }\n",
              "\n",
              "    .dataframe tbody tr th {\n",
              "        vertical-align: top;\n",
              "    }\n",
              "\n",
              "    .dataframe thead th {\n",
              "        text-align: right;\n",
              "    }\n",
              "</style>\n",
              "<table border=\"1\" class=\"dataframe\">\n",
              "  <thead>\n",
              "    <tr style=\"text-align: right;\">\n",
              "      <th></th>\n",
              "      <th>Title</th>\n",
              "      <th>Categories</th>\n",
              "      <th>Servings</th>\n",
              "      <th>Ingredients</th>\n",
              "      <th>Generated Recipe - Baseline 1</th>\n",
              "      <th>Generated Recipe - Baseline 2</th>\n",
              "      <th>Generated Recipe - Extended 1</th>\n",
              "      <th>Generated Recipe - Extended 2</th>\n",
              "    </tr>\n",
              "  </thead>\n",
              "  <tbody>\n",
              "    <tr>\n",
              "      <th>0</th>\n",
              "      <td>coconut puddinpie</td>\n",
              "      <td>desserts\\tpies</td>\n",
              "      <td>1 pie</td>\n",
              "      <td>2 tb soft butter 1 c sifted confectioners suga...</td>\n",
              "      <td>combine flour baking soda salt pepper . add fl...</td>\n",
              "      <td>preheat oven . bake minutes . &lt;EOS&gt;</td>\n",
              "      <td>bake degrees f . grease . add remaining ingred...</td>\n",
              "      <td>combine ingredients . add . &lt;EOS&gt;</td>\n",
              "    </tr>\n",
              "    <tr>\n",
              "      <th>1</th>\n",
              "      <td>colombo curry paste martinique</td>\n",
              "      <td>spice mix</td>\n",
              "      <td>1 /2 cup</td>\n",
              "      <td>1 1/2 tb turmeric 1 1/2 tb coriander seeds 1 1...</td>\n",
              "      <td>combine flour baking soda salt pepper . add fl...</td>\n",
              "      <td>heat oven roast pan . add garlic cloves garlic...</td>\n",
              "      <td>bake degrees f . grease . add remaining ingred...</td>\n",
              "      <td>combine ingredients . add . add . &lt;EOS&gt;</td>\n",
              "    </tr>\n",
              "    <tr>\n",
              "      <th>2</th>\n",
              "      <td>confetti zucchini relish</td>\n",
              "      <td>condiments\\tvegetables</td>\n",
              "      <td>16 half-pints.</td>\n",
              "      <td>10 c zucchini, chopped 4 c onion, chopped 5 tb...</td>\n",
              "      <td>combine flour baking soda salt pepper . add fl...</td>\n",
              "      <td>combine ingredients . pour greased x x x x inc...</td>\n",
              "      <td>bake degrees f . grease . add remaining ingred...</td>\n",
              "      <td>combine ingredients . add . &lt;EOS&gt;</td>\n",
              "    </tr>\n",
              "    <tr>\n",
              "      <th>3</th>\n",
              "      <td>cook up an oriental hot pot</td>\n",
              "      <td>appetizers\\tbeef\\tchinese</td>\n",
              "      <td>4 servings</td>\n",
              "      <td>1 lb raw shrimp, peeled and deveined 2 chicken...</td>\n",
              "      <td>combine flour baking soda salt pepper . add fl...</td>\n",
              "      <td>heat oven . bake minutes . cool whip . bake mi...</td>\n",
              "      <td>bake degrees f . grease . add remaining ingred...</td>\n",
              "      <td>combine ingredients . add . add . &lt;EOS&gt;</td>\n",
              "    </tr>\n",
              "    <tr>\n",
              "      <th>4</th>\n",
              "      <td>cookies n creme pie</td>\n",
              "      <td>pies\\tdesserts</td>\n",
              "      <td>1 pie</td>\n",
              "      <td>1 7-oz. cookies 'n' creme bar or ookies 'n' cr...</td>\n",
              "      <td>combine flour baking soda salt pepper . add fl...</td>\n",
              "      <td>combine flour sugar eggs sugar . pour melted b...</td>\n",
              "      <td>bake degrees f . grease . add remaining ingred...</td>\n",
              "      <td>combine ingredients . add . add . &lt;EOS&gt;</td>\n",
              "    </tr>\n",
              "    <tr>\n",
              "      <th>...</th>\n",
              "      <td>...</td>\n",
              "      <td>...</td>\n",
              "      <td>...</td>\n",
              "      <td>...</td>\n",
              "      <td>...</td>\n",
              "      <td>...</td>\n",
              "      <td>...</td>\n",
              "      <td>...</td>\n",
              "    </tr>\n",
              "    <tr>\n",
              "      <th>773</th>\n",
              "      <td>yakitori glaze</td>\n",
              "      <td>sauces</td>\n",
              "      <td>1 servings</td>\n",
              "      <td>stephen ceideburg 1/2 c sake 1/4 c mirin (swee...</td>\n",
              "      <td>combine flour baking soda salt pepper . add fl...</td>\n",
              "      <td>heat oven . add eggs one time beating addition...</td>\n",
              "      <td>light fluffy . add remaining ingredients . add...</td>\n",
              "      <td>combine ingredients . add . add . &lt;EOS&gt;</td>\n",
              "    </tr>\n",
              "    <tr>\n",
              "      <th>774</th>\n",
              "      <td>yeasted maple walnut pancakes</td>\n",
              "      <td>breakfast\\tpancakes</td>\n",
              "      <td>12 servings</td>\n",
              "      <td>1 env active dry yeast 1 c warm water 1 c warm...</td>\n",
              "      <td>combine flour baking soda salt pepper . add fl...</td>\n",
              "      <td>heat oil pan . combine flour sugar . add eggs ...</td>\n",
              "      <td>bake degrees f . grease . add remaining ingred...</td>\n",
              "      <td>combine ingredients . add . add . &lt;EOS&gt;</td>\n",
              "    </tr>\n",
              "    <tr>\n",
              "      <th>775</th>\n",
              "      <td>yom tov poulet</td>\n",
              "      <td>kosher\\tcajun\\tpoultry\\tmain dish</td>\n",
              "      <td>6 servings</td>\n",
              "      <td>1 5-6 lb. pullet 1 c concentrated tomato soup&gt;...</td>\n",
              "      <td>combine flour baking soda salt pepper . add fl...</td>\n",
              "      <td>heat margarine . add eggs one time beating wel...</td>\n",
              "      <td>bake degrees f . grease . add remaining ingred...</td>\n",
              "      <td>combine ingredients . add . add . &lt;EOS&gt;</td>\n",
              "    </tr>\n",
              "    <tr>\n",
              "      <th>776</th>\n",
              "      <td>zesty corn muffins</td>\n",
              "      <td>breads</td>\n",
              "      <td>12 muffins</td>\n",
              "      <td>3/4 c flour 1/4 c soy flour 1 c yellow cornmea...</td>\n",
              "      <td>combine flour baking soda salt pepper . add fl...</td>\n",
              "      <td>combine ingredients bake degrees minutes . &lt;EOS&gt;</td>\n",
              "      <td>bake degrees f . grease . add remaining ingred...</td>\n",
              "      <td>combine ingredients . add . &lt;EOS&gt;</td>\n",
              "    </tr>\n",
              "    <tr>\n",
              "      <th>777</th>\n",
              "      <td>zucchini waffles pimento-cheese sauce</td>\n",
              "      <td>vegetarian\\tcheese/eggs\\tbreads\\tvegetables</td>\n",
              "      <td>4 servings</td>\n",
              "      <td>1 1/4 c all-purpose flour 1 1/2 ts baking powd...</td>\n",
              "      <td>combine flour baking soda salt pepper . add fl...</td>\n",
              "      <td>mix ingredients . bake minutes . cool whip cre...</td>\n",
              "      <td>bake degrees f . grease . add remaining ingred...</td>\n",
              "      <td>combine ingredients . add . add . &lt;EOS&gt;</td>\n",
              "    </tr>\n",
              "  </tbody>\n",
              "</table>\n",
              "<p>778 rows × 8 columns</p>\n",
              "</div>\n",
              "    <div class=\"colab-df-buttons\">\n",
              "\n",
              "  <div class=\"colab-df-container\">\n",
              "    <button class=\"colab-df-convert\" onclick=\"convertToInteractive('df-dfd30c06-94f5-4a67-8278-82a757b3e2a9')\"\n",
              "            title=\"Convert this dataframe to an interactive table.\"\n",
              "            style=\"display:none;\">\n",
              "\n",
              "  <svg xmlns=\"http://www.w3.org/2000/svg\" height=\"24px\" viewBox=\"0 -960 960 960\">\n",
              "    <path d=\"M120-120v-720h720v720H120Zm60-500h600v-160H180v160Zm220 220h160v-160H400v160Zm0 220h160v-160H400v160ZM180-400h160v-160H180v160Zm440 0h160v-160H620v160ZM180-180h160v-160H180v160Zm440 0h160v-160H620v160Z\"/>\n",
              "  </svg>\n",
              "    </button>\n",
              "\n",
              "  <style>\n",
              "    .colab-df-container {\n",
              "      display:flex;\n",
              "      gap: 12px;\n",
              "    }\n",
              "\n",
              "    .colab-df-convert {\n",
              "      background-color: #E8F0FE;\n",
              "      border: none;\n",
              "      border-radius: 50%;\n",
              "      cursor: pointer;\n",
              "      display: none;\n",
              "      fill: #1967D2;\n",
              "      height: 32px;\n",
              "      padding: 0 0 0 0;\n",
              "      width: 32px;\n",
              "    }\n",
              "\n",
              "    .colab-df-convert:hover {\n",
              "      background-color: #E2EBFA;\n",
              "      box-shadow: 0px 1px 2px rgba(60, 64, 67, 0.3), 0px 1px 3px 1px rgba(60, 64, 67, 0.15);\n",
              "      fill: #174EA6;\n",
              "    }\n",
              "\n",
              "    .colab-df-buttons div {\n",
              "      margin-bottom: 4px;\n",
              "    }\n",
              "\n",
              "    [theme=dark] .colab-df-convert {\n",
              "      background-color: #3B4455;\n",
              "      fill: #D2E3FC;\n",
              "    }\n",
              "\n",
              "    [theme=dark] .colab-df-convert:hover {\n",
              "      background-color: #434B5C;\n",
              "      box-shadow: 0px 1px 3px 1px rgba(0, 0, 0, 0.15);\n",
              "      filter: drop-shadow(0px 1px 2px rgba(0, 0, 0, 0.3));\n",
              "      fill: #FFFFFF;\n",
              "    }\n",
              "  </style>\n",
              "\n",
              "    <script>\n",
              "      const buttonEl =\n",
              "        document.querySelector('#df-dfd30c06-94f5-4a67-8278-82a757b3e2a9 button.colab-df-convert');\n",
              "      buttonEl.style.display =\n",
              "        google.colab.kernel.accessAllowed ? 'block' : 'none';\n",
              "\n",
              "      async function convertToInteractive(key) {\n",
              "        const element = document.querySelector('#df-dfd30c06-94f5-4a67-8278-82a757b3e2a9');\n",
              "        const dataTable =\n",
              "          await google.colab.kernel.invokeFunction('convertToInteractive',\n",
              "                                                    [key], {});\n",
              "        if (!dataTable) return;\n",
              "\n",
              "        const docLinkHtml = 'Like what you see? Visit the ' +\n",
              "          '<a target=\"_blank\" href=https://colab.research.google.com/notebooks/data_table.ipynb>data table notebook</a>'\n",
              "          + ' to learn more about interactive tables.';\n",
              "        element.innerHTML = '';\n",
              "        dataTable['output_type'] = 'display_data';\n",
              "        await google.colab.output.renderOutput(dataTable, element);\n",
              "        const docLink = document.createElement('div');\n",
              "        docLink.innerHTML = docLinkHtml;\n",
              "        element.appendChild(docLink);\n",
              "      }\n",
              "    </script>\n",
              "  </div>\n",
              "\n",
              "\n",
              "<div id=\"df-2c19e0fa-a83e-429b-909d-8774d54fbe91\">\n",
              "  <button class=\"colab-df-quickchart\" onclick=\"quickchart('df-2c19e0fa-a83e-429b-909d-8774d54fbe91')\"\n",
              "            title=\"Suggest charts\"\n",
              "            style=\"display:none;\">\n",
              "\n",
              "<svg xmlns=\"http://www.w3.org/2000/svg\" height=\"24px\"viewBox=\"0 0 24 24\"\n",
              "     width=\"24px\">\n",
              "    <g>\n",
              "        <path d=\"M19 3H5c-1.1 0-2 .9-2 2v14c0 1.1.9 2 2 2h14c1.1 0 2-.9 2-2V5c0-1.1-.9-2-2-2zM9 17H7v-7h2v7zm4 0h-2V7h2v10zm4 0h-2v-4h2v4z\"/>\n",
              "    </g>\n",
              "</svg>\n",
              "  </button>\n",
              "\n",
              "<style>\n",
              "  .colab-df-quickchart {\n",
              "      --bg-color: #E8F0FE;\n",
              "      --fill-color: #1967D2;\n",
              "      --hover-bg-color: #E2EBFA;\n",
              "      --hover-fill-color: #174EA6;\n",
              "      --disabled-fill-color: #AAA;\n",
              "      --disabled-bg-color: #DDD;\n",
              "  }\n",
              "\n",
              "  [theme=dark] .colab-df-quickchart {\n",
              "      --bg-color: #3B4455;\n",
              "      --fill-color: #D2E3FC;\n",
              "      --hover-bg-color: #434B5C;\n",
              "      --hover-fill-color: #FFFFFF;\n",
              "      --disabled-bg-color: #3B4455;\n",
              "      --disabled-fill-color: #666;\n",
              "  }\n",
              "\n",
              "  .colab-df-quickchart {\n",
              "    background-color: var(--bg-color);\n",
              "    border: none;\n",
              "    border-radius: 50%;\n",
              "    cursor: pointer;\n",
              "    display: none;\n",
              "    fill: var(--fill-color);\n",
              "    height: 32px;\n",
              "    padding: 0;\n",
              "    width: 32px;\n",
              "  }\n",
              "\n",
              "  .colab-df-quickchart:hover {\n",
              "    background-color: var(--hover-bg-color);\n",
              "    box-shadow: 0 1px 2px rgba(60, 64, 67, 0.3), 0 1px 3px 1px rgba(60, 64, 67, 0.15);\n",
              "    fill: var(--button-hover-fill-color);\n",
              "  }\n",
              "\n",
              "  .colab-df-quickchart-complete:disabled,\n",
              "  .colab-df-quickchart-complete:disabled:hover {\n",
              "    background-color: var(--disabled-bg-color);\n",
              "    fill: var(--disabled-fill-color);\n",
              "    box-shadow: none;\n",
              "  }\n",
              "\n",
              "  .colab-df-spinner {\n",
              "    border: 2px solid var(--fill-color);\n",
              "    border-color: transparent;\n",
              "    border-bottom-color: var(--fill-color);\n",
              "    animation:\n",
              "      spin 1s steps(1) infinite;\n",
              "  }\n",
              "\n",
              "  @keyframes spin {\n",
              "    0% {\n",
              "      border-color: transparent;\n",
              "      border-bottom-color: var(--fill-color);\n",
              "      border-left-color: var(--fill-color);\n",
              "    }\n",
              "    20% {\n",
              "      border-color: transparent;\n",
              "      border-left-color: var(--fill-color);\n",
              "      border-top-color: var(--fill-color);\n",
              "    }\n",
              "    30% {\n",
              "      border-color: transparent;\n",
              "      border-left-color: var(--fill-color);\n",
              "      border-top-color: var(--fill-color);\n",
              "      border-right-color: var(--fill-color);\n",
              "    }\n",
              "    40% {\n",
              "      border-color: transparent;\n",
              "      border-right-color: var(--fill-color);\n",
              "      border-top-color: var(--fill-color);\n",
              "    }\n",
              "    60% {\n",
              "      border-color: transparent;\n",
              "      border-right-color: var(--fill-color);\n",
              "    }\n",
              "    80% {\n",
              "      border-color: transparent;\n",
              "      border-right-color: var(--fill-color);\n",
              "      border-bottom-color: var(--fill-color);\n",
              "    }\n",
              "    90% {\n",
              "      border-color: transparent;\n",
              "      border-bottom-color: var(--fill-color);\n",
              "    }\n",
              "  }\n",
              "</style>\n",
              "\n",
              "  <script>\n",
              "    async function quickchart(key) {\n",
              "      const quickchartButtonEl =\n",
              "        document.querySelector('#' + key + ' button');\n",
              "      quickchartButtonEl.disabled = true;  // To prevent multiple clicks.\n",
              "      quickchartButtonEl.classList.add('colab-df-spinner');\n",
              "      try {\n",
              "        const charts = await google.colab.kernel.invokeFunction(\n",
              "            'suggestCharts', [key], {});\n",
              "      } catch (error) {\n",
              "        console.error('Error during call to suggestCharts:', error);\n",
              "      }\n",
              "      quickchartButtonEl.classList.remove('colab-df-spinner');\n",
              "      quickchartButtonEl.classList.add('colab-df-quickchart-complete');\n",
              "    }\n",
              "    (() => {\n",
              "      let quickchartButtonEl =\n",
              "        document.querySelector('#df-2c19e0fa-a83e-429b-909d-8774d54fbe91 button');\n",
              "      quickchartButtonEl.style.display =\n",
              "        google.colab.kernel.accessAllowed ? 'block' : 'none';\n",
              "    })();\n",
              "  </script>\n",
              "</div>\n",
              "\n",
              "  <div id=\"id_dbc1d287-b05d-49ad-92e7-c1736203a99a\">\n",
              "    <style>\n",
              "      .colab-df-generate {\n",
              "        background-color: #E8F0FE;\n",
              "        border: none;\n",
              "        border-radius: 50%;\n",
              "        cursor: pointer;\n",
              "        display: none;\n",
              "        fill: #1967D2;\n",
              "        height: 32px;\n",
              "        padding: 0 0 0 0;\n",
              "        width: 32px;\n",
              "      }\n",
              "\n",
              "      .colab-df-generate:hover {\n",
              "        background-color: #E2EBFA;\n",
              "        box-shadow: 0px 1px 2px rgba(60, 64, 67, 0.3), 0px 1px 3px 1px rgba(60, 64, 67, 0.15);\n",
              "        fill: #174EA6;\n",
              "      }\n",
              "\n",
              "      [theme=dark] .colab-df-generate {\n",
              "        background-color: #3B4455;\n",
              "        fill: #D2E3FC;\n",
              "      }\n",
              "\n",
              "      [theme=dark] .colab-df-generate:hover {\n",
              "        background-color: #434B5C;\n",
              "        box-shadow: 0px 1px 3px 1px rgba(0, 0, 0, 0.15);\n",
              "        filter: drop-shadow(0px 1px 2px rgba(0, 0, 0, 0.3));\n",
              "        fill: #FFFFFF;\n",
              "      }\n",
              "    </style>\n",
              "    <button class=\"colab-df-generate\" onclick=\"generateWithVariable('df2')\"\n",
              "            title=\"Generate code using this dataframe.\"\n",
              "            style=\"display:none;\">\n",
              "\n",
              "  <svg xmlns=\"http://www.w3.org/2000/svg\" height=\"24px\"viewBox=\"0 0 24 24\"\n",
              "       width=\"24px\">\n",
              "    <path d=\"M7,19H8.4L18.45,9,17,7.55,7,17.6ZM5,21V16.75L18.45,3.32a2,2,0,0,1,2.83,0l1.4,1.43a1.91,1.91,0,0,1,.58,1.4,1.91,1.91,0,0,1-.58,1.4L9.25,21ZM18.45,9,17,7.55Zm-12,3A5.31,5.31,0,0,0,4.9,8.1,5.31,5.31,0,0,0,1,6.5,5.31,5.31,0,0,0,4.9,4.9,5.31,5.31,0,0,0,6.5,1,5.31,5.31,0,0,0,8.1,4.9,5.31,5.31,0,0,0,12,6.5,5.46,5.46,0,0,0,6.5,12Z\"/>\n",
              "  </svg>\n",
              "    </button>\n",
              "    <script>\n",
              "      (() => {\n",
              "      const buttonEl =\n",
              "        document.querySelector('#id_dbc1d287-b05d-49ad-92e7-c1736203a99a button.colab-df-generate');\n",
              "      buttonEl.style.display =\n",
              "        google.colab.kernel.accessAllowed ? 'block' : 'none';\n",
              "\n",
              "      buttonEl.onclick = () => {\n",
              "        google.colab.notebook.generateWithVariable('df2');\n",
              "      }\n",
              "      })();\n",
              "    </script>\n",
              "  </div>\n",
              "\n",
              "    </div>\n",
              "  </div>\n"
            ],
            "application/vnd.google.colaboratory.intrinsic+json": {
              "type": "dataframe",
              "variable_name": "df2",
              "summary": "{\n  \"name\": \"df2\",\n  \"rows\": 778,\n  \"fields\": [\n    {\n      \"column\": \"Title\",\n      \"properties\": {\n        \"dtype\": \"string\",\n        \"num_unique_values\": 778,\n        \"samples\": [\n          \"spicy rainbow slaw\",\n          \"cajun spiced chicken\",\n          \"tandoori shrimp\"\n        ],\n        \"semantic_type\": \"\",\n        \"description\": \"\"\n      }\n    },\n    {\n      \"column\": \"Categories\",\n      \"properties\": {\n        \"dtype\": \"string\",\n        \"num_unique_values\": 560,\n        \"samples\": [\n          \"cakes\\tdesserts\\tcheesecakes\",\n          \"meats\\tbeef\",\n          \"bohemian\\tbreads\\tside dish\"\n        ],\n        \"semantic_type\": \"\",\n        \"description\": \"\"\n      }\n    },\n    {\n      \"column\": \"Servings\",\n      \"properties\": {\n        \"dtype\": \"category\",\n        \"num_unique_values\": 120,\n        \"samples\": [\n          \"1 loaf\",\n          \"3 cups\",\n          \"10 servings\"\n        ],\n        \"semantic_type\": \"\",\n        \"description\": \"\"\n      }\n    },\n    {\n      \"column\": \"Ingredients\",\n      \"properties\": {\n        \"dtype\": \"string\",\n        \"num_unique_values\": 778,\n        \"samples\": [\n          \"4 c thinly sliced green cabbage 1 pt cherry tomatoes, quartered 1 green pepper, thinly sliced 1 sm red onion, thinly sliced 2 lg carrots, thinly julienned 2 tb salt 1 c cider vinegar 1/3 c apple juice concentrate 1 ts celery seed 1/2 ts turmeric 1/4 ts allspice 1/4 ts cinnamon 1/4 ts ginger 1/4 ts cloves 1/4 ts cayenne\",\n          \"1 c vegetable juice cocktail 2 tb red wine vinegar 2 ts hot sauce 1/2 ts oregano 1 cl garlic 4 skinned drumsticks (1 /2 lb.) 2 tb chopped celery 2 tb diced green bell pepper 2 tb chopped onion 1 tb cornstarch 4 c hot, cooked regular rice\",\n          \"1 c plain yogurt 1 ts garlic powder 1 ts red chili powder 1 ts vegetable oil 2 lb fresh shrimp, cleaned and deveined 1 c lemon juice\"\n        ],\n        \"semantic_type\": \"\",\n        \"description\": \"\"\n      }\n    },\n    {\n      \"column\": \"Generated Recipe - Baseline 1\",\n      \"properties\": {\n        \"dtype\": \"category\",\n        \"num_unique_values\": 7,\n        \"samples\": [\n          \"combine flour baking soda salt pepper . add flour baking soda salt pepper . add flour baking soda salt pepper . add flour baking soda salt pepper . add flour baking soda salt pepper . add flour baking soda salt pepper . add flour baking soda salt pepper . add flour baking soda salt pepper . add flour baking soda salt pepper . add flour baking soda salt pepper . add flour baking soda salt pepper . add flour baking soda salt pepper . add flour baking soda salt pepper . add flour baking soda salt pepper . add flour baking soda salt pepper . add flour baking soda salt pepper . add flour baking soda salt pepper . add flour baking soda salt pepper . add flour baking soda salt pepper . add flour baking soda salt pepper . add flour baking soda salt pepper . add flour baking\",\n          \"biscuits . add flour baking soda salt pepper . add flour baking soda salt pepper . add flour baking soda salt pepper . add flour baking soda salt pepper . add flour baking soda salt pepper . add flour baking soda salt pepper . add flour baking soda salt pepper . add flour baking soda salt pepper . add flour baking soda salt pepper . add flour baking soda salt pepper . add flour baking soda salt pepper . add flour baking soda salt pepper . add flour baking soda salt pepper . add flour baking soda salt pepper . add flour baking soda salt pepper . add flour baking soda salt pepper . add flour baking soda salt pepper . add flour baking soda salt pepper . add flour baking soda salt pepper . add flour baking soda salt pepper . add flour baking soda salt pepper . add\",\n          \"company patties . add flour baking soda salt pepper . add flour baking soda salt pepper . add flour baking soda salt pepper . add flour baking soda salt pepper . add flour baking soda salt pepper . add flour baking soda salt pepper . add flour baking soda salt pepper . add flour baking soda salt pepper . add flour baking soda salt pepper . add flour baking soda salt pepper . add flour baking soda salt pepper . add flour baking soda salt pepper . add flour baking soda salt pepper . add flour baking soda salt pepper . add flour baking soda salt pepper . add flour baking soda salt pepper . add flour baking soda salt pepper . add flour baking soda salt pepper . add flour baking soda salt pepper . add flour baking soda salt pepper . add flour baking soda salt pepper .\"\n        ],\n        \"semantic_type\": \"\",\n        \"description\": \"\"\n      }\n    },\n    {\n      \"column\": \"Generated Recipe - Baseline 2\",\n      \"properties\": {\n        \"dtype\": \"string\",\n        \"num_unique_values\": 654,\n        \"samples\": [\n          \"heat oven . add eggs one time beating well addition . add eggs one time beating well . add eggs one time beating well . add eggs one time beating addition . <EOS>\",\n          \"mix flour . bake minutes . cool . immediately . immediately . bake minutes . cool room temperature . bake minutes . cool . immediately . immediately . immediately turn oven immediately . bake minutes . cool room temperature . bake minutes . cool . immediately turn oven bake minutes . cool . immediately . immediately . bake minutes . cool . immediately . immediately . immediately turn oven immediately . bake minutes . <EOS>\",\n          \"heat oil large pot . add eggs one time beating well . add eggs one time beating well addition . add eggs one time beating well . <EOS>\"\n        ],\n        \"semantic_type\": \"\",\n        \"description\": \"\"\n      }\n    },\n    {\n      \"column\": \"Generated Recipe - Extended 1\",\n      \"properties\": {\n        \"dtype\": \"category\",\n        \"num_unique_values\": 58,\n        \"samples\": [\n          \"bake degrees f . grease . add remaining ingredients . add remaining ingredients . add remaining ingredients . add remaining ingredients . add remaining ingredients . add remaining ingredients . add remaining ingredients . add remaining ingredients . add remaining . <EOS>\",\n          \"bake degrees f . grease . add remaining ingredients . add remaining ingredients . add remaining ingredients . add remaining . <EOS>\",\n          \"coursely yeast . add remaining ingredients . add remaining ingredients . add remaining ingredients . add remaining ingredients . add remaining ingredients . add remaining ingredients . add remaining . <EOS>\"\n        ],\n        \"semantic_type\": \"\",\n        \"description\": \"\"\n      }\n    },\n    {\n      \"column\": \"Generated Recipe - Extended 2\",\n      \"properties\": {\n        \"dtype\": \"category\",\n        \"num_unique_values\": 14,\n        \"samples\": [\n          \". add . <EOS>\",\n          \"heat heat heat heat heat heat heat heat heat heat heat heat heat heat heat heat heat heat heat heat heat heat heat heat heat heat heat heat heat heat heat heat heat heat heat heat heat heat heat heat heat heat heat heat heat heat heat heat heat heat heat heat heat heat heat heat heat heat heat heat heat heat heat heat heat heat heat heat heat heat heat heat heat heat heat heat heat heat heat heat heat heat heat heat heat heat heat heat heat heat heat heat heat heat heat heat heat heat heat heat heat heat heat heat heat heat heat heat heat heat heat heat heat heat heat heat heat heat heat heat heat heat heat heat heat heat heat heat heat heat heat heat heat heat heat heat heat heat heat heat heat heat heat heat heat heat heat heat heat heat\",\n          \"combine ingredients . add . <EOS>\"\n        ],\n        \"semantic_type\": \"\",\n        \"description\": \"\"\n      }\n    }\n  ]\n}"
            }
          },
          "metadata": {},
          "execution_count": 24
        }
      ]
    },
    {
      "cell_type": "code",
      "source": [
        "file_path = '/content/drive/My Drive/generated_31339646.csv'\n",
        "df2.to_csv(file_path, index=False)"
      ],
      "metadata": {
        "id": "ElQEhSbtVsJI"
      },
      "execution_count": 25,
      "outputs": []
    }
  ],
  "metadata": {
    "colab": {
      "provenance": [],
      "gpuType": "T4"
    },
    "kernelspec": {
      "display_name": "Python 3",
      "name": "python3"
    },
    "language_info": {
      "name": "python"
    },
    "accelerator": "GPU"
  },
  "nbformat": 4,
  "nbformat_minor": 0
}