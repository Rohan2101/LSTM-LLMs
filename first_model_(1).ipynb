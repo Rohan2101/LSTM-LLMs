{
  "cells": [
    {
      "cell_type": "code",
      "execution_count": null,
      "metadata": {
        "colab": {
          "base_uri": "https://localhost:8080/"
        },
        "id": "bF5F5hvjspLp",
        "outputId": "959137a4-9c0c-4eea-f316-2d25e87211e5"
      },
      "outputs": [
        {
          "name": "stdout",
          "output_type": "stream",
          "text": [
            "Mounted at /content/drive\n"
          ]
        }
      ],
      "source": [
        "from google.colab import drive\n",
        "drive.mount('/content/drive')"
      ]
    },
    {
      "cell_type": "code",
      "execution_count": null,
      "metadata": {
        "colab": {
          "base_uri": "https://localhost:8080/"
        },
        "id": "CCE0_bX9T5J2",
        "outputId": "123307fb-7070-4408-e6dc-1b5326b62d9a"
      },
      "outputs": [
        {
          "name": "stderr",
          "output_type": "stream",
          "text": [
            "[nltk_data] Downloading package punkt to /root/nltk_data...\n",
            "[nltk_data]   Unzipping tokenizers/punkt.zip.\n",
            "[nltk_data] Downloading package wordnet to /root/nltk_data...\n",
            "[nltk_data] Downloading package stopwords to /root/nltk_data...\n",
            "[nltk_data]   Unzipping corpora/stopwords.zip.\n"
          ]
        }
      ],
      "source": [
        "import nltk\n",
        "nltk.download('punkt')\n",
        "nltk.download('wordnet')\n",
        "from nltk.corpus import stopwords\n",
        "\n",
        "# Download the stop words from NLTK\n",
        "nltk.download('stopwords')\n",
        "stop_words = set(stopwords.words('english'))"
      ]
    },
    {
      "cell_type": "code",
      "execution_count": null,
      "metadata": {
        "id": "F7mJG2Yk7d3o"
      },
      "outputs": [],
      "source": [
        "import pandas as pd\n",
        "from nltk.corpus import stopwords\n",
        "from nltk.tokenize import word_tokenize\n",
        "\n",
        "def remove_stop_words(text):\n",
        "    stop_words = set(stopwords.words('english'))\n",
        "    word_tokens = word_tokenize(text)\n",
        "    filtered_text = ' '.join([word for word in word_tokens if word.lower() not in stop_words])\n",
        "    return filtered_text\n",
        "df = pd.read_csv(\"/content/drive/MyDrive/train.csv\")\n",
        "df = df.sample(frac=1).reset_index(drop=True)\n",
        "df = df[0:5000]\n",
        "for x in range(len(df['Recipe'])):\n",
        "    if type(df['Recipe'][x]) != str:\n",
        "        df['Recipe'][x] = ''\n",
        "df2 = pd.read_csv(\"/content/drive/MyDrive/dev.csv\")\n",
        "for x in range(len(df2['Recipe'])):\n",
        "    if type(df2['Recipe'][x]) != str:\n",
        "        df2['Recipe'][x] = ''\n",
        "# Apply the function to the DataFrame columns\n",
        "df['Ingredients'] = df['Ingredients'].apply(remove_stop_words)\n",
        "df['Recipe'] = df['Recipe'].apply(remove_stop_words)\n",
        "df2['Ingredients'] = df2['Ingredients'].apply(remove_stop_words)\n",
        "df2['Recipe'] = df2['Recipe'].apply(remove_stop_words)"
      ]
    },
    {
      "cell_type": "code",
      "execution_count": null,
      "metadata": {
        "colab": {
          "base_uri": "https://localhost:8080/"
        },
        "id": "QYxvRzD7DvfN",
        "outputId": "4a37c46a-77f1-420e-fe55-b4cfb7f875a9"
      },
      "outputs": [
        {
          "name": "stdout",
          "output_type": "stream",
          "text": [
            "Maximum length of strings in 'Ingredients' column: 150\n",
            "Reading lines...\n",
            "Read 5000 sentence pairs\n",
            "Trimmed to 4760 sentence pairs\n",
            "Counting words...\n",
            "Counted words:\n",
            "fra 4367\n",
            "eng 8199\n",
            "[' c margarine butter md onion chopped lg green pepper chopped garlic clove minced pk diced pimientos oz ts salt ts pepper cn rotel diced tomatoes green chilies oz lb shrimp shelled deveined cooked rice', 'large skillet melt margarine saute onion pepper garlic tender . simmer minutes . add shrimp cook done minutes stirring occasionally . serve cooked rice .']\n",
            "Reading lines...\n",
            "Read 797 sentence pairs\n",
            "Trimmed to 764 sentence pairs\n",
            "Counting words...\n",
            "Counted words:\n",
            "fra 1891\n",
            "eng 3506\n",
            "['makes tb sweet butter tb active dry yeast ea eggs separated c warm milk c heavy cream c sugar ts grated lemon rind c white flour preferably ts mace unbleached ts salt ea egg yolk mixed tbsp cream plum apricot raspberry jam', 'make sponge small bowl dissolving yeast warm milk stirring tablespoons sugar flour . let sit covered minutes . medium size bowl cream butter slowly beat remaining sugar smooth . stir egg yolks cream lemon rind mace salt sponge remaining flour . beat strokes . separate bowl beat egg whites stiff mix dough cutting batter spatula folding whites best cover bowl plastic wrap place bowl warm water . let rise hour . spatula cut dough break . using well floured fingers pull pieces dough size ping pong balls slap onto floured surface pat gently always well floured fingers make rough circles place inches apart greased baking sheets . paint tops egg glaze . make indentation back floured spoon center round fill teaspoonful jam . let rise minutes warmish place . bake preheated f oven minutes . serve warm .']\n"
          ]
        }
      ],
      "source": [
        "import pandas as pd\n",
        "import re\n",
        "import unicodedata\n",
        "import random\n",
        "import torch\n",
        "\n",
        "\n",
        "file_path = \"\"\n",
        "\n",
        "# MAX_LENGTH = df['Ingredients'].str.len().max()\n",
        "MAX_LENGTH = 150\n",
        "print(\"Maximum length of strings in 'Ingredients' column:\", MAX_LENGTH)\n",
        "with open(\"eng-fra.txt\", \"w\") as file:\n",
        "    for index, row in df.iterrows():\n",
        "        file.write(f\"{row['Recipe']}:::{row['Ingredients']}\\n\")\n",
        "\n",
        "SOS_token = 0\n",
        "EOS_token = 1\n",
        "UNK_token = 2\n",
        "\n",
        "class Lang:\n",
        "    def __init__(self, name):\n",
        "        self.name = name\n",
        "        self.word2index = {}\n",
        "        self.word2count = {}\n",
        "        self.index2word = {0: \"SOS\", 1: \"EOS\", 2: \"UNK\"}\n",
        "        self.n_words = 3  # Count SOS, EOS, and UNK\n",
        "\n",
        "    def addSentence(self, sentence):\n",
        "        for word in sentence.split(' '):\n",
        "            self.addWord(word)\n",
        "\n",
        "    def addWord(self, word):\n",
        "        if word not in self.word2index:\n",
        "            self.word2index[word] = self.n_words\n",
        "            self.word2count[word] = 1\n",
        "            self.index2word[self.n_words] = word\n",
        "            self.n_words += 1\n",
        "        else:\n",
        "            self.word2count[word] += 1\n",
        "\n",
        "def unicodeToAscii(s):\n",
        "    return ''.join(\n",
        "        c for c in unicodedata.normalize('NFD', s)\n",
        "        if unicodedata.category(c) != 'Mn'\n",
        "    )\n",
        "\n",
        "def normalizeString(s):\n",
        "    s = unicodeToAscii(s.lower().strip())\n",
        "    s = re.sub(r\"([.!?])\", r\" \\1\", s)\n",
        "    s = re.sub(r\"[^a-zA-Z.!?]+\", r\" \", s)\n",
        "    return s\n",
        "\n",
        "def readLangs(lang1, lang2, reverse=False):\n",
        "    print(\"Reading lines...\")\n",
        "\n",
        "    # Read the file and split into lines\n",
        "    file_name = file_path + 'eng-fra.txt'\n",
        "    lines = open(file_name, encoding='utf-8').\\\n",
        "        read().strip().split('\\n')\n",
        "\n",
        "    # Split every line into pairs and normalize\n",
        "    pairs = [[normalizeString(s) for s in l.split(':::')] for l in lines]\n",
        "\n",
        "    # Reverse pairs, make Lang instances\n",
        "    if reverse:\n",
        "        pairs = [list(reversed(p)) for p in pairs]\n",
        "        input_lang = Lang(lang2)\n",
        "        output_lang = Lang(lang1)\n",
        "    else:\n",
        "        input_lang = Lang(lang1)\n",
        "        output_lang = Lang(lang2)\n",
        "\n",
        "    return input_lang, output_lang, pairs\n",
        "\n",
        "def filterPair(p):\n",
        "    return len(p[0].split(' ')) < MAX_LENGTH and \\\n",
        "        len(p[1].split(' ')) < MAX_LENGTH\n",
        "\n",
        "def filterPairs(pairs):\n",
        "    return [pair for pair in pairs if filterPair(pair)]\n",
        "\n",
        "def prepareData(lang1, lang2, reverse=False):\n",
        "    input_lang, output_lang, pairs = readLangs(lang1, lang2, reverse)\n",
        "    print(\"Read %s sentence pairs\" % len(pairs))\n",
        "    pairs = filterPairs(pairs)\n",
        "    print(\"Trimmed to %s sentence pairs\" % len(pairs))\n",
        "    print(\"Counting words...\")\n",
        "    for pair in pairs:\n",
        "        input_lang.addSentence(pair[0])\n",
        "        output_lang.addSentence(pair[1])\n",
        "    print(\"Counted words:\")\n",
        "    print(input_lang.name, input_lang.n_words)\n",
        "    print(output_lang.name, output_lang.n_words)\n",
        "    return input_lang, output_lang, pairs\n",
        "\n",
        "input_lang, output_lang, pairs = prepareData('eng', 'fra', True)\n",
        "print(random.choice(pairs))\n",
        "\n",
        "def indexesFromSentence(lang, sentence):\n",
        "    return [lang.word2index.get(word, UNK_token) for word in sentence.split(' ')]\n",
        "\n",
        "def tensorFromSentence(lang, sentence):\n",
        "    indexes = indexesFromSentence(lang, sentence)\n",
        "    indexes.append(EOS_token)\n",
        "    return torch.tensor(indexes, dtype=torch.long, device=device).view(-1, 1)\n",
        "\n",
        "def tensorsFromPair(pair):\n",
        "    input_tensor = tensorFromSentence(input_lang, pair[0])\n",
        "    target_tensor = tensorFromSentence(output_lang, pair[1])\n",
        "    return (input_tensor, target_tensor)\n",
        "\n",
        "with open(\"eng-fra2.txt\", \"w\") as file:\n",
        "    for index, row in df2.iterrows():\n",
        "        file.write(f\"{row['Recipe']}:::{row['Ingredients']}\\n\")\n",
        "\n",
        "def readLangs(lang1, lang2, reverse=False):\n",
        "    print(\"Reading lines...\")\n",
        "\n",
        "    # Read the file and split into lines\n",
        "    file_name = file_path + 'eng-fra2.txt'\n",
        "    lines = open(file_name, encoding='utf-8').\\\n",
        "        read().strip().split('\\n')\n",
        "\n",
        "    # Split every line into pairs and normalize\n",
        "    pairs = [[normalizeString(s) for s in l.split(':::')] for l in lines]\n",
        "\n",
        "    # Reverse pairs, make Lang instances\n",
        "    if reverse:\n",
        "        pairs = [list(reversed(p)) for p in pairs]\n",
        "        input_lang = Lang(lang2)\n",
        "        output_lang = Lang(lang1)\n",
        "    else:\n",
        "        input_lang = Lang(lang1)\n",
        "        output_lang = Lang(lang2)\n",
        "\n",
        "    return input_lang, output_lang, pairs\n",
        "\n",
        "dev_input_lang, dev_output_lang, dev_pairs = prepareData('eng', 'fra', True)\n",
        "print(random.choice(dev_pairs))\n"
      ]
    },
    {
      "cell_type": "code",
      "execution_count": null,
      "metadata": {
        "id": "0EejFdoCtZcg"
      },
      "outputs": [],
      "source": [
        "from __future__ import unicode_literals, print_function, division\n",
        "from io import open\n",
        "import unicodedata\n",
        "import string\n",
        "import re\n",
        "import random\n",
        "\n",
        "import torch\n",
        "import torch.nn as nn\n",
        "from torch import optim\n",
        "import torch.nn.functional as F\n",
        "\n",
        "device = torch.device(\"cuda\" if torch.cuda.is_available() else \"cpu\")"
      ]
    },
    {
      "cell_type": "code",
      "execution_count": null,
      "metadata": {
        "id": "blTvcCVKuHrR"
      },
      "outputs": [],
      "source": [
        "import torch\n",
        "import torch.nn as nn\n",
        "\n",
        "class EncoderRNN(nn.Module):\n",
        "    def __init__(self, input_size, hidden_size):\n",
        "        super(EncoderRNN, self).__init__()\n",
        "        self.hidden_size = hidden_size\n",
        "\n",
        "        self.embedding = nn.Embedding(input_size, hidden_size)\n",
        "        self.lstm = nn.LSTM(hidden_size, hidden_size)\n",
        "\n",
        "    def forward(self, input, hidden):\n",
        "        embedded = self.embedding(input).view(1, 1, -1)\n",
        "        output = embedded\n",
        "        output, hidden = self.lstm(output, hidden)\n",
        "        return output, hidden\n",
        "\n",
        "    def initHidden(self):\n",
        "        return torch.zeros(1, 1, self.hidden_size, device=device), torch.zeros(1, 1, self.hidden_size, device=device)"
      ]
    },
    {
      "cell_type": "code",
      "execution_count": null,
      "metadata": {
        "id": "6PpJ549duH0o"
      },
      "outputs": [],
      "source": [
        "class DecoderRNN(nn.Module):\n",
        "    def __init__(self, hidden_size, output_size):\n",
        "        super(DecoderRNN, self).__init__()\n",
        "        self.hidden_size = hidden_size\n",
        "\n",
        "        self.embedding = nn.Embedding(output_size, hidden_size)\n",
        "        self.lstm = nn.LSTM(hidden_size, hidden_size)\n",
        "        self.out = nn.Linear(hidden_size, output_size)\n",
        "        self.softmax = nn.LogSoftmax(dim=1)\n",
        "\n",
        "    def forward(self, input, hidden):\n",
        "        output = self.embedding(input).view(1, 1, -1)\n",
        "        output = F.relu(output)\n",
        "        output, hidden = self.lstm(output, hidden)\n",
        "        output = self.softmax(self.out(output[0]))\n",
        "        return output, hidden\n",
        "\n",
        "    def initHidden(self):\n",
        "        return torch.zeros(1, 1, self.hidden_size, device=device), torch.zeros(1, 1, self.hidden_size, device=device)"
      ]
    },
    {
      "cell_type": "code",
      "execution_count": null,
      "metadata": {
        "id": "P3AXLS4nuH4i"
      },
      "outputs": [],
      "source": [
        "teacher_forcing_ratio = 1\n",
        "def train(input_tensor, target_tensor, encoder, decoder, encoder_optimizer, decoder_optimizer, criterion, max_length=MAX_LENGTH):\n",
        "    encoder_hidden = encoder.initHidden()\n",
        "\n",
        "    encoder_optimizer.zero_grad()\n",
        "    decoder_optimizer.zero_grad()\n",
        "\n",
        "    input_length = input_tensor.size(0)\n",
        "    target_length = target_tensor.size(0)\n",
        "\n",
        "    encoder_outputs = torch.zeros(max_length, encoder.hidden_size, device=device)\n",
        "\n",
        "    loss = 0\n",
        "\n",
        "    for ei in range(input_length):\n",
        "        encoder_output, encoder_hidden = encoder(\n",
        "            input_tensor[ei], encoder_hidden)\n",
        "        encoder_outputs[ei] = encoder_output[0, 0]\n",
        "\n",
        "    decoder_input = torch.tensor([[SOS_token]], device=device)\n",
        "\n",
        "    decoder_hidden = encoder_hidden\n",
        "\n",
        "    use_teacher_forcing = True if random.random() < teacher_forcing_ratio else False\n",
        "\n",
        "    if use_teacher_forcing:\n",
        "        # Teacher forcing: Feed the target as the next input\n",
        "        for di in range(target_length):\n",
        "            decoder_output, decoder_hidden = decoder(\n",
        "                decoder_input, decoder_hidden)\n",
        "            loss += criterion(decoder_output, target_tensor[di])\n",
        "            decoder_input = target_tensor[di]  # Teacher forcing\n",
        "\n",
        "    else:\n",
        "        # Without teacher forcing: use its own predictions as the next input\n",
        "        for di in range(target_length):\n",
        "            decoder_output, decoder_hidden = decoder(\n",
        "                decoder_input, decoder_hidden)\n",
        "            topv, topi = decoder_output.topk(1)\n",
        "            decoder_input = topi.squeeze().detach()  # detach from history as input\n",
        "\n",
        "            loss += criterion(decoder_output, target_tensor[di])\n",
        "            if decoder_input.item() == EOS_token:\n",
        "                break\n",
        "    loss.backward()\n",
        "    encoder_optimizer.step()\n",
        "    decoder_optimizer.step()\n",
        "\n",
        "    return loss.item() / target_length"
      ]
    },
    {
      "cell_type": "code",
      "execution_count": null,
      "metadata": {
        "id": "dO7VnhhJukxH"
      },
      "outputs": [],
      "source": [
        "import time\n",
        "import math\n",
        "\n",
        "\n",
        "def asMinutes(s):\n",
        "    m = math.floor(s / 60)\n",
        "    s -= m * 60\n",
        "    return '%dm %ds' % (m, s)\n",
        "\n",
        "\n",
        "def timeSince(since, percent):\n",
        "    now = time.time()\n",
        "    s = now - since\n",
        "    es = s / (percent)\n",
        "    rs = es - s\n",
        "    return '%s (- %s)' % (asMinutes(s), asMinutes(rs))"
      ]
    },
    {
      "cell_type": "code",
      "execution_count": null,
      "metadata": {
        "id": "wzjfF7M5uk1Q"
      },
      "outputs": [],
      "source": [
        "def trainIters(encoder, decoder, n_iters, print_every=1000, plot_every=100, learning_rate=0.01):\n",
        "    start = time.time()\n",
        "    plot_losses = []\n",
        "    print_loss_total = 0  # Reset every print_every\n",
        "    plot_loss_total = 0  # Reset every plot_every\n",
        "\n",
        "    encoder_optimizer = optim.Adam(encoder.parameters(), lr=learning_rate)\n",
        "    decoder_optimizer = optim.Adam(decoder.parameters(), lr=learning_rate)\n",
        "    training_pairs = [tensorsFromPair(random.choice(pairs))\n",
        "                      for i in range(n_iters)]\n",
        "    criterion = nn.NLLLoss()\n",
        "\n",
        "    for iter in range(1, n_iters + 1):\n",
        "        training_pair = training_pairs[iter - 1]\n",
        "        input_tensor = training_pair[0]\n",
        "        target_tensor = training_pair[1]\n",
        "\n",
        "        loss = train(input_tensor, target_tensor, encoder,\n",
        "                     decoder, encoder_optimizer, decoder_optimizer, criterion)\n",
        "        print_loss_total += loss\n",
        "        plot_loss_total += loss\n",
        "\n",
        "        if iter % print_every == 0:\n",
        "            print_loss_avg = print_loss_total / print_every\n",
        "            print_loss_total = 0\n",
        "            print('%s (%d %d%%) %.4f' % (timeSince(start, iter / n_iters),\n",
        "                                         iter, iter / n_iters * 100, print_loss_avg))\n",
        "\n",
        "        if iter % plot_every == 0:\n",
        "            plot_loss_avg = plot_loss_total / plot_every\n",
        "            plot_losses.append(plot_loss_avg)\n",
        "            plot_loss_total = 0\n",
        "\n",
        "    showPlot(plot_losses)"
      ]
    },
    {
      "cell_type": "code",
      "execution_count": null,
      "metadata": {
        "id": "syr8rK36FjL7"
      },
      "outputs": [],
      "source": [
        "import matplotlib.pyplot as plt\n",
        "plt.switch_backend('agg')\n",
        "import matplotlib.ticker as ticker\n",
        "import numpy as np\n",
        "%matplotlib inline\n",
        "def showPlot(train_losses, dev_losses):\n",
        "    plt.figure()\n",
        "    plt.plot(train_losses, label='Training loss')\n",
        "    plt.plot(dev_losses, label='Development loss')\n",
        "    plt.legend()\n",
        "    plt.show()"
      ]
    },
    {
      "cell_type": "code",
      "execution_count": null,
      "metadata": {
        "id": "-SmUDlGfsZ6A"
      },
      "outputs": [],
      "source": [
        "def trainIters(encoder, decoder, n_iters, dev_pairs, print_every=1000, plot_every=100, learning_rate=0.01):\n",
        "    start = time.time()\n",
        "    plot_losses = []\n",
        "    dev_losses = []\n",
        "    print_loss_total = 0  # Reset every print_every\n",
        "    plot_loss_total = 0  # Reset every plot_every\n",
        "\n",
        "    encoder_optimizer = optim.Adam(encoder.parameters(), lr=learning_rate)\n",
        "    decoder_optimizer = optim.Adam(decoder.parameters(), lr=learning_rate)\n",
        "    training_pairs = [tensorsFromPair(random.choice(pairs))\n",
        "                      for i in range(n_iters)]\n",
        "    dev_pairs2 = [tensorsFromPair(random.choice(dev_pairs))\n",
        "                      for i in range(n_iters)]\n",
        "    criterion = nn.NLLLoss()\n",
        "\n",
        "    for iter in range(1, n_iters + 1):\n",
        "        training_pair = training_pairs[iter - 1]\n",
        "        input_tensor = training_pair[0]\n",
        "        target_tensor = training_pair[1]\n",
        "\n",
        "        loss = train(input_tensor, target_tensor, encoder,\n",
        "                     decoder, encoder_optimizer, decoder_optimizer, criterion)\n",
        "        print_loss_total += loss\n",
        "        plot_loss_total += loss\n",
        "\n",
        "        if iter % print_every == 0:\n",
        "            print_loss_avg = print_loss_total / print_every\n",
        "            print_loss_total = 0\n",
        "            print('%s (%d %d%%) %.4f' % (timeSince(start, iter / n_iters),\n",
        "                                         iter, iter / n_iters * 100, print_loss_avg))\n",
        "            # Calculate development loss\n",
        "            dev_loss_total = 0\n",
        "            for dev_pair in dev_pairs2:\n",
        "                dev_input_tensor = dev_pair[0]\n",
        "                dev_target_tensor = dev_pair[1]\n",
        "                dev_loss = evaluate_loss(dev_input_tensor, dev_target_tensor, encoder, decoder, criterion)\n",
        "                dev_loss_total += dev_loss\n",
        "\n",
        "            dev_loss_avg = dev_loss_total / len(dev_pairs)\n",
        "            for x in range(10):\n",
        "              dev_losses.append(dev_loss_avg)\n",
        "            print('Dev Loss: %.4f' % dev_loss_avg)\n",
        "\n",
        "        if iter % plot_every == 0:\n",
        "            plot_loss_avg = plot_loss_total / plot_every\n",
        "            plot_losses.append(plot_loss_avg)\n",
        "            plot_loss_total = 0\n",
        "\n",
        "    showPlot(plot_losses, dev_losses)\n",
        "\n",
        "def evaluate_loss(input_tensor, target_tensor, encoder, decoder, criterion):\n",
        "    with torch.no_grad():\n",
        "        encoder_hidden = encoder.initHidden()\n",
        "\n",
        "        input_length = input_tensor.size(0)\n",
        "        target_length = target_tensor.size(0)\n",
        "\n",
        "        encoder_outputs = torch.zeros(MAX_LENGTH, encoder.hidden_size, device=device)\n",
        "\n",
        "        loss = 0\n",
        "\n",
        "        for ei in range(input_length):\n",
        "            encoder_output, encoder_hidden = encoder(input_tensor[ei],\n",
        "                                                     encoder_hidden)\n",
        "            encoder_outputs[ei] = encoder_output[0, 0]\n",
        "\n",
        "        decoder_input = torch.tensor([[SOS_token]], device=device)\n",
        "\n",
        "        decoder_hidden = encoder_hidden\n",
        "\n",
        "        for di in range(target_length):\n",
        "            decoder_output, decoder_hidden = decoder(decoder_input, decoder_hidden)\n",
        "            topv, topi = decoder_output.topk(1)\n",
        "            decoder_input = topi.squeeze().detach()  # detach from history as input\n",
        "\n",
        "            loss += criterion(decoder_output, target_tensor[di])\n",
        "            if decoder_input.item() == EOS_token:\n",
        "                break\n",
        "\n",
        "    return loss.item() / target_length\n",
        "\n",
        "def evaluate(encoder, decoder, sentence, max_length=MAX_LENGTH):\n",
        "    with torch.no_grad():\n",
        "        input_tensor = tensorFromSentence(input_lang, sentence)\n",
        "        input_length = input_tensor.size()[0]\n",
        "        encoder_hidden = encoder.initHidden()\n",
        "\n",
        "        encoder_outputs = torch.zeros(max_length, encoder.hidden_size, device=device)\n",
        "\n",
        "        for ei in range(input_length):\n",
        "            encoder_output, encoder_hidden = encoder(input_tensor[ei],\n",
        "                                                     encoder_hidden)\n",
        "            encoder_outputs[ei] += encoder_output[0, 0]\n",
        "\n",
        "        decoder_input = torch.tensor([[SOS_token]], device=device)  # SOS\n",
        "\n",
        "        decoder_hidden = encoder_hidden\n",
        "\n",
        "        decoded_words = []\n",
        "        decoder_attentions = torch.zeros(max_length, max_length)\n",
        "\n",
        "        for di in range(max_length):\n",
        "            decoder_output, decoder_hidden = decoder(\n",
        "                decoder_input, decoder_hidden)\n",
        "            topv, topi = decoder_output.data.topk(1)\n",
        "            if topi.item() == EOS_token:\n",
        "                decoded_words.append('<EOS>')\n",
        "                break\n",
        "            else:\n",
        "                decoded_words.append(output_lang.index2word[topi.item()])\n",
        "\n",
        "            decoder_input = topi.squeeze().detach()\n",
        "\n",
        "        return decoded_words\n",
        "\n",
        "def showPlot(train_losses, dev_losses):\n",
        "    plt.figure()\n",
        "    plt.plot(train_losses, label='Training loss')\n",
        "    plt.plot(dev_losses, label='Development loss')\n",
        "    plt.legend()\n",
        "    plt.show()\n",
        "\n"
      ]
    },
    {
      "cell_type": "code",
      "execution_count": null,
      "metadata": {
        "id": "8KW1K2wchL6B"
      },
      "outputs": [],
      "source": [
        "def evaluate_loss(input_tensor, target_tensor, encoder, decoder, criterion):\n",
        "    with torch.no_grad():\n",
        "        encoder_hidden = encoder.initHidden()\n",
        "\n",
        "        input_length = input_tensor.size(0)\n",
        "        target_length = target_tensor.size(0)\n",
        "\n",
        "        encoder_outputs = torch.zeros(MAX_LENGTH, encoder.hidden_size, device=device)\n",
        "\n",
        "        for ei in range(input_length):\n",
        "            encoder_output, encoder_hidden = encoder(input_tensor[ei],\n",
        "                                                     encoder_hidden)\n",
        "            encoder_outputs[ei] = encoder_output[0, 0]\n",
        "\n",
        "        decoder_input = torch.tensor([[SOS_token]], device=device)\n",
        "\n",
        "        decoder_hidden = encoder_hidden\n",
        "        decoder_outputs = []\n",
        "\n",
        "        for di in range(target_length):\n",
        "            decoder_output, decoder_hidden = decoder(decoder_input, decoder_hidden)\n",
        "            decoder_outputs.append(decoder_output)\n",
        "            topv, topi = decoder_output.topk(1)\n",
        "            decoder_input = topi.squeeze().detach()  # detach from history as input\n",
        "            if decoder_input.item() == EOS_token:\n",
        "                break\n",
        "\n",
        "        decoder_outputs = torch.cat(decoder_outputs, dim=0)\n",
        "        loss = criterion(decoder_outputs, target_tensor)\n",
        "        return loss.item() / target_length\n",
        "\n",
        "def evaluate(encoder, decoder, sentence, max_length=MAX_LENGTH):\n",
        "    with torch.no_grad():\n",
        "        input_tensor = tensorFromSentence(input_lang, sentence)\n",
        "        input_length = input_tensor.size()[0]\n",
        "        encoder_hidden = encoder.initHidden()\n",
        "\n",
        "        encoder_outputs = torch.zeros(max_length, encoder.hidden_size, device=device)\n",
        "\n",
        "        for ei in range(input_length):\n",
        "            encoder_output, encoder_hidden = encoder(input_tensor[ei],\n",
        "                                                     encoder_hidden)\n",
        "            encoder_outputs[ei] += encoder_output[0, 0]\n",
        "\n",
        "        decoder_input = torch.tensor([[SOS_token]], device=device)\n",
        "        decoder_hidden = encoder_hidden\n",
        "        decoded_words = []\n",
        "        decoder_attentions = torch.zeros(max_length, max_length)\n",
        "\n",
        "        for di in range(max_length):\n",
        "            decoder_output, decoder_hidden = decoder(decoder_input, decoder_hidden)\n",
        "            topv, topi = decoder_output.data.topk(1)\n",
        "            if topi.item() == EOS_token:\n",
        "                decoded_words.append('<EOS>')\n",
        "                break\n",
        "            else:\n",
        "                decoded_words.append(output_lang.index2word[topi.item()])\n",
        "            decoder_input = topi.squeeze().detach()\n",
        "\n",
        "        return decoded_words\n"
      ]
    },
    {
      "cell_type": "code",
      "execution_count": null,
      "metadata": {
        "id": "OwGidLALuk45"
      },
      "outputs": [],
      "source": [
        "import matplotlib.pyplot as plt\n",
        "plt.switch_backend('agg')\n",
        "import matplotlib.ticker as ticker\n",
        "import numpy as np\n",
        "%matplotlib inline\n",
        "\n",
        "def showPlot(points):\n",
        "    plt.figure()\n",
        "    fig, ax = plt.subplots()\n",
        "    # this locator puts ticks at regular intervals\n",
        "    loc = ticker.MultipleLocator(base=0.2)\n",
        "    ax.yaxis.set_major_locator(loc)\n",
        "    plt.plot(points)"
      ]
    },
    {
      "cell_type": "code",
      "execution_count": null,
      "metadata": {
        "id": "5rRvaS4vusSe"
      },
      "outputs": [],
      "source": [
        "def evaluate(encoder, decoder, sentence, max_length=MAX_LENGTH):\n",
        "    with torch.no_grad():\n",
        "        input_tensor = tensorFromSentence(input_lang, sentence)\n",
        "        input_length = input_tensor.size()[0]\n",
        "        encoder_hidden = encoder.initHidden().to(device)\n",
        "\n",
        "        encoder_outputs = torch.zeros(max_length, encoder.hidden_size, device=device)\n",
        "\n",
        "        for ei in range(input_length):\n",
        "            encoder_output, encoder_hidden = encoder(input_tensor[ei],\n",
        "                                                     encoder_hidden)\n",
        "            encoder_outputs[ei] += encoder_output[0, 0]\n",
        "\n",
        "        decoder_input = torch.tensor([[SOS_token]], device=device)  # SOS\n",
        "\n",
        "        decoder_hidden = encoder_hidden\n",
        "\n",
        "        decoded_words = []\n",
        "        decoder_attentions = torch.zeros(max_length, max_length)\n",
        "\n",
        "        for di in range(max_length):\n",
        "            decoder_output, decoder_hidden = decoder(\n",
        "                decoder_input, decoder_hidden)\n",
        "            topv, topi = decoder_output.data.topk(1)\n",
        "            if topi.item() == EOS_token:\n",
        "                decoded_words.append('<EOS>')\n",
        "                break\n",
        "            else:\n",
        "                decoded_words.append(output_lang.index2word[topi.item()])\n",
        "\n",
        "            decoder_input = topi.squeeze().detach()\n",
        "\n",
        "        return decoded_words"
      ]
    },
    {
      "cell_type": "code",
      "execution_count": null,
      "metadata": {
        "id": "ayqs64JptZi2"
      },
      "outputs": [],
      "source": [
        "def evaluateRandomly(encoder, decoder, n=10):\n",
        "    for i in range(n):\n",
        "        pair = random.choice(pairs)\n",
        "        print('>', pair[0])\n",
        "        print('=', pair[1])\n",
        "        output_words= evaluate(encoder, decoder, pair[0])\n",
        "        output_sentence = ' '.join(output_words)\n",
        "        print('<', output_sentence)\n",
        "        print('')"
      ]
    },
    {
      "cell_type": "code",
      "execution_count": null,
      "metadata": {
        "colab": {
          "base_uri": "https://localhost:8080/",
          "height": 333
        },
        "id": "bu8-ks1RcmW-",
        "outputId": "187fbd89-9a09-462a-e72b-dd28564df6c5"
      },
      "outputs": [
        {
          "ename": "KeyboardInterrupt",
          "evalue": "",
          "output_type": "error",
          "traceback": [
            "\u001b[0;31m---------------------------------------------------------------------------\u001b[0m",
            "\u001b[0;31mKeyboardInterrupt\u001b[0m                         Traceback (most recent call last)",
            "\u001b[0;32m<ipython-input-31-316c70a1f75d>\u001b[0m in \u001b[0;36m<cell line: 5>\u001b[0;34m()\u001b[0m\n\u001b[1;32m      3\u001b[0m \u001b[0mdecoder1\u001b[0m \u001b[0;34m=\u001b[0m \u001b[0mDecoderRNN\u001b[0m\u001b[0;34m(\u001b[0m\u001b[0mhidden_size\u001b[0m\u001b[0;34m,\u001b[0m \u001b[0moutput_lang\u001b[0m\u001b[0;34m.\u001b[0m\u001b[0mn_words\u001b[0m\u001b[0;34m)\u001b[0m\u001b[0;34m.\u001b[0m\u001b[0mto\u001b[0m\u001b[0;34m(\u001b[0m\u001b[0mdevice\u001b[0m\u001b[0;34m)\u001b[0m\u001b[0;34m\u001b[0m\u001b[0;34m\u001b[0m\u001b[0m\n\u001b[1;32m      4\u001b[0m \u001b[0;34m\u001b[0m\u001b[0m\n\u001b[0;32m----> 5\u001b[0;31m \u001b[0mtrainIters\u001b[0m\u001b[0;34m(\u001b[0m\u001b[0mencoder1\u001b[0m\u001b[0;34m,\u001b[0m \u001b[0mdecoder1\u001b[0m\u001b[0;34m,\u001b[0m \u001b[0;36m10000\u001b[0m\u001b[0;34m,\u001b[0m \u001b[0mprint_every\u001b[0m\u001b[0;34m=\u001b[0m\u001b[0;36m1000\u001b[0m\u001b[0;34m)\u001b[0m\u001b[0;34m\u001b[0m\u001b[0;34m\u001b[0m\u001b[0m\n\u001b[0m",
            "\u001b[0;32m<ipython-input-23-638945040bae>\u001b[0m in \u001b[0;36mtrainIters\u001b[0;34m(encoder, decoder, n_iters, print_every, plot_every, learning_rate)\u001b[0m\n\u001b[1;32m     16\u001b[0m         \u001b[0mtarget_tensor\u001b[0m \u001b[0;34m=\u001b[0m \u001b[0mtraining_pair\u001b[0m\u001b[0;34m[\u001b[0m\u001b[0;36m1\u001b[0m\u001b[0;34m]\u001b[0m\u001b[0;34m\u001b[0m\u001b[0;34m\u001b[0m\u001b[0m\n\u001b[1;32m     17\u001b[0m \u001b[0;34m\u001b[0m\u001b[0m\n\u001b[0;32m---> 18\u001b[0;31m         loss = train(input_tensor, target_tensor, encoder,\n\u001b[0m\u001b[1;32m     19\u001b[0m                      decoder, encoder_optimizer, decoder_optimizer, criterion)\n\u001b[1;32m     20\u001b[0m         \u001b[0mprint_loss_total\u001b[0m \u001b[0;34m+=\u001b[0m \u001b[0mloss\u001b[0m\u001b[0;34m\u001b[0m\u001b[0;34m\u001b[0m\u001b[0m\n",
            "\u001b[0;32m<ipython-input-22-44c30a73506e>\u001b[0m in \u001b[0;36mtrain\u001b[0;34m(input_tensor, target_tensor, encoder, decoder, encoder_optimizer, decoder_optimizer, criterion, max_length)\u001b[0m\n\u001b[1;32m     43\u001b[0m             \u001b[0;32mif\u001b[0m \u001b[0mdecoder_input\u001b[0m\u001b[0;34m.\u001b[0m\u001b[0mitem\u001b[0m\u001b[0;34m(\u001b[0m\u001b[0;34m)\u001b[0m \u001b[0;34m==\u001b[0m \u001b[0mEOS_token\u001b[0m\u001b[0;34m:\u001b[0m\u001b[0;34m\u001b[0m\u001b[0;34m\u001b[0m\u001b[0m\n\u001b[1;32m     44\u001b[0m                 \u001b[0;32mbreak\u001b[0m\u001b[0;34m\u001b[0m\u001b[0;34m\u001b[0m\u001b[0m\n\u001b[0;32m---> 45\u001b[0;31m     \u001b[0mloss\u001b[0m\u001b[0;34m.\u001b[0m\u001b[0mbackward\u001b[0m\u001b[0;34m(\u001b[0m\u001b[0;34m)\u001b[0m\u001b[0;34m\u001b[0m\u001b[0;34m\u001b[0m\u001b[0m\n\u001b[0m\u001b[1;32m     46\u001b[0m     \u001b[0mencoder_optimizer\u001b[0m\u001b[0;34m.\u001b[0m\u001b[0mstep\u001b[0m\u001b[0;34m(\u001b[0m\u001b[0;34m)\u001b[0m\u001b[0;34m\u001b[0m\u001b[0;34m\u001b[0m\u001b[0m\n\u001b[1;32m     47\u001b[0m     \u001b[0mdecoder_optimizer\u001b[0m\u001b[0;34m.\u001b[0m\u001b[0mstep\u001b[0m\u001b[0;34m(\u001b[0m\u001b[0;34m)\u001b[0m\u001b[0;34m\u001b[0m\u001b[0;34m\u001b[0m\u001b[0m\n",
            "\u001b[0;32m/usr/local/lib/python3.10/dist-packages/torch/_tensor.py\u001b[0m in \u001b[0;36mbackward\u001b[0;34m(self, gradient, retain_graph, create_graph, inputs)\u001b[0m\n\u001b[1;32m    520\u001b[0m                 \u001b[0minputs\u001b[0m\u001b[0;34m=\u001b[0m\u001b[0minputs\u001b[0m\u001b[0;34m,\u001b[0m\u001b[0;34m\u001b[0m\u001b[0;34m\u001b[0m\u001b[0m\n\u001b[1;32m    521\u001b[0m             )\n\u001b[0;32m--> 522\u001b[0;31m         torch.autograd.backward(\n\u001b[0m\u001b[1;32m    523\u001b[0m             \u001b[0mself\u001b[0m\u001b[0;34m,\u001b[0m \u001b[0mgradient\u001b[0m\u001b[0;34m,\u001b[0m \u001b[0mretain_graph\u001b[0m\u001b[0;34m,\u001b[0m \u001b[0mcreate_graph\u001b[0m\u001b[0;34m,\u001b[0m \u001b[0minputs\u001b[0m\u001b[0;34m=\u001b[0m\u001b[0minputs\u001b[0m\u001b[0;34m\u001b[0m\u001b[0;34m\u001b[0m\u001b[0m\n\u001b[1;32m    524\u001b[0m         )\n",
            "\u001b[0;32m/usr/local/lib/python3.10/dist-packages/torch/autograd/__init__.py\u001b[0m in \u001b[0;36mbackward\u001b[0;34m(tensors, grad_tensors, retain_graph, create_graph, grad_variables, inputs)\u001b[0m\n\u001b[1;32m    264\u001b[0m     \u001b[0;31m# some Python versions print out the first line of a multi-line function\u001b[0m\u001b[0;34m\u001b[0m\u001b[0;34m\u001b[0m\u001b[0m\n\u001b[1;32m    265\u001b[0m     \u001b[0;31m# calls in the traceback and some print out the last line\u001b[0m\u001b[0;34m\u001b[0m\u001b[0;34m\u001b[0m\u001b[0m\n\u001b[0;32m--> 266\u001b[0;31m     Variable._execution_engine.run_backward(  # Calls into the C++ engine to run the backward pass\n\u001b[0m\u001b[1;32m    267\u001b[0m         \u001b[0mtensors\u001b[0m\u001b[0;34m,\u001b[0m\u001b[0;34m\u001b[0m\u001b[0;34m\u001b[0m\u001b[0m\n\u001b[1;32m    268\u001b[0m         \u001b[0mgrad_tensors_\u001b[0m\u001b[0;34m,\u001b[0m\u001b[0;34m\u001b[0m\u001b[0;34m\u001b[0m\u001b[0m\n",
            "\u001b[0;31mKeyboardInterrupt\u001b[0m: "
          ]
        }
      ],
      "source": [
        "hidden_size = 256\n",
        "encoder1 = EncoderRNN(input_lang.n_words, hidden_size).to(device)\n",
        "decoder1 = DecoderRNN(hidden_size, output_lang.n_words).to(device)\n",
        "\n",
        "trainIters(encoder1, decoder1, 10000, print_every=1000)"
      ]
    },
    {
      "cell_type": "code",
      "execution_count": null,
      "metadata": {
        "colab": {
          "base_uri": "https://localhost:8080/",
          "height": 626
        },
        "id": "yEmK5TRDux4i",
        "outputId": "7b6dca03-23ef-4dea-ad5a-4eacafcc034f"
      },
      "outputs": [
        {
          "name": "stdout",
          "output_type": "stream",
          "text": [
            "1m 47s (- 16m 5s) (1000 10%) 5.6204\n",
            "3m 30s (- 14m 3s) (2000 20%) 4.6957\n",
            "5m 19s (- 12m 25s) (3000 30%) 4.3003\n",
            "7m 1s (- 10m 32s) (4000 40%) 4.1154\n",
            "8m 47s (- 8m 47s) (5000 50%) 3.9635\n",
            "10m 28s (- 6m 58s) (6000 60%) 3.9020\n",
            "12m 9s (- 5m 12s) (7000 70%) 3.7998\n",
            "13m 55s (- 3m 28s) (8000 80%) 3.7220\n",
            "15m 37s (- 1m 44s) (9000 90%) 3.6506\n",
            "17m 21s (- 0m 0s) (10000 100%) 3.6052\n"
          ]
        },
        {
          "data": {
            "text/plain": [
              "<Figure size 640x480 with 0 Axes>"
            ]
          },
          "metadata": {},
          "output_type": "display_data"
        },
        {
          "data": {
            "image/png": "[encoded data removed]",
            "text/plain": [
              "<Figure size 640x480 with 1 Axes>"
            ]
          },
          "metadata": {},
          "output_type": "display_data"
        }
      ],
      "source": [
        "hidden_size = 256\n",
        "encoder1 = EncoderRNN(input_lang.n_words, hidden_size).to(device)\n",
        "decoder1 = DecoderRNN(hidden_size, output_lang.n_words).to(device)\n",
        "\n",
        "trainIters(encoder1, decoder1, 10000, print_every=1000)"
      ]
    },
    {
      "cell_type": "code",
      "execution_count": null,
      "metadata": {
        "colab": {
          "background_save": true,
          "base_uri": "https://localhost:8080/"
        },
        "id": "T37Ilh9tux7J",
        "outputId": "99224bea-2db9-49f5-93a0-5a192180cb0c"
      },
      "outputs": [
        {
          "name": "stdout",
          "output_type": "stream",
          "text": [
            "1m 33s (- 14m 1s) (1000 10%) 5.9676\n",
            "Dev Loss: 45.6888\n",
            "6m 37s (- 26m 31s) (2000 20%) 5.8023\n",
            "Dev Loss: 100.1218\n",
            "14m 33s (- 33m 57s) (3000 30%) 5.5759\n",
            "Dev Loss: 50.9805\n",
            "19m 44s (- 29m 36s) (4000 40%) 5.4953\n",
            "Dev Loss: 106.1509\n",
            "27m 40s (- 27m 40s) (5000 50%) 5.5771\n",
            "Dev Loss: 9.9605\n",
            "30m 51s (- 20m 34s) (6000 60%) 5.3809\n",
            "Dev Loss: 10.6138\n",
            "34m 4s (- 14m 36s) (7000 70%) 5.3357\n",
            "Dev Loss: 112.3253\n",
            "41m 49s (- 10m 27s) (8000 80%) 5.2705\n",
            "Dev Loss: 115.4608\n",
            "49m 23s (- 5m 29s) (9000 90%) 5.3224\n",
            "Dev Loss: 122.2263\n",
            "57m 4s (- 0m 0s) (10000 100%) 5.4459\n",
            "Dev Loss: 114.8507\n"
          ]
        },
        {
          "data": {
            "image/png": "[encoded data removed]",
            "text/plain": [
              "<Figure size 640x480 with 1 Axes>"
            ]
          },
          "metadata": {},
          "output_type": "display_data"
        }
      ],
      "source": [
        "hidden_size = 256\n",
        "encoder1 = EncoderRNN(input_lang.n_words, hidden_size).to(device)\n",
        "decoder1 = DecoderRNN(hidden_size, output_lang.n_words).to(device)\n",
        "\n",
        "trainIters(encoder1, decoder1, 10000,dev_pairs=dev_pairs, print_every=1000)\n",
        "torch.save(encoder1.state_dict(), 'encoder1.pth')\n",
        "torch.save(decoder1.state_dict(), 'decoder1.pth')\n",
        "\n",
        "# Save the trainIters function\n",
        "import pickle\n",
        "with open('trainIters.pkl', 'wb') as f:\n",
        "    pickle.dump(trainIters, f)"
      ]
    },
    {
      "cell_type": "code",
      "execution_count": null,
      "metadata": {
        "id": "pM_73GTh493D"
      },
      "outputs": [],
      "source": [
        "def remove_stop_words(text):\n",
        "    stop_words = set(stopwords.words('english'))\n",
        "    word_tokens = word_tokenize(text)\n",
        "    filtered_text = ' '.join([word for word in word_tokens if word.lower() not in stop_words])\n",
        "    return filtered_text\n",
        "df3 = pd.read_csv(\"/content/drive/MyDrive/test.csv\")\n",
        "for x in range(len(df3['Recipe'])):\n",
        "    if type(df3['Recipe'][x]) != str:\n",
        "        df3['Recipe'][x] = ''\n",
        "# Apply the function to the DataFrame columns\n",
        "df3['Ingredients'] = df3['Ingredients'].apply(remove_stop_words)\n",
        "df3['Recipe'] = df3['Recipe'].apply(remove_stop_words)"
      ]
    },
    {
      "cell_type": "code",
      "execution_count": null,
      "metadata": {
        "colab": {
          "base_uri": "https://localhost:8080/"
        },
        "id": "Jr6EeEgTXEwe",
        "outputId": "efd773dc-1a42-4fc6-c06b-ae7d361318d9"
      },
      "outputs": [
        {
          "name": "stdout",
          "output_type": "stream",
          "text": [
            "Reading lines...\n",
            "Read 778 sentence pairs\n",
            "Trimmed to 742 sentence pairs\n",
            "Counting words...\n",
            "Counted words:\n",
            "fra 1849\n",
            "eng 3207\n",
            "[' oz bag frozen corn lb sharp cheddar cheese cn oz . chopped green chilis cloves garlic', ' jalapeno peppers cubanelle peppers onion splash tabasco shred cheese mix corn dump chilis mix . clean options lrb core seed peppers remove skin garlic rrb chop garlic peppers finely food processor slice onion fry garlic fresh peppers onion pan w little oil . saute minutes throw mix . mix put corningware .']\n"
          ]
        }
      ],
      "source": [
        "with open(\"eng-fra3.txt\", \"w\") as file:\n",
        "    for index, row in df3.iterrows():\n",
        "        file.write(f\"{row['Recipe']}:::{row['Ingredients']}\\n\")\n",
        "\n",
        "def readLangs(lang1, lang2, reverse=False, file_name='eng-fra3.txt'):\n",
        "    print(\"Reading lines...\")\n",
        "\n",
        "    # Read the file and split into lines\n",
        "    file_name = file_path + file_name\n",
        "    lines = open(file_name, encoding='utf-8').\\\n",
        "        read().strip().split('\\n')\n",
        "\n",
        "    # Split every line into pairs and normalize\n",
        "    pairs = [[normalizeString(s) for s in l.split(':::')] for l in lines]\n",
        "\n",
        "    # Reverse pairs, make Lang instances\n",
        "    if reverse:\n",
        "        pairs = [list(reversed(p)) for p in pairs]\n",
        "        input_lang = Lang(lang2)\n",
        "        output_lang = Lang(lang1)\n",
        "    else:\n",
        "        input_lang = Lang(lang1)\n",
        "        output_lang = Lang(lang2)\n",
        "\n",
        "    return input_lang, output_lang, pairs\n",
        "\n",
        "def filterPair(p):\n",
        "    return len(p[0].split(' ')) < MAX_LENGTH and \\\n",
        "        len(p[1].split(' ')) < MAX_LENGTH\n",
        "\n",
        "def filterPairs(pairs):\n",
        "    return [pair for pair in pairs if filterPair(pair)]\n",
        "\n",
        "def prepareData(lang1, lang2, reverse=False, file_name='eng-fra3.txt'):\n",
        "    input_lang, output_lang, pairs = readLangs(lang1, lang2, reverse, file_name)\n",
        "    print(\"Read %s sentence pairs\" % len(pairs))\n",
        "    pairs = filterPairs(pairs)\n",
        "    print(\"Trimmed to %s sentence pairs\" % len(pairs))\n",
        "    print(\"Counting words...\")\n",
        "    for pair in pairs:\n",
        "        input_lang.addSentence(pair[0])\n",
        "        output_lang.addSentence(pair[1])\n",
        "    print(\"Counted words:\")\n",
        "    print(input_lang.name, input_lang.n_words)\n",
        "    print(output_lang.name, output_lang.n_words)\n",
        "    return input_lang, output_lang, pairs\n",
        "\n",
        "def indexesFromSentence(lang, sentence):\n",
        "    return [lang.word2index.get(word, UNK_token) for word in sentence.split(' ')]\n",
        "\n",
        "def tensorFromSentence(lang, sentence):\n",
        "    indexes = indexesFromSentence(lang, sentence)\n",
        "    indexes.append(EOS_token)\n",
        "    return torch.tensor(indexes, dtype=torch.long).view(-1, 1)\n",
        "\n",
        "def tensorsFromPair(pair):\n",
        "    input_tensor = tensorFromSentence(input_lang, pair[0])\n",
        "    target_tensor = tensorFromSentence(output_lang, pair[1])\n",
        "    return (input_tensor, target_tensor)\n",
        "\n",
        "# Process test data\n",
        "test_input_lang, test_output_lang, test_pairs = prepareData('eng', 'fra', True, 'eng-fra3.txt')\n",
        "print(random.choice(test_pairs))\n"
      ]
    },
    {
      "cell_type": "code",
      "execution_count": null,
      "metadata": {
        "id": "Ml_4GZxsiCjf"
      },
      "outputs": [],
      "source": [
        "def evaluate(encoder, decoder, sentence, max_length=MAX_LENGTH):\n",
        "    with torch.no_grad():\n",
        "        input_tensor = tensorFromSentence(input_lang, sentence).to(device)\n",
        "        input_length = input_tensor.size()[0]\n",
        "        encoder_hidden = encoder.initHidden()\n",
        "\n",
        "        # Move each element of the encoder_hidden tuple to the device\n",
        "        encoder_hidden = tuple(h.to(device) for h in encoder_hidden)\n",
        "\n",
        "        encoder_outputs = torch.zeros(max_length, encoder.hidden_size, device=device)\n",
        "\n",
        "        for ei in range(input_length):\n",
        "            encoder_output, encoder_hidden = encoder(input_tensor[ei], encoder_hidden)\n",
        "            encoder_outputs[ei] += encoder_output[0, 0]\n",
        "\n",
        "        decoder_input = torch.tensor([[SOS_token]], device=device)  # SOS\n",
        "        decoder_hidden = encoder_hidden\n",
        "\n",
        "        decoded_words = []\n",
        "        for di in range(max_length):\n",
        "            decoder_output, decoder_hidden = decoder(\n",
        "                decoder_input, decoder_hidden)\n",
        "            topv, topi = decoder_output.topk(1)\n",
        "            if topi.item() == EOS_token:\n",
        "                decoded_words.append('<EOS>')\n",
        "                break\n",
        "            else:\n",
        "                decoded_words.append(output_lang.index2word[topi.item()])\n",
        "\n",
        "            decoder_input = topi.squeeze().detach().to(device)\n",
        "\n",
        "        return decoded_words\n"
      ]
    },
    {
      "cell_type": "code",
      "execution_count": null,
      "metadata": {
        "colab": {
          "base_uri": "https://localhost:8080/"
        },
        "id": "U803V8OBcqCq",
        "outputId": "f7a38569-38fc-436a-ee75-3b10e61a17eb"
      },
      "outputs": [
        {
          "name": "stderr",
          "output_type": "stream",
          "text": [
            "100%|██████████| 742/742 [00:15<00:00, 47.72it/s]"
          ]
        },
        {
          "name": "stdout",
          "output_type": "stream",
          "text": [
            "BLEU-4 Score: 0.001473733991008767\n"
          ]
        },
        {
          "name": "stderr",
          "output_type": "stream",
          "text": [
            "\n"
          ]
        }
      ],
      "source": [
        "import nltk\n",
        "from nltk.translate.bleu_score import sentence_bleu, corpus_bleu\n",
        "from tqdm import tqdm\n",
        "\n",
        "def evaluate_bleu(encoder, decoder, test_pairs):\n",
        "    references = []  # Stores reference sentences for each prediction\n",
        "    hypotheses = []  # Stores predicted sentences\n",
        "\n",
        "    for pair in tqdm(test_pairs):\n",
        "        input_sentence = pair[0]\n",
        "        target_sentence = pair[1]\n",
        "\n",
        "        output_words = evaluate(encoder, decoder, input_sentence)\n",
        "        output_sentence = ' '.join(output_words)\n",
        "\n",
        "        # Removing <SOS> and <EOS> tokens from target_sentence\n",
        "        target_sentence = target_sentence.split()\n",
        "        if target_sentence[0] == \"SOS\":\n",
        "            target_sentence = target_sentence[1:]\n",
        "        if target_sentence[-1] == \"EOS\":\n",
        "            target_sentence = target_sentence[:-1]\n",
        "\n",
        "        references.append([target_sentence])\n",
        "        hypotheses.append(output_words)\n",
        "\n",
        "    bleu_score = corpus_bleu(references, hypotheses)\n",
        "    return bleu_score\n",
        "\n",
        "# Assuming you have test_pairs variable containing test data\n",
        "encoder1 = encoder1.to(device)\n",
        "decoder1 = decoder1.to(device)\n",
        "\n",
        "bleu_score = evaluate_bleu(encoder1, decoder1, test_pairs)\n",
        "print(\"BLEU-4 Score:\", bleu_score)\n"
      ]
    },
    {
      "cell_type": "code",
      "execution_count": null,
      "metadata": {
        "colab": {
          "base_uri": "https://localhost:8080/"
        },
        "id": "zm4uHq7chhRK",
        "outputId": "7b4df437-149c-4004-b7a1-283f3d1bbde1"
      },
      "outputs": [
        {
          "name": "stderr",
          "output_type": "stream",
          "text": [
            "100%|██████████| 742/742 [00:19<00:00, 37.93it/s]\n"
          ]
        },
        {
          "name": "stdout",
          "output_type": "stream",
          "text": [
            "METEOR Score: 0.0\n"
          ]
        }
      ],
      "source": [
        "from nltk.translate.meteor_score import meteor_score\n",
        "def evaluate_meteor(encoder, decoder, test_pairs):\n",
        "    references = []  # Stores reference sentences for each prediction\n",
        "    hypotheses = []  # Stores predicted sentences\n",
        "\n",
        "    for pair in tqdm(test_pairs):\n",
        "        input_sentence = pair[0]\n",
        "        target_sentence = pair[1]\n",
        "\n",
        "        output_words = evaluate(encoder, decoder, input_sentence)\n",
        "        output_sentence = ' '.join(output_words)\n",
        "\n",
        "        # Split reference sentence into tokens\n",
        "        target_tokens = target_sentence.strip().split()\n",
        "\n",
        "        references.append(target_tokens)\n",
        "        hypotheses.append(output_sentence)\n",
        "\n",
        "    meteor_avg = meteor_score(references, hypotheses)\n",
        "    return meteor_avg\n",
        "\n",
        "# Assuming you have test_pairs variable containing test data\n",
        "meteor_score = evaluate_meteor(encoder1, decoder1, test_pairs)\n",
        "print(\"METEOR Score:\", meteor_score)\n",
        "\n"
      ]
    },
    {
      "cell_type": "code",
      "execution_count": null,
      "metadata": {
        "colab": {
          "base_uri": "https://localhost:8080/"
        },
        "id": "ClBVziZUeERT",
        "outputId": "25b71c13-dec8-453d-9fb1-1e18bc0e3782"
      },
      "outputs": [
        {
          "name": "stderr",
          "output_type": "stream",
          "text": [
            "100%|██████████| 742/742 [00:13<00:00, 53.40it/s]"
          ]
        },
        {
          "name": "stdout",
          "output_type": "stream",
          "text": [
            "Average Accuracy (%): 14.521298834022389\n"
          ]
        },
        {
          "name": "stderr",
          "output_type": "stream",
          "text": [
            "\n"
          ]
        }
      ],
      "source": [
        "def evaluate_accuracy(encoder, decoder, test_pairs):\n",
        "    total_correct = 0\n",
        "    total_items = 0\n",
        "\n",
        "    for pair in tqdm(test_pairs):\n",
        "        input_sentence = pair[0]\n",
        "        target_sentence = pair[1]\n",
        "\n",
        "        output_words = evaluate(encoder, decoder, input_sentence)\n",
        "        output_sentence = ' '.join(output_words)\n",
        "\n",
        "        # Tokenize target and output sentences for comparison\n",
        "        target_tokens = target_sentence.strip().split()\n",
        "        output_tokens = output_sentence.strip().split()\n",
        "\n",
        "        # Calculate number of correctly predicted items\n",
        "        correct_items = sum(1 for token in output_tokens if token in target_tokens)\n",
        "\n",
        "        total_correct += correct_items\n",
        "        total_items += len(target_tokens)\n",
        "\n",
        "    avg_accuracy = (total_correct / total_items) * 100 if total_items > 0 else 0\n",
        "    return avg_accuracy\n",
        "\n",
        "# Assuming you have test_pairs variable containing test data\n",
        "accuracy = evaluate_accuracy(encoder1, decoder1, test_pairs)\n",
        "print(\"Average Accuracy (%):\", accuracy)\n"
      ]
    },
    {
      "cell_type": "code",
      "execution_count": null,
      "metadata": {
        "colab": {
          "base_uri": "https://localhost:8080/"
        },
        "id": "LWAkylKMiv2u",
        "outputId": "0d1467ef-bf9f-4b23-a37c-c1821b98b7a6"
      },
      "outputs": [
        {
          "name": "stderr",
          "output_type": "stream",
          "text": [
            "100%|██████████| 742/742 [00:14<00:00, 51.73it/s]"
          ]
        },
        {
          "name": "stdout",
          "output_type": "stream",
          "text": [
            "Average Extra Items: 3.6199460916442048\n"
          ]
        },
        {
          "name": "stderr",
          "output_type": "stream",
          "text": [
            "\n"
          ]
        }
      ],
      "source": [
        "def evaluate_extra_items(encoder, decoder, test_pairs):\n",
        "    total_extra_items = 0\n",
        "    total_sentences = len(test_pairs)\n",
        "\n",
        "    for pair in tqdm(test_pairs):\n",
        "        input_sentence = pair[0]\n",
        "        target_sentence = pair[1]\n",
        "\n",
        "        output_words = evaluate(encoder, decoder, input_sentence)\n",
        "        output_sentence = ' '.join(output_words)\n",
        "\n",
        "        # Tokenize target and output sentences for comparison\n",
        "        target_tokens = set(target_sentence.strip().split())\n",
        "        output_tokens = set(output_sentence.strip().split())\n",
        "\n",
        "        # Calculate number of extra predicted items\n",
        "        extra_items = len(output_tokens - target_tokens)\n",
        "\n",
        "        total_extra_items += extra_items\n",
        "\n",
        "    avg_extra_items = total_extra_items / total_sentences if total_sentences > 0 else 0\n",
        "    return avg_extra_items\n",
        "\n",
        "# Assuming you have test_pairs variable containing test data\n",
        "avg_extra_items = evaluate_extra_items(encoder1, decoder1, test_pairs)\n",
        "print(\"Average Extra Items:\", avg_extra_items)\n"
      ]
    },
    {
      "cell_type": "code",
      "execution_count": null,
      "metadata": {
        "colab": {
          "base_uri": "https://localhost:8080/"
        },
        "id": "y51G1D32hRSp",
        "outputId": "8fb9c1b0-8c25-4a94-d5cc-e1c85933c570"
      },
      "outputs": [
        {
          "name": "stdout",
          "output_type": "stream",
          "text": [
            ">  c onion finely minced tb worchestershire sauce c garlic finely minced tb mustard tb tiger sauce\n",
            "= blend together ingredients .\n",
            "< heat . add remaining ingredients . <EOS>\n",
            "\n",
            ">  c corn syrup c peanut butter c brown sugar c rice krispies\n",
            "= mix corn syrup brown sugar peanut butter . cook stove low heat mixture bubbles add rice krispies mix well . put greased x pan press cooled icen chocolate icing .\n",
            "< combine ingredients . add remaining ingredients . <EOS>\n",
            "\n",
            ">  lb corned beef round water onions carrots parsnips poatatoes oz c cabbage\n",
            "= cover meat cold water dutch oven bring boil drain . add water cover bring boil reduce heat low . cover . cook meat nearly tender lrb hours rrb . skimming much fat possible cooking water rrb add vegetables cook vegetables water drain trim meat . lrb minutes rrb . remove vegetables water drain trim fat meat .\n",
            "< combine ingredients . add remaining ingredients . add remaining ingredients . add remaining ingredients . <EOS>\n",
            "\n",
            ">  c flour ts ground cinnamon c powdered sugar c red raspberry c ground walnuts preserves c margarine butter soft\n",
            "= heat oven degrees . mix ingredients except preserves til crumbly . press mixture int ungreased square pan x x inches . spread preserves . sprinkle remaining crumbs . press gently preserves . bake minutes til light golden brown . cool completely cut bars .\n",
            "< combine ingredients . add remaining ingredients . <EOS>\n",
            "\n",
            ">  c chopped fresh rosemary oz dried mixed wild mushrooms emon juice soaked hot water min tb dijon mustard drained chopped salt pepper taste lb sun dried tomatoes soaked c olive oil in hot woater min chicken breast halves the drained choppped skinned boned tb flour shallots chopped c rich beef stock broth cl garlic chopped c whipping ream lb shittake mushrooms sliced c bourbon taste \n",
            "= make marinade whisking rosemary lemon juice mustard salt pepper together slowly adding cup olive oil . pour chicken breast halves marinate hours . make sauce large heavy bottomed pan . saute shallots garlic cup olive oil light gold . add remaing olive oil rosemary shittakes wild musrooms tomatoes . stir well sprinkle flour . cook stir minutes slowly add stock stirring sauce forms . add cream bourbon salt pepper . bring boil reduce heat simmer minutes . remove heat taste adjust seasoning taste add bourbon desired . remove chicken marinade grill broil cooked still moist lrb min . rrb . meanwhlie reheat sauce .\n",
            "< combine ingredients . add remaining ingredients . add remaining ingredients . add remaining ingredients . add remaining ingredients . add remaining ingredients . add remaining ingredients . add remaining ingredients . add remaining ingredients . add remaining ingredients . add remaining ingredients . <EOS>\n",
            "\n",
            ">  qt chicken stock oz tins romano beans drained c diced carrots c chopped cooked turkey c diced celery ts ts chili powder c diced onions tb worchestershire sauce oz cans tomatoes chopped tb chopped cilantro undrained salt pepper tast oz tin tomato paste yogurt sour cream c long grain rice\n",
            "= bring stock boil . add carrots celery onions tomatoes tomato paste . simmer minutes celery carrots fork tender . add uncooked rice continue simmer minutes rice cooked . add one tin beans turkey seasonings . puree tin beans add soup thicken serve bowls sour cream thick yogurt side .\n",
            "< combine ingredients . add remaining ingredients . add remaining ingredients . add remaining ingredients . add remaining ingredients . add remaining ingredients . add remaining ingredients . add remaining ingredients . add remaining ingredients . <EOS>\n",
            "\n",
            ">  tb butter margarine oz cream chicken soup oz cream celery soup soup kraft s mayonnaise jar cheese whiz ounces cn chicken broth ounces salt pepper\n",
            "= put butter soups mayo cheez whiz quart saucepan stirring constantly medium heat smooth . stir broth season taste salt pepper . use within week .\n",
            "< combine ingredients . add remaining ingredients . add remaining ingredients . add remaining ingredients . <EOS>\n",
            "\n",
            ">  lb shrimp tb butter ea bay leaf tb flour ds red pepper tb tomato catsup ea juice lemon c milk x salt pepper taste tb worcestershire sauce\n",
            "= cream butter flour . add milk make thick cream sauce . add worcestershire sauce catsup bay leaf red pepper lemon juice . salt pepper taste . add cooked shrimp heat hot . serve rice .\n",
            "< heat . add remaining ingredients . add remaining ingredients . add remaining ingredients . add remaining ingredients . add remaining ingredients . <EOS>\n",
            "\n",
            ">  md octopus bn fennel chopped md onion chopped tomatoes fresh canned scallions chopped peeled seeded chopped c olive oil salt freshly ground pepper c dry red wine\n",
            "= beat pound rub octopus minutes rough stone surface . wash thoroughly drain cook covered pan without adding water octopus turns bright pink red feels tender . using sharp knife cut rounds width small finger . heat oil tsikali pot add onion cook translucent soft . add round octopus slices onion pour wine simmer minutes . put fennel tomatoes top octopus season salt pepper taste give pot good shake mix . cover simmer octopus fork tender lrb approximately minutes rrb . serve warm cold .\n",
            "< combine ingredients . add remaining ingredients . add remaining ingredients . add remaining ingredients . <EOS>\n",
            "\n",
            "> giblets turkey make days advance oz condensed chicken broth sl white bread stale c margarine egg slightly beaten c onion chopped ts pepper c celery chopped c pan drippings cooked tb poultry seasoning turkey lg pan cornbread\n",
            "= boil turkey giblets salted water minutes . pour water set giblets aside cool . cool chop . large saucepan combine broth margarine onions celery poultry seasoning . boil minutes . heat oven degrees . grease large baking pan margarine crumble cornbread finely . tear white bread small pieces mix corn bread hand . add eggs pepper mix well hand . pour boiling broth corn bread mixture mix well adding half giblets . bake hour basting occasionally pan drippings . bake lightly crispy around edges . put remaining giblets gravy serve turkey .\n",
            "< combine ingredients . add remaining ingredients . add remaining ingredients . add remaining ingredients . add remaining ingredients . add remaining ingredients . <EOS>\n",
            "\n"
          ]
        }
      ],
      "source": [
        "evaluateRandomly(encoder1, decoder1)"
      ]
    }
  ],
  "metadata": {
    "accelerator": "GPU",
    "colab": {
      "gpuType": "T4",
      "provenance": []
    },
    "kernelspec": {
      "display_name": "Python 3",
      "name": "python3"
    },
    "language_info": {
      "name": "python"
    }
  },
  "nbformat": 4,
  "nbformat_minor": 0
}