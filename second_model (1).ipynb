{
  "cells": [
    {
      "cell_type": "code",
      "execution_count": null,
      "metadata": {
        "colab": {
          "base_uri": "https://localhost:8080/"
        },
        "id": "jGyu-LvS2IJs",
        "outputId": "4548e90f-fbb8-46a2-ec9d-31243e48828e"
      },
      "outputs": [
        {
          "output_type": "stream",
          "name": "stdout",
          "text": [
            "Mounted at /content/drive\n"
          ]
        }
      ],
      "source": [
        "from google.colab import drive\n",
        "drive.mount('/content/drive')"
      ]
    },
    {
      "cell_type": "code",
      "execution_count": null,
      "metadata": {
        "id": "ziZcwENT2SMl"
      },
      "outputs": [],
      "source": [
        "from __future__ import unicode_literals, print_function, division\n",
        "from io import open\n",
        "import unicodedata\n",
        "import string\n",
        "import re\n",
        "import random\n",
        "import pandas as pd\n",
        "import torch\n",
        "import torch.nn as nn\n",
        "from torch import optim\n",
        "import torch.nn.functional as F\n",
        "\n",
        "device = torch.device(\"cuda\" if torch.cuda.is_available() else \"cpu\")"
      ]
    },
    {
      "cell_type": "code",
      "source": [
        "from nltk.corpus import stopwords\n",
        "from nltk.tokenize import word_tokenize\n",
        "\n",
        "def remove_stop_words(text):\n",
        "    stop_words = set(stopwords.words('english'))\n",
        "    word_tokens = word_tokenize(text)\n",
        "    filtered_text = ' '.join([word for word in word_tokens if word.lower() not in stop_words])\n",
        "    return filtered_text\n",
        "df = pd.read_csv(\"/content/drive/MyDrive/train.csv\")\n",
        "df = df.sample(frac=1).reset_index(drop=True)\n",
        "df = df[0:5000]\n",
        "for x in range(len(df['Recipe'])):\n",
        "    if type(df['Recipe'][x]) != str:\n",
        "        df['Recipe'][x] = ''\n",
        "df2 = pd.read_csv(\"/content/drive/MyDrive/dev.csv\")\n",
        "for x in range(len(df2['Recipe'])):\n",
        "    if type(df2['Recipe'][x]) != str:\n",
        "        df2['Recipe'][x] = ''\n",
        "# Apply the function to the DataFrame columns\n",
        "df['Ingredients'] = df['Ingredients'].apply(remove_stop_words)\n",
        "df['Recipe'] = df['Recipe'].apply(remove_stop_words)\n",
        "df2['Ingredients'] = df2['Ingredients'].apply(remove_stop_words)\n",
        "df2['Recipe'] = df2['Recipe'].apply(remove_stop_words)"
      ],
      "metadata": {
        "id": "3ztoca4XSD3x"
      },
      "execution_count": null,
      "outputs": []
    },
    {
      "cell_type": "code",
      "source": [
        "file_path = \"\"\n",
        "MAX_LENGTH = 150\n",
        "print(\"Maximum length of strings in 'Ingredients' column:\", MAX_LENGTH)\n",
        "with open(\"eng-fra.txt\", \"w\") as file:\n",
        "    for index, row in df.iterrows():\n",
        "        file.write(f\"{row['Recipe']}:::{row['Ingredients']}\\n\")\n",
        "\n",
        "SOS_token = 0\n",
        "EOS_token = 1\n",
        "UNK_token = 2\n",
        "\n",
        "class Lang:\n",
        "    def __init__(self, name):\n",
        "        self.name = name\n",
        "        self.word2index = {}\n",
        "        self.word2count = {}\n",
        "        self.index2word = {0: \"SOS\", 1: \"EOS\", 2: \"UNK\"}\n",
        "        self.n_words = 3  # Count SOS, EOS, and UNK\n",
        "\n",
        "    def addSentence(self, sentence):\n",
        "        for word in sentence.split(' '):\n",
        "            self.addWord(word)\n",
        "\n",
        "    def addWord(self, word):\n",
        "        if word not in self.word2index:\n",
        "            self.word2index[word] = self.n_words\n",
        "            self.word2count[word] = 1\n",
        "            self.index2word[self.n_words] = word\n",
        "            self.n_words += 1\n",
        "        else:\n",
        "            self.word2count[word] += 1\n",
        "\n",
        "def unicodeToAscii(s):\n",
        "    return ''.join(\n",
        "        c for c in unicodedata.normalize('NFD', s)\n",
        "        if unicodedata.category(c) != 'Mn'\n",
        "    )\n",
        "\n",
        "def normalizeString(s):\n",
        "    s = unicodeToAscii(s.lower().strip())\n",
        "    s = re.sub(r\"([.!?])\", r\" \\1\", s)\n",
        "    s = re.sub(r\"[^a-zA-Z.!?]+\", r\" \", s)\n",
        "    return s\n",
        "\n",
        "def readLangs(lang1, lang2, reverse=False):\n",
        "    print(\"Reading lines...\")\n",
        "\n",
        "    # Read the file and split into lines\n",
        "    file_name = file_path + 'eng-fra.txt'\n",
        "    lines = open(file_name, encoding='utf-8').\\\n",
        "        read().strip().split('\\n')\n",
        "\n",
        "    # Split every line into pairs and normalize\n",
        "    pairs = [[normalizeString(s) for s in l.split(':::')] for l in lines]\n",
        "\n",
        "    # Reverse pairs, make Lang instances\n",
        "    if reverse:\n",
        "        pairs = [list(reversed(p)) for p in pairs]\n",
        "        input_lang = Lang(lang2)\n",
        "        output_lang = Lang(lang1)\n",
        "    else:\n",
        "        input_lang = Lang(lang1)\n",
        "        output_lang = Lang(lang2)\n",
        "\n",
        "    return input_lang, output_lang, pairs\n",
        "\n",
        "def filterPair(p):\n",
        "    return len(p[0].split(' ')) < MAX_LENGTH and \\\n",
        "        len(p[1].split(' ')) < MAX_LENGTH\n",
        "\n",
        "def filterPairs(pairs):\n",
        "    return [pair for pair in pairs if filterPair(pair)]\n",
        "\n",
        "def prepareData(lang1, lang2, reverse=False):\n",
        "    input_lang, output_lang, pairs = readLangs(lang1, lang2, reverse)\n",
        "    print(\"Read %s sentence pairs\" % len(pairs))\n",
        "    pairs = filterPairs(pairs)\n",
        "    print(\"Trimmed to %s sentence pairs\" % len(pairs))\n",
        "    print(\"Counting words...\")\n",
        "    for pair in pairs:\n",
        "        input_lang.addSentence(pair[0])\n",
        "        output_lang.addSentence(pair[1])\n",
        "    print(\"Counted words:\")\n",
        "    print(input_lang.name, input_lang.n_words)\n",
        "    print(output_lang.name, output_lang.n_words)\n",
        "    return input_lang, output_lang, pairs\n",
        "\n",
        "input_lang, output_lang, pairs = prepareData('eng', 'fra', True)\n",
        "print(random.choice(pairs))\n",
        "\n",
        "def indexesFromSentence(lang, sentence):\n",
        "    return [lang.word2index.get(word, UNK_token) for word in sentence.split(' ')]\n",
        "\n",
        "def tensorFromSentence(lang, sentence):\n",
        "    indexes = indexesFromSentence(lang, sentence)\n",
        "    indexes.append(EOS_token)\n",
        "    return torch.tensor(indexes, dtype=torch.long, device=device).view(-1, 1)\n",
        "\n",
        "def tensorsFromPair(pair):\n",
        "    input_tensor = tensorFromSentence(input_lang, pair[0])\n",
        "    target_tensor = tensorFromSentence(output_lang, pair[1])\n",
        "    return (input_tensor, target_tensor)\n",
        "\n",
        "with open(\"eng-fra2.txt\", \"w\") as file:\n",
        "    for index, row in df2.iterrows():\n",
        "        file.write(f\"{row['Recipe']}:::{row['Ingredients']}\\n\")\n",
        "\n",
        "def readLangs(lang1, lang2, reverse=False):\n",
        "    print(\"Reading lines...\")\n",
        "\n",
        "    # Read the file and split into lines\n",
        "    file_name = file_path + 'eng-fra2.txt'\n",
        "    lines = open(file_name, encoding='utf-8').\\\n",
        "        read().strip().split('\\n')\n",
        "\n",
        "    # Split every line into pairs and normalize\n",
        "    pairs = [[normalizeString(s) for s in l.split(':::')] for l in lines]\n",
        "\n",
        "    # Reverse pairs, make Lang instances\n",
        "    if reverse:\n",
        "        pairs = [list(reversed(p)) for p in pairs]\n",
        "        input_lang = Lang(lang2)\n",
        "        output_lang = Lang(lang1)\n",
        "    else:\n",
        "        input_lang = Lang(lang1)\n",
        "        output_lang = Lang(lang2)\n",
        "\n",
        "    return input_lang, output_lang, pairs\n",
        "\n",
        "dev_input_lang, dev_output_lang, dev_pairs = prepareData('eng', 'fra', True)\n",
        "print(random.choice(dev_pairs))"
      ],
      "metadata": {
        "id": "_h5XNEOnR2m7"
      },
      "execution_count": null,
      "outputs": []
    },
    {
      "cell_type": "code",
      "execution_count": null,
      "metadata": {
        "id": "iQwMvVzX2SSW"
      },
      "outputs": [],
      "source": [
        "import torch\n",
        "import torch.nn as nn\n",
        "\n",
        "class EncoderRNN(nn.Module):\n",
        "    def __init__(self, input_size, hidden_size):\n",
        "        super(EncoderRNN, self).__init__()\n",
        "        self.hidden_size = hidden_size\n",
        "\n",
        "        self.embedding = nn.Embedding(input_size, hidden_size)\n",
        "        self.lstm = nn.LSTM(hidden_size, hidden_size)\n",
        "\n",
        "    def forward(self, input, hidden):\n",
        "        embedded = self.embedding(input).view(1, 1, -1)\n",
        "        output = embedded\n",
        "        output, hidden = self.lstm(output, hidden)\n",
        "        return output, hidden\n",
        "\n",
        "    def initHidden(self):\n",
        "        return torch.zeros(1, 1, self.hidden_size, device=device), torch.zeros(1, 1, self.hidden_size, device=device)"
      ]
    },
    {
      "cell_type": "code",
      "execution_count": null,
      "metadata": {
        "id": "kUMW0Qtg2SVc"
      },
      "outputs": [],
      "source": [
        "class AttnDecoderRNN(nn.Module):\n",
        "    def __init__(self, hidden_size, output_size, dropout_p=0.1, max_length=MAX_LENGTH):\n",
        "        super(AttnDecoderRNN, self).__init__()\n",
        "        self.hidden_size = hidden_size\n",
        "        self.output_size = output_size\n",
        "        self.dropout_p = dropout_p\n",
        "        self.max_length = max_length\n",
        "\n",
        "        self.embedding = nn.Embedding(self.output_size, self.hidden_size)\n",
        "        self.dropout = nn.Dropout(self.dropout_p)\n",
        "        self.lstm = nn.LSTM(self.hidden_size, self.hidden_size)  # Change GRU to LSTM\n",
        "        self.out = nn.Linear(self.hidden_size * 2, self.output_size)\n",
        "\n",
        "    def forward(self, input, hidden, encoder_outputs):\n",
        "        embedded = self.embedding(input).view(1, 1, -1)\n",
        "        embedded = self.dropout(embedded)\n",
        "\n",
        "        _, (hidden, cell_state) = self.lstm(embedded, hidden)  # Change GRU to LSTM\n",
        "\n",
        "        attn_weights = F.softmax(torch.bmm(hidden, encoder_outputs.T.unsqueeze(0)), dim=-1)\n",
        "        attn_output = torch.bmm(attn_weights, encoder_outputs.unsqueeze(0))\n",
        "\n",
        "        concat_output = torch.cat((attn_output[0], hidden[0]), 1)\n",
        "\n",
        "        output = F.log_softmax(self.out(concat_output), dim=1)\n",
        "\n",
        "        return output, (hidden, cell_state), attn_weights\n",
        "\n",
        "    def initHidden(self):\n",
        "        return torch.zeros(1, 1, self.hidden_size, device=device), torch.zeros(1, 1, self.hidden_size, device=device)\n"
      ]
    },
    {
      "cell_type": "code",
      "execution_count": null,
      "metadata": {
        "id": "8uZJTCH13m8L"
      },
      "outputs": [],
      "source": [
        "import time\n",
        "import math\n",
        "\n",
        "\n",
        "def asMinutes(s):\n",
        "    m = math.floor(s / 60)\n",
        "    s -= m * 60\n",
        "    return '%dm %ds' % (m, s)\n",
        "\n",
        "\n",
        "def timeSince(since, percent):\n",
        "    now = time.time()\n",
        "    s = now - since\n",
        "    es = s / (percent)\n",
        "    rs = es - s\n",
        "    return '%s (- %s)' % (asMinutes(s), asMinutes(rs))"
      ]
    },
    {
      "cell_type": "code",
      "execution_count": null,
      "metadata": {
        "id": "enZR8Ox_2SYC"
      },
      "outputs": [],
      "source": [
        "teacher_forcing_ratio = 1\n",
        "\n",
        "def train_attn(input_tensor, target_tensor, encoder, decoder, encoder_optimizer, decoder_optimizer, criterion, max_length=MAX_LENGTH):\n",
        "    encoder_hidden, encoder_cell = encoder.initHidden()\n",
        "\n",
        "    encoder_optimizer.zero_grad()\n",
        "    decoder_optimizer.zero_grad()\n",
        "\n",
        "    input_length = input_tensor.size(0)\n",
        "    target_length = target_tensor.size(0)\n",
        "\n",
        "    encoder_outputs = torch.zeros(max_length, encoder.hidden_size, device=device)\n",
        "\n",
        "    loss = 0\n",
        "\n",
        "    for ei in range(input_length):\n",
        "        encoder_output, (encoder_hidden, encoder_cell) = encoder(\n",
        "            input_tensor[ei], (encoder_hidden, encoder_cell))\n",
        "        encoder_outputs[ei] = encoder_output[0, 0]\n",
        "\n",
        "    decoder_input = torch.tensor([[SOS_token]], device=device)\n",
        "\n",
        "    decoder_hidden = encoder_hidden\n",
        "    decoder_cell = encoder_cell  # Initialize decoder's cell state with encoder's last cell state\n",
        "\n",
        "    use_teacher_forcing = True if random.random() < teacher_forcing_ratio else False\n",
        "\n",
        "    if use_teacher_forcing:\n",
        "        # Teacher forcing: Feed the target as the next input\n",
        "        for di in range(target_length):\n",
        "            decoder_output, (decoder_hidden, decoder_cell), decoder_attention = decoder(\n",
        "                decoder_input, (decoder_hidden, decoder_cell), encoder_outputs)\n",
        "            loss += criterion(decoder_output, target_tensor[di])\n",
        "            decoder_input = target_tensor[di]  # Teacher forcing\n",
        "\n",
        "    else:\n",
        "        # Without teacher forcing: use its own predictions as the next input\n",
        "        for di in range(target_length):\n",
        "            decoder_output, (decoder_hidden, decoder_cell), decoder_attention = decoder(\n",
        "                decoder_input, (decoder_hidden, decoder_cell), encoder_outputs)\n",
        "            topv, topi = decoder_output.topk(1)\n",
        "            decoder_input = topi.squeeze().detach()  # detach from history as input\n",
        "\n",
        "            loss += criterion(decoder_output, target_tensor[di])\n",
        "            if decoder_input.item() == EOS_token:\n",
        "                break\n",
        "\n",
        "    loss.backward()\n",
        "\n",
        "    encoder_optimizer.step()\n",
        "    decoder_optimizer.step()\n",
        "\n",
        "    return loss.item() / target_length\n"
      ]
    },
    {
      "cell_type": "code",
      "execution_count": null,
      "metadata": {
        "id": "_1Z2yASF3tUl"
      },
      "outputs": [],
      "source": [
        "import matplotlib.pyplot as plt\n",
        "plt.switch_backend('agg')\n",
        "import matplotlib.ticker as ticker\n",
        "import numpy as np\n",
        "%matplotlib inline\n",
        "\n",
        "def showPlot(points):\n",
        "    plt.figure()\n",
        "    fig, ax = plt.subplots()\n",
        "    # this locator puts ticks at regular intervals\n",
        "    loc = ticker.MultipleLocator(base=0.2)\n",
        "    ax.yaxis.set_major_locator(loc)\n",
        "    plt.plot(points)"
      ]
    },
    {
      "cell_type": "code",
      "execution_count": null,
      "metadata": {
        "id": "XCTJOM6a2SbK"
      },
      "outputs": [],
      "source": [
        "def evaluate_attn(encoder, decoder, sentence, max_length=MAX_LENGTH):\n",
        "    with torch.no_grad():\n",
        "        input_tensor = tensorFromSentence(input_lang, sentence)\n",
        "        input_length = input_tensor.size()[0]\n",
        "        encoder_hidden, encoder_cell = encoder.initHidden()\n",
        "\n",
        "        encoder_outputs = torch.zeros(max_length, encoder.hidden_size, device=device)\n",
        "\n",
        "        for ei in range(input_length):\n",
        "            encoder_output, (encoder_hidden, encoder_cell) = encoder(input_tensor[ei],\n",
        "                                                     (encoder_hidden, encoder_cell))\n",
        "            encoder_outputs[ei] += encoder_output[0, 0]\n",
        "\n",
        "        decoder_input = torch.tensor([[SOS_token]], device=device)  # SOS\n",
        "\n",
        "        decoder_hidden = encoder_hidden\n",
        "        decoder_cell = encoder_cell  # Initialize decoder's cell state with encoder's last cell state\n",
        "\n",
        "        decoded_words = []\n",
        "        decoder_attentions = torch.zeros(max_length, max_length)\n",
        "\n",
        "        for di in range(max_length):\n",
        "            decoder_output, (decoder_hidden, decoder_cell), decoder_attention = decoder(\n",
        "                decoder_input, (decoder_hidden, decoder_cell), encoder_outputs)\n",
        "            decoder_attentions[di] = decoder_attention.data\n",
        "            topv, topi = decoder_output.data.topk(1)\n",
        "            if topi.item() == EOS_token:\n",
        "                decoded_words.append('<EOS>')\n",
        "                break\n",
        "            else:\n",
        "                decoded_words.append(output_lang.index2word[topi.item()])\n",
        "\n",
        "            decoder_input = topi.squeeze().detach()\n",
        "\n",
        "        return decoded_words, decoder_attentions[:di + 1]\n"
      ]
    },
    {
      "cell_type": "code",
      "execution_count": null,
      "metadata": {
        "id": "R4A59Z-p2Sdx"
      },
      "outputs": [],
      "source": [
        "def trainIters_attn(encoder, decoder, n_iters, print_every=1000, plot_every=100, learning_rate=0.01):\n",
        "    start = time.time()\n",
        "    plot_losses = []\n",
        "    print_loss_total = 0  # Reset every print_every\n",
        "    plot_loss_total = 0  # Reset every plot_every\n",
        "\n",
        "    encoder_optimizer = optim.SGD(encoder.parameters(), lr=learning_rate)\n",
        "    decoder_optimizer = optim.SGD(decoder.parameters(), lr=learning_rate)\n",
        "    training_pairs = [tensorsFromPair(random.choice(pairs))\n",
        "                      for i in range(n_iters)]\n",
        "    criterion = nn.NLLLoss()\n",
        "\n",
        "    for iter in range(1, n_iters + 1):\n",
        "        training_pair = training_pairs[iter - 1]\n",
        "        input_tensor = training_pair[0]\n",
        "        target_tensor = training_pair[1]\n",
        "\n",
        "        encoder_hidden, encoder_cell = encoder.initHidden()  # Initialize encoder's hidden and cell states\n",
        "        decoder_hidden, decoder_cell = encoder_hidden, encoder_cell  # Initialize decoder's hidden and cell states\n",
        "\n",
        "        loss = train_attn(input_tensor, target_tensor, encoder,\n",
        "                          decoder, encoder_optimizer, decoder_optimizer, criterion)\n",
        "        print_loss_total += loss\n",
        "        plot_loss_total += loss\n",
        "\n",
        "        if iter % print_every == 0:\n",
        "            print_loss_avg = print_loss_total / print_every\n",
        "            print_loss_total = 0\n",
        "            print('%s (%d %d%%) %.4f' % (timeSince(start, iter / n_iters),\n",
        "                                         iter, iter / n_iters * 100, print_loss_avg))\n",
        "\n",
        "        if iter % plot_every == 0:\n",
        "            plot_loss_avg = plot_loss_total / plot_every\n",
        "            plot_losses.append(plot_loss_avg)\n",
        "            plot_loss_total = 0\n",
        "\n",
        "    showPlot(plot_losses)\n"
      ]
    },
    {
      "cell_type": "code",
      "execution_count": null,
      "metadata": {
        "colab": {
          "base_uri": "https://localhost:8080/",
          "height": 537
        },
        "id": "_i_grLV_2Sgo",
        "outputId": "42755b53-44af-4812-d6ea-8137bc2650db"
      },
      "outputs": [
        {
          "output_type": "stream",
          "name": "stdout",
          "text": [
            "2m 14s (- 8m 57s) (1000 20%) 5.3149\n",
            "4m 19s (- 6m 29s) (2000 40%) 4.3392\n",
            "6m 29s (- 4m 19s) (3000 60%) 4.0180\n",
            "8m 32s (- 2m 8s) (4000 80%) 3.8480\n",
            "10m 38s (- 0m 0s) (5000 100%) 3.7241\n"
          ]
        },
        {
          "output_type": "display_data",
          "data": {
            "text/plain": [
              "<Figure size 640x480 with 0 Axes>"
            ]
          },
          "metadata": {}
        },
        {
          "output_type": "display_data",
          "data": {
            "text/plain": [
              "<Figure size 640x480 with 1 Axes>"
            ],
            "image/png": "[encoded data removed]"
          },
          "metadata": {}
        }
      ],
      "source": [
        "hidden_size = 256\n",
        "encoder = EncoderRNN(input_lang.n_words, hidden_size).to(device)\n",
        "attn_decoder = AttnDecoderRNN(hidden_size, output_lang.n_words, dropout_p=0.1).to(device)\n",
        "\n",
        "trainIters_attn(encoder, attn_decoder, 5000, print_every=1000)"
      ]
    },
    {
      "cell_type": "code",
      "execution_count": null,
      "metadata": {
        "id": "iA42O4mR2Sjf"
      },
      "outputs": [],
      "source": [
        "def evaluateRandomly_attn(encoder, decoder, n=10):\n",
        "    for i in range(n):\n",
        "        pair = random.choice(pairs)\n",
        "        print('>', pair[0])\n",
        "        print('=', pair[1])\n",
        "        output_words, attention= evaluate_attn(encoder, decoder, pair[0])\n",
        "        output_sentence = ' '.join(output_words)\n",
        "        print('<', output_sentence)\n",
        "        print('')"
      ]
    },
    {
      "cell_type": "code",
      "execution_count": null,
      "metadata": {
        "id": "6hvkQOBC2SmX",
        "colab": {
          "base_uri": "https://localhost:8080/"
        },
        "outputId": "cc18e743-8e04-465e-b0e9-14702ab89c88"
      },
      "outputs": [
        {
          "output_type": "stream",
          "name": "stdout",
          "text": [
            ">  tb cumin seeds bay leaves tb coriander seeds cardamon pods cinnamon stick long ts turmeric ts cloves c canola or other mild oil ts black peppercorns\n",
            "= heat a heavy frying pan over medium heat . toss all the spices together except the turmeric and put them in the hot pan . dry toast the spices stirring constantly for min or until they turn a few shades darker and begin to release their aromas . transfer them to a bowl and let cool completely . add the turmeric and them grind all the spices to a fine powder in a spice mill . stir the spice in with the oil in a clean dry container . cover and let sit at room temperature for three days or until the desired taste is reached . stir or shake once a day . strain through cheesecloth into a clean dry bottle .\n",
            "< combine all ingredients except the ingredients except the salt . cover the heat and simmer for hour . add the remaining ingredients and simmer for hour . add the remaining ingredients and simmer for hour . add the remaining ingredients and simmer for hour . add the remaining ingredients and simmer for hour . add the remaining ingredients and simmer for hour . add the remaining ingredients and simmer for hour . add the remaining ingredients and simmer for hour . add the remaining ingredients and simmer for hour . add the remaining ingredients and simmer for hour . add the remaining ingredients and simmer for hour . add the remaining ingredients and simmer for hour . add the remaining ingredients and simmer for hour . add the remaining ingredients and simmer for hour . add the remaining ingredients except the salt . simmer for hour . add the remaining\n",
            "\n",
            ">  tb celery finely chopped tb onions finely chopped tb green bell peppers finely c oz frozen whole kernel corn c peeled diced potatoes tb chopped fresh parsley c water ts salt ts fresh ground black pepper ts paprika tb flour c evaporated skim milk c lowfat milk or skim milk\n",
            "= put celery onion and green pepper in a pan sprayed with pam and saute for minutes . add corn potatoes water salt pepper and paprika . bring to a boil reduce heat to medium and cook covered about minutes or until potatoes are tender . place cup milk in a jar with tight fitting lid . add flour and shake vigorously . add gradually to cooked vegetables and add remaining milk . cook stirring constantly until mixture comes to a boil and thickens . serve garnished with chopped fresh parsley .\n",
            "< in a medium saucepan heat resistant non metallic bowl combine all ingredients except the remaining ingredients except the milk in a medium saucepan and bring to a boil . add the milk and stir fry for minutes . add the milk and cook over low heat until the mixture is thickened . add the milk and stir fry for minutes . add the milk and stir fry for minutes . add the milk and cook until the mixture is thickened . add the milk and cook over low heat until the mixture is thickened . add the milk and cook until thickened . add the milk and stir fry for minutes . add the milk and stir fry for minutes . add the milk and stir fry for minutes . add the milk and stir the mixture . cover the heat and simmer for minutes . add the milk and\n",
            "\n",
            ">  sm onion sliced and minced tb olive oil lb mushrooms chopped fine salt and pepper tb lemon juice wild chives chopped tb sour cream\n",
            "= continental mushroom caviar fry the onion in the oil until soft and limp . add mushrooms and cook until just barely soft . add seasoning and other ingredients . chill well before serving time .\n",
            "< place the onion in a large skillet and saute the onion and celery in the oil until the onion is tender . add the garlic and cook until the onion is tender . add the garlic and cook until the mixture is golden brown on the liquid has thickened . add the remaining ingredients and simmer for a couple of minutes . add the remaining ingredients and bring to a boil . reduce the heat to low and simmer for minutes . add the remaining ingredients and simmer for a couple of minutes . add the remaining ingredients and bring to a boil . reduce the heat to low and simmer covered for minutes . add the remaining ingredients and simmer for hour . add the remaining ingredients and simmer for hour . add the remaining ingredients and simmer for hour . add the remaining ingredients and simmer for hour\n",
            "\n",
            ">  pk the turkey store extra lean tb white vinegar ground breast . lbs . tb brown sugar c chopped onion ts dry mustard c chopped green pepper ts black pepper c chopped celery ea reduced calorie hamburger cn oz . no salt tomato buns sauce\n",
            "= spray large skillet with no stick cooking spray . heat over medium high heat about seconds . crumble extra lean ground turkey breast into skillet . add onion bell pepper and celery . cook and stir to minutes or until turkey is lightly browned and vegetables are tender . stir in tomato sauce vinegar sugar and mustard . reduce heat to low . cook to minutes until most of liquid is absorbed stirring occasionally . serve on hamburger buns .\n",
            "< in a medium saucepan heat the butter and saute the onions celery and celery in the butter until the onion is tender . add the carrots and cook for minutes . add the carrots and cook for minutes . add the carrots and cook for minutes . add the remaining ingredients and simmer for hour . remove the heat and simmer covered for minutes . add the remaining ingredients and simmer for hour . remove the heat and simmer covered for hour . remove the heat and simmer covered for about hour . add the remaining ingredients and simmer for minutes . add the remaining ingredients and simmer for hour . add the remaining ingredients and simmer for hour . add the remaining ingredients and simmer for hour . add the remaining ingredients and simmer for hour . add the remaining ingredients and simmer for hour . add the remaining\n",
            "\n",
            ">  c grated cheese any kind of hard grating cheese ts salt ts paprika ts worcestershire sauce ts vinegar ts peanut butter ts or more prepared mustard few grains cayenne\n",
            "= combine and blend throughly . spread between two slices of any kind of bread . jeannie allen\n",
            "< in a medium saucepan heat the butter and stir fry until the onions are soft . add the remaining ingredients and mix until smooth . add the remaining ingredients and mix until smooth . stir in the salt pepper and serve . <EOS>\n",
            "\n",
            ">  lb beef shank lb veal shank bay leaf tb chopped parsley salt and pepper qt chicken stock tb butter or butter substitute qt cold water clove c diced carrot c diced celery tb minced onion\n",
            "= cut meat from beef shank . crush bone . combine veal beef and crushed bone . add water bay leaf teaspoons salt and clove . cover . simmer to hours . skim frequently . add chicken stock . add vegetables which have been browned in butter . season to taste . cover and simmer hours . strain . clear . heat to boiling . serve at once or store in refrigerator until needed .\n",
            "< saute the onions and celery in butter until tender . add the chicken stock and simmer for about minutes . add the chicken stock and simmer for hour . add the chicken stock and simmer for hour . add the chicken stock and simmer for hour . add the chicken stock and simmer for hour . add the chicken stock and simmer for hour . add the chicken stock and simmer for hour . add the chicken stock and simmer for minutes . add the chicken stock and simmer for hour . add the chicken stock and simmer for hour . add the chicken stock and simmer for hour . add the chicken stock and simmer for hour . add the chicken stock and simmer for hour . add the chicken stock and simmer for hour . add the chicken stock and simmer for hour . add the chicken stock\n",
            "\n",
            ">  lb fine oatmeal lb flour oz yeast ts sugar ts salt pt warm water to mix approxmately for small quantity tb flour tb oatmeal ts baking powder water to mix\n",
            "= mix the oatmeal flour and salt in a warm bowl . cream the yeast with the sugar and add pint of the warm water . pour the yeast mixture into the dry ingredients and add the rest of the water mixing slowly until a thin batter is formed . set aside in a warm place until well risen about minutes . grease a large frying pan and heat . pour cupfuls of the batter on to the hot pan and cook like thick pancakes for minutes on each side . serve warmed up in a frying pan with bacon and eggs or with lemon juice and sugar or toasted with cheese or golden syrup . to make a small quantity mix the flour oatmeal and the salt with the water to form a thin batter and add the baking powder just before cooking .\n",
            "< in a medium saucepan heat resistant non metallic baking pan heat resistant non metallic heat resistant non metallic heat resistant non metallic bowl . add flour baking powder salt and pepper . add flour mixture . stir in flour baking powder baking soda and salt . add to creamed mixture . stir in flour baking powder baking powder salt and baking powder . mix in egg yolks with milk . stir in flour mixture . stir in flour baking powder baking powder salt and baking powder . mix in egg mixture . mix in flour baking powder baking soda powder salt and nutmeg . mix in egg yolks with milk . add flour mixture . stir in flour baking powder baking powder salt and baking powder . mix in egg white . <EOS>\n",
            "\n",
            ">  c flour oz chicken stock c creamed corn potatoes small diced and c ooked until tender pt milk whole heated c cream light heated\n",
            "= chop or grind bacon . cook until bacon starts to render fat . add onions and saute until tender . add flour and mix well . cook without browning to minutes . slowly add chicken stock stirring until smooth . add corn potatoes milk cream and salt and pepper to taste . heat gently .\n",
            "< heat the oven to f . in a medium saucepan heat the butter and stir the butter until the mixture is smooth and smooth . add the remaining ingredients and mix until smooth . add the remaining ingredients and mix until smooth . add the remaining ingredients and mix until the mixture is smooth . add the remaining ingredients and mix until smooth . pour into the pan . bake at degrees for about hour . <EOS>\n",
            "\n",
            ">  lb hazelnuts crushed ts salt c water c corn oil c corn flour\n",
            "= boil the nuts in the water until they turn to a mash . mix together the flour salt add them to the mashed nuts . let the mixture thicken for minutes . heat the oil in a good saucepan . drop the mixture one tablespoon at a time into the hot oil . fry both sides until golden brown .\n",
            "< place the flour in a large bowl and stir together the flour salt and pepper . add the flour and mix until the mixture is smooth . add the buttermilk mixture and stir until the mixture is smooth . add the buttermilk mixture and stir well . add the remaining ingredients and mix until smooth . add the remaining ingredients and mix until smooth . <EOS>\n",
            "\n",
            ">  c sugar c water tb instant coffee granules qt vodka tb vanilla extract\n",
            "= combine sugar water and coffee granules in a heavy saucepan . bring to a boil cover reduce heat and simmer minutes . remove from heat and cool . stir in vodka and vanilla pour into bottles and cover with pastic wrap . punch holes in plastic wrap and store in a cool dark place weeks . for later use store in airtight containers . cups .\n",
            "< in a medium saucepan combine the sugar and water . add the remaining ingredients and mix until the mixture is smooth . add the vanilla and mix until smooth . add the vanilla and vanilla . cover the heat and simmer for about hour . remove the pan from heat and cool . stir the mixture into the soup . add the vanilla and vanilla . add the vanilla and mix until the mixture is smooth . add the vanilla and vanilla . cover the heat and simmer for minutes . cool in the refrigerator . <EOS>\n",
            "\n"
          ]
        }
      ],
      "source": [
        "evaluateRandomly_attn(encoder, attn_decoder)"
      ]
    },
    {
      "cell_type": "code",
      "execution_count": null,
      "metadata": {
        "id": "zk7CS7S_2SpO"
      },
      "outputs": [],
      "source": []
    }
  ],
  "metadata": {
    "accelerator": "GPU",
    "colab": {
      "gpuType": "T4",
      "provenance": []
    },
    "kernelspec": {
      "display_name": "Python 3",
      "name": "python3"
    },
    "language_info": {
      "name": "python"
    }
  },
  "nbformat": 4,
  "nbformat_minor": 0
}